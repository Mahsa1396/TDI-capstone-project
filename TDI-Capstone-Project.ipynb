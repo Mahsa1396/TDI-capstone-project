{
 "cells": [
  {
   "cell_type": "markdown",
   "metadata": {},
   "source": [
    "# First Step: reading all the datasets, cleaning them, dealing with missing values, and merging all 4 datasets."
   ]
  },
  {
   "cell_type": "markdown",
   "metadata": {},
   "source": [
    "## reding the checkouts dataset:"
   ]
  },
  {
   "cell_type": "code",
   "execution_count": 1,
   "metadata": {},
   "outputs": [],
   "source": [
    "import pandas as pd"
   ]
  },
  {
   "cell_type": "code",
   "execution_count": 2,
   "metadata": {},
   "outputs": [
    {
     "data": {
      "text/html": [
       "<div>\n",
       "<style scoped>\n",
       "    .dataframe tbody tr th:only-of-type {\n",
       "        vertical-align: middle;\n",
       "    }\n",
       "\n",
       "    .dataframe tbody tr th {\n",
       "        vertical-align: top;\n",
       "    }\n",
       "\n",
       "    .dataframe thead th {\n",
       "        text-align: right;\n",
       "    }\n",
       "</style>\n",
       "<table border=\"1\" class=\"dataframe\">\n",
       "  <thead>\n",
       "    <tr style=\"text-align: right;\">\n",
       "      <th></th>\n",
       "      <th>id</th>\n",
       "      <th>patron_id</th>\n",
       "      <th>library_id</th>\n",
       "      <th>date_checkout</th>\n",
       "      <th>date_returned</th>\n",
       "    </tr>\n",
       "  </thead>\n",
       "  <tbody>\n",
       "    <tr>\n",
       "      <th>0</th>\n",
       "      <td>-xFj0vTLbRIC</td>\n",
       "      <td>b071c9c68228a2b1d00e6f53677e16da</td>\n",
       "      <td>225-222@5xc-jtz-hkf</td>\n",
       "      <td>2019-01-28</td>\n",
       "      <td>2018-11-13</td>\n",
       "    </tr>\n",
       "    <tr>\n",
       "      <th>1</th>\n",
       "      <td>HUX-y4oXl04C</td>\n",
       "      <td>8d3f63e1deed89d7ba1bf6a4eb101373</td>\n",
       "      <td>223-222@5xc-jxr-tgk</td>\n",
       "      <td>2018-05-29</td>\n",
       "      <td>2018-06-12</td>\n",
       "    </tr>\n",
       "    <tr>\n",
       "      <th>2</th>\n",
       "      <td>TQpFnkku2poC</td>\n",
       "      <td>4ae202f8de762591734705e0079d76df</td>\n",
       "      <td>228-222@5xc-jtz-hwk</td>\n",
       "      <td>2018-11-23</td>\n",
       "      <td>2019-01-24</td>\n",
       "    </tr>\n",
       "    <tr>\n",
       "      <th>3</th>\n",
       "      <td>OQ6sDwAAQBAJ</td>\n",
       "      <td>f9372de3c8ea501601aa3fb59ec0f524</td>\n",
       "      <td>23v-222@5xc-jv7-v4v</td>\n",
       "      <td>2018-01-15</td>\n",
       "      <td>2018-04-25</td>\n",
       "    </tr>\n",
       "    <tr>\n",
       "      <th>4</th>\n",
       "      <td>7T9-BAAAQBAJ</td>\n",
       "      <td>2cf3cc3b9e9f6c608767da8d350f77c9</td>\n",
       "      <td>225-222@5xc-jtz-hkf</td>\n",
       "      <td>2018-12-31</td>\n",
       "      <td>1804-01-23</td>\n",
       "    </tr>\n",
       "  </tbody>\n",
       "</table>\n",
       "</div>"
      ],
      "text/plain": [
       "             id                         patron_id           library_id  \\\n",
       "0  -xFj0vTLbRIC  b071c9c68228a2b1d00e6f53677e16da  225-222@5xc-jtz-hkf   \n",
       "1  HUX-y4oXl04C  8d3f63e1deed89d7ba1bf6a4eb101373  223-222@5xc-jxr-tgk   \n",
       "2  TQpFnkku2poC  4ae202f8de762591734705e0079d76df  228-222@5xc-jtz-hwk   \n",
       "3  OQ6sDwAAQBAJ  f9372de3c8ea501601aa3fb59ec0f524  23v-222@5xc-jv7-v4v   \n",
       "4  7T9-BAAAQBAJ  2cf3cc3b9e9f6c608767da8d350f77c9  225-222@5xc-jtz-hkf   \n",
       "\n",
       "  date_checkout date_returned  \n",
       "0    2019-01-28    2018-11-13  \n",
       "1    2018-05-29    2018-06-12  \n",
       "2    2018-11-23    2019-01-24  \n",
       "3    2018-01-15    2018-04-25  \n",
       "4    2018-12-31    1804-01-23  "
      ]
     },
     "execution_count": 2,
     "metadata": {},
     "output_type": "execute_result"
    }
   ],
   "source": [
    "checkouts = pd.read_csv('checkouts.csv')\n",
    "checkouts.head()"
   ]
  },
  {
   "cell_type": "code",
   "execution_count": 3,
   "metadata": {},
   "outputs": [
    {
     "data": {
      "text/plain": [
       "id                0\n",
       "patron_id         0\n",
       "library_id        0\n",
       "date_checkout    65\n",
       "date_returned    58\n",
       "dtype: int64"
      ]
     },
     "execution_count": 3,
     "metadata": {},
     "output_type": "execute_result"
    }
   ],
   "source": [
    "checkouts.isna().sum()"
   ]
  },
  {
   "cell_type": "markdown",
   "metadata": {},
   "source": [
    "### now we need to drop the rows where date_checkout and date_returned values are none, because the difference between these two, will create the target variable for us."
   ]
  },
  {
   "cell_type": "code",
   "execution_count": 4,
   "metadata": {},
   "outputs": [],
   "source": [
    "checkouts.dropna(inplace=True)"
   ]
  },
  {
   "cell_type": "code",
   "execution_count": 5,
   "metadata": {},
   "outputs": [
    {
     "data": {
      "text/plain": [
       "id               object\n",
       "patron_id        object\n",
       "library_id       object\n",
       "date_checkout    object\n",
       "date_returned    object\n",
       "dtype: object"
      ]
     },
     "execution_count": 5,
     "metadata": {},
     "output_type": "execute_result"
    }
   ],
   "source": [
    "checkouts.dtypes"
   ]
  },
  {
   "cell_type": "markdown",
   "metadata": {},
   "source": [
    "### now we need to change the type of date_returned and date_checkout to datetime, so we can calculate the difference between them:"
   ]
  },
  {
   "cell_type": "code",
   "execution_count": 6,
   "metadata": {},
   "outputs": [],
   "source": [
    "checkouts['date_checkout'] = pd.to_datetime(checkouts['date_checkout'], errors='coerce', format='%Y-%m-%d')\n",
    "checkouts['date_returned'] = pd.to_datetime(checkouts['date_returned'], errors='coerce', format='%Y-%m-%d')"
   ]
  },
  {
   "cell_type": "markdown",
   "metadata": {},
   "source": [
    "### using .to_julian_date(), we can get the number of days between date_checkout and date_returned:"
   ]
  },
  {
   "cell_type": "code",
   "execution_count": 7,
   "metadata": {},
   "outputs": [],
   "source": [
    "checkouts['numdays'] = pd.DatetimeIndex(pd.to_datetime(checkouts['date_returned'])).to_julian_date()- pd.DatetimeIndex(pd.to_datetime(checkouts['date_checkout'])).to_julian_date()"
   ]
  },
  {
   "cell_type": "code",
   "execution_count": 8,
   "metadata": {},
   "outputs": [
    {
     "data": {
      "text/html": [
       "<div>\n",
       "<style scoped>\n",
       "    .dataframe tbody tr th:only-of-type {\n",
       "        vertical-align: middle;\n",
       "    }\n",
       "\n",
       "    .dataframe tbody tr th {\n",
       "        vertical-align: top;\n",
       "    }\n",
       "\n",
       "    .dataframe thead th {\n",
       "        text-align: right;\n",
       "    }\n",
       "</style>\n",
       "<table border=\"1\" class=\"dataframe\">\n",
       "  <thead>\n",
       "    <tr style=\"text-align: right;\">\n",
       "      <th></th>\n",
       "      <th>id</th>\n",
       "      <th>patron_id</th>\n",
       "      <th>library_id</th>\n",
       "      <th>date_checkout</th>\n",
       "      <th>date_returned</th>\n",
       "      <th>numdays</th>\n",
       "    </tr>\n",
       "  </thead>\n",
       "  <tbody>\n",
       "    <tr>\n",
       "      <th>0</th>\n",
       "      <td>-xFj0vTLbRIC</td>\n",
       "      <td>b071c9c68228a2b1d00e6f53677e16da</td>\n",
       "      <td>225-222@5xc-jtz-hkf</td>\n",
       "      <td>2019-01-28</td>\n",
       "      <td>2018-11-13</td>\n",
       "      <td>-76.0</td>\n",
       "    </tr>\n",
       "    <tr>\n",
       "      <th>1</th>\n",
       "      <td>HUX-y4oXl04C</td>\n",
       "      <td>8d3f63e1deed89d7ba1bf6a4eb101373</td>\n",
       "      <td>223-222@5xc-jxr-tgk</td>\n",
       "      <td>2018-05-29</td>\n",
       "      <td>2018-06-12</td>\n",
       "      <td>14.0</td>\n",
       "    </tr>\n",
       "    <tr>\n",
       "      <th>2</th>\n",
       "      <td>TQpFnkku2poC</td>\n",
       "      <td>4ae202f8de762591734705e0079d76df</td>\n",
       "      <td>228-222@5xc-jtz-hwk</td>\n",
       "      <td>2018-11-23</td>\n",
       "      <td>2019-01-24</td>\n",
       "      <td>62.0</td>\n",
       "    </tr>\n",
       "    <tr>\n",
       "      <th>3</th>\n",
       "      <td>OQ6sDwAAQBAJ</td>\n",
       "      <td>f9372de3c8ea501601aa3fb59ec0f524</td>\n",
       "      <td>23v-222@5xc-jv7-v4v</td>\n",
       "      <td>2018-01-15</td>\n",
       "      <td>2018-04-25</td>\n",
       "      <td>100.0</td>\n",
       "    </tr>\n",
       "    <tr>\n",
       "      <th>4</th>\n",
       "      <td>7T9-BAAAQBAJ</td>\n",
       "      <td>2cf3cc3b9e9f6c608767da8d350f77c9</td>\n",
       "      <td>225-222@5xc-jtz-hkf</td>\n",
       "      <td>2018-12-31</td>\n",
       "      <td>1804-01-23</td>\n",
       "      <td>-78505.0</td>\n",
       "    </tr>\n",
       "  </tbody>\n",
       "</table>\n",
       "</div>"
      ],
      "text/plain": [
       "             id                         patron_id           library_id  \\\n",
       "0  -xFj0vTLbRIC  b071c9c68228a2b1d00e6f53677e16da  225-222@5xc-jtz-hkf   \n",
       "1  HUX-y4oXl04C  8d3f63e1deed89d7ba1bf6a4eb101373  223-222@5xc-jxr-tgk   \n",
       "2  TQpFnkku2poC  4ae202f8de762591734705e0079d76df  228-222@5xc-jtz-hwk   \n",
       "3  OQ6sDwAAQBAJ  f9372de3c8ea501601aa3fb59ec0f524  23v-222@5xc-jv7-v4v   \n",
       "4  7T9-BAAAQBAJ  2cf3cc3b9e9f6c608767da8d350f77c9  225-222@5xc-jtz-hkf   \n",
       "\n",
       "  date_checkout date_returned  numdays  \n",
       "0    2019-01-28    2018-11-13    -76.0  \n",
       "1    2018-05-29    2018-06-12     14.0  \n",
       "2    2018-11-23    2019-01-24     62.0  \n",
       "3    2018-01-15    2018-04-25    100.0  \n",
       "4    2018-12-31    1804-01-23 -78505.0  "
      ]
     },
     "execution_count": 8,
     "metadata": {},
     "output_type": "execute_result"
    }
   ],
   "source": [
    "checkouts.head()"
   ]
  },
  {
   "cell_type": "markdown",
   "metadata": {},
   "source": [
    "### here we notice some negative numbers in 'numdays', there are also some very big numbers, which means that the dates were entered were not correct, so we need to remove those:"
   ]
  },
  {
   "cell_type": "code",
   "execution_count": 9,
   "metadata": {},
   "outputs": [],
   "source": [
    "checkouts = checkouts[(checkouts['numdays']>0) & (checkouts['numdays']<365)]"
   ]
  },
  {
   "cell_type": "markdown",
   "metadata": {},
   "source": [
    "### now I create my target variable, when numdays is greater that 28, the target will be 1, which means that it is a late return, otherwise the target is zero, which means that the return was not late:"
   ]
  },
  {
   "cell_type": "code",
   "execution_count": 10,
   "metadata": {},
   "outputs": [],
   "source": [
    "import numpy as np\n",
    "checkouts['late'] = np.where(checkouts['numdays'] > 28, 1, 0)"
   ]
  },
  {
   "cell_type": "markdown",
   "metadata": {},
   "source": [
    "# Second step: reading and analyzing the customers dataset:"
   ]
  },
  {
   "cell_type": "code",
   "execution_count": 11,
   "metadata": {},
   "outputs": [],
   "source": [
    "customers = pd.read_csv('customers.csv')"
   ]
  },
  {
   "cell_type": "code",
   "execution_count": 12,
   "metadata": {},
   "outputs": [
    {
     "data": {
      "text/html": [
       "<div>\n",
       "<style scoped>\n",
       "    .dataframe tbody tr th:only-of-type {\n",
       "        vertical-align: middle;\n",
       "    }\n",
       "\n",
       "    .dataframe tbody tr th {\n",
       "        vertical-align: top;\n",
       "    }\n",
       "\n",
       "    .dataframe thead th {\n",
       "        text-align: right;\n",
       "    }\n",
       "</style>\n",
       "<table border=\"1\" class=\"dataframe\">\n",
       "  <thead>\n",
       "    <tr style=\"text-align: right;\">\n",
       "      <th></th>\n",
       "      <th>id</th>\n",
       "      <th>name</th>\n",
       "      <th>street_address</th>\n",
       "      <th>city</th>\n",
       "      <th>state</th>\n",
       "      <th>zipcode</th>\n",
       "      <th>birth_date</th>\n",
       "      <th>gender</th>\n",
       "      <th>education</th>\n",
       "      <th>occupation</th>\n",
       "    </tr>\n",
       "  </thead>\n",
       "  <tbody>\n",
       "    <tr>\n",
       "      <th>0</th>\n",
       "      <td>df83ec2d0d409395c0d8c2690cfa8b67</td>\n",
       "      <td>Cynthia Barnfield</td>\n",
       "      <td>44 NE Meikle Pl</td>\n",
       "      <td>Portland</td>\n",
       "      <td>Oregon</td>\n",
       "      <td>97213.0</td>\n",
       "      <td>2009-09-10</td>\n",
       "      <td>female</td>\n",
       "      <td>High School</td>\n",
       "      <td>NaN</td>\n",
       "    </tr>\n",
       "    <tr>\n",
       "      <th>1</th>\n",
       "      <td>6aec7ab2ea0d67161dac39e5dcabd857</td>\n",
       "      <td>Elizabeth Smith</td>\n",
       "      <td>7511 SE Harrison St</td>\n",
       "      <td>Portland</td>\n",
       "      <td>Oregon</td>\n",
       "      <td>97215.0</td>\n",
       "      <td>1956-12-15</td>\n",
       "      <td>female</td>\n",
       "      <td>College</td>\n",
       "      <td>Blue Collar</td>\n",
       "    </tr>\n",
       "    <tr>\n",
       "      <th>2</th>\n",
       "      <td>0c54340672f510fdb9d2f30595c1ab53</td>\n",
       "      <td>Richard Pabla</td>\n",
       "      <td>1404 SE Pine St</td>\n",
       "      <td>Portland</td>\n",
       "      <td>Oregon</td>\n",
       "      <td>97214.0</td>\n",
       "      <td>1960-12-18</td>\n",
       "      <td>male</td>\n",
       "      <td>College</td>\n",
       "      <td>Education &amp; Health</td>\n",
       "    </tr>\n",
       "    <tr>\n",
       "      <th>3</th>\n",
       "      <td>f0d9ce833ddc1f73c1e0b55bdebf012e</td>\n",
       "      <td>Charles Baker</td>\n",
       "      <td>12271 N Westshore Dr</td>\n",
       "      <td>Portland</td>\n",
       "      <td>Oregon</td>\n",
       "      <td>97217.0</td>\n",
       "      <td>2105-07-19</td>\n",
       "      <td>male</td>\n",
       "      <td>Graduate Degree</td>\n",
       "      <td>SALES</td>\n",
       "    </tr>\n",
       "    <tr>\n",
       "      <th>4</th>\n",
       "      <td>3720379163f6b46944db6c98c0485bfd</td>\n",
       "      <td>Ronald Lydon</td>\n",
       "      <td>5321 NE Skyport Way</td>\n",
       "      <td>NaN</td>\n",
       "      <td>Oregon</td>\n",
       "      <td>97218.0</td>\n",
       "      <td>1961-03-14</td>\n",
       "      <td>male</td>\n",
       "      <td>Graduate Degree</td>\n",
       "      <td>Blue Collar</td>\n",
       "    </tr>\n",
       "  </tbody>\n",
       "</table>\n",
       "</div>"
      ],
      "text/plain": [
       "                                 id               name        street_address  \\\n",
       "0  df83ec2d0d409395c0d8c2690cfa8b67  Cynthia Barnfield       44 NE Meikle Pl   \n",
       "1  6aec7ab2ea0d67161dac39e5dcabd857    Elizabeth Smith   7511 SE Harrison St   \n",
       "2  0c54340672f510fdb9d2f30595c1ab53      Richard Pabla       1404 SE Pine St   \n",
       "3  f0d9ce833ddc1f73c1e0b55bdebf012e      Charles Baker  12271 N Westshore Dr   \n",
       "4  3720379163f6b46944db6c98c0485bfd       Ronald Lydon   5321 NE Skyport Way   \n",
       "\n",
       "        city   state  zipcode  birth_date   gender        education  \\\n",
       "0  Portland   Oregon  97213.0  2009-09-10   female      High School   \n",
       "1   Portland  Oregon  97215.0  1956-12-15   female          College   \n",
       "2   Portland  Oregon  97214.0  1960-12-18     male          College   \n",
       "3   Portland  Oregon  97217.0  2105-07-19     male  Graduate Degree   \n",
       "4        NaN  Oregon  97218.0  1961-03-14     male  Graduate Degree   \n",
       "\n",
       "           occupation  \n",
       "0                 NaN  \n",
       "1         Blue Collar  \n",
       "2  Education & Health  \n",
       "3               SALES  \n",
       "4         Blue Collar  "
      ]
     },
     "execution_count": 12,
     "metadata": {},
     "output_type": "execute_result"
    }
   ],
   "source": [
    "customers.head()"
   ]
  },
  {
   "cell_type": "markdown",
   "metadata": {},
   "source": [
    "### cleaning the customers dataset:"
   ]
  },
  {
   "cell_type": "code",
   "execution_count": 13,
   "metadata": {},
   "outputs": [
    {
     "data": {
      "text/plain": [
       "array(['Portland ', ' Portland', 'Portland', nan, 'Happy Valley',\n",
       "       'Lake Oswego', 'Vancouver', 'Beaverton', 'PORTLAND', 'Gresham',\n",
       "       'West Linn', 'Vancouver ', 'Tualatin', 'Oregon City', 'Damascus',\n",
       "       'portland', 'Clackamas', ' Vancouver', 'Hillsboro', 'Lake  Oswego',\n",
       "       'Lake OSWEGO', 'Happy  Valley', 'Lake   Oswego', 'VANCOUVER',\n",
       "       'vancouver', 'Gladstone', 'BEAVERTON', 'HAPPY Valley', 'CLACKAMAS',\n",
       "       'LAKE OSWEGO', 'Happy  Valley ', ' Beaverton', 'Happy Valley '],\n",
       "      dtype=object)"
      ]
     },
     "execution_count": 13,
     "metadata": {},
     "output_type": "execute_result"
    }
   ],
   "source": [
    "customers['city'].unique()"
   ]
  },
  {
   "cell_type": "markdown",
   "metadata": {},
   "source": [
    "### let's make all the cities in lowercase and remove the spaces between the name of each city, because there are some extra spaces in each city name:"
   ]
  },
  {
   "cell_type": "code",
   "execution_count": 14,
   "metadata": {},
   "outputs": [],
   "source": [
    "customers['city']= customers['city'].str.lower().str.replace(\" \",\"\")"
   ]
  },
  {
   "cell_type": "code",
   "execution_count": 15,
   "metadata": {},
   "outputs": [
    {
     "data": {
      "text/plain": [
       "array(['Oregon', 'OREGON', 'Washington', nan, 'Oregon ', ' Oregon',\n",
       "       ' Washington', 'oregon', 'Washington ', 'washington'], dtype=object)"
      ]
     },
     "execution_count": 15,
     "metadata": {},
     "output_type": "execute_result"
    }
   ],
   "source": [
    "customers['state'].unique()"
   ]
  },
  {
   "cell_type": "markdown",
   "metadata": {},
   "source": [
    "### having city name, we will not need the state anymore. "
   ]
  },
  {
   "cell_type": "markdown",
   "metadata": {},
   "source": [
    "I changed the id to cust_id, so it will not be mistaken with library id and book id later. \n",
    "I also drop the id, state and name of each customer, cause they will not be needed:"
   ]
  },
  {
   "cell_type": "code",
   "execution_count": 16,
   "metadata": {},
   "outputs": [
    {
     "data": {
      "text/html": [
       "<div>\n",
       "<style scoped>\n",
       "    .dataframe tbody tr th:only-of-type {\n",
       "        vertical-align: middle;\n",
       "    }\n",
       "\n",
       "    .dataframe tbody tr th {\n",
       "        vertical-align: top;\n",
       "    }\n",
       "\n",
       "    .dataframe thead th {\n",
       "        text-align: right;\n",
       "    }\n",
       "</style>\n",
       "<table border=\"1\" class=\"dataframe\">\n",
       "  <thead>\n",
       "    <tr style=\"text-align: right;\">\n",
       "      <th></th>\n",
       "      <th>street_address</th>\n",
       "      <th>city</th>\n",
       "      <th>zipcode</th>\n",
       "      <th>birth_date</th>\n",
       "      <th>gender</th>\n",
       "      <th>education</th>\n",
       "      <th>occupation</th>\n",
       "      <th>cust_id</th>\n",
       "    </tr>\n",
       "  </thead>\n",
       "  <tbody>\n",
       "    <tr>\n",
       "      <th>0</th>\n",
       "      <td>44 NE Meikle Pl</td>\n",
       "      <td>portland</td>\n",
       "      <td>97213.0</td>\n",
       "      <td>2009-09-10</td>\n",
       "      <td>female</td>\n",
       "      <td>High School</td>\n",
       "      <td>NaN</td>\n",
       "      <td>df83ec2d0d409395c0d8c2690cfa8b67</td>\n",
       "    </tr>\n",
       "    <tr>\n",
       "      <th>1</th>\n",
       "      <td>7511 SE Harrison St</td>\n",
       "      <td>portland</td>\n",
       "      <td>97215.0</td>\n",
       "      <td>1956-12-15</td>\n",
       "      <td>female</td>\n",
       "      <td>College</td>\n",
       "      <td>Blue Collar</td>\n",
       "      <td>6aec7ab2ea0d67161dac39e5dcabd857</td>\n",
       "    </tr>\n",
       "    <tr>\n",
       "      <th>2</th>\n",
       "      <td>1404 SE Pine St</td>\n",
       "      <td>portland</td>\n",
       "      <td>97214.0</td>\n",
       "      <td>1960-12-18</td>\n",
       "      <td>male</td>\n",
       "      <td>College</td>\n",
       "      <td>Education &amp; Health</td>\n",
       "      <td>0c54340672f510fdb9d2f30595c1ab53</td>\n",
       "    </tr>\n",
       "    <tr>\n",
       "      <th>3</th>\n",
       "      <td>12271 N Westshore Dr</td>\n",
       "      <td>portland</td>\n",
       "      <td>97217.0</td>\n",
       "      <td>2105-07-19</td>\n",
       "      <td>male</td>\n",
       "      <td>Graduate Degree</td>\n",
       "      <td>SALES</td>\n",
       "      <td>f0d9ce833ddc1f73c1e0b55bdebf012e</td>\n",
       "    </tr>\n",
       "    <tr>\n",
       "      <th>4</th>\n",
       "      <td>5321 NE Skyport Way</td>\n",
       "      <td>NaN</td>\n",
       "      <td>97218.0</td>\n",
       "      <td>1961-03-14</td>\n",
       "      <td>male</td>\n",
       "      <td>Graduate Degree</td>\n",
       "      <td>Blue Collar</td>\n",
       "      <td>3720379163f6b46944db6c98c0485bfd</td>\n",
       "    </tr>\n",
       "  </tbody>\n",
       "</table>\n",
       "</div>"
      ],
      "text/plain": [
       "         street_address      city  zipcode  birth_date   gender  \\\n",
       "0       44 NE Meikle Pl  portland  97213.0  2009-09-10   female   \n",
       "1   7511 SE Harrison St  portland  97215.0  1956-12-15   female   \n",
       "2       1404 SE Pine St  portland  97214.0  1960-12-18     male   \n",
       "3  12271 N Westshore Dr  portland  97217.0  2105-07-19     male   \n",
       "4   5321 NE Skyport Way       NaN  97218.0  1961-03-14     male   \n",
       "\n",
       "         education          occupation                           cust_id  \n",
       "0      High School                 NaN  df83ec2d0d409395c0d8c2690cfa8b67  \n",
       "1          College         Blue Collar  6aec7ab2ea0d67161dac39e5dcabd857  \n",
       "2          College  Education & Health  0c54340672f510fdb9d2f30595c1ab53  \n",
       "3  Graduate Degree               SALES  f0d9ce833ddc1f73c1e0b55bdebf012e  \n",
       "4  Graduate Degree         Blue Collar  3720379163f6b46944db6c98c0485bfd  "
      ]
     },
     "execution_count": 16,
     "metadata": {},
     "output_type": "execute_result"
    }
   ],
   "source": [
    "customers['cust_id'] = customers['id']\n",
    "customers.drop([ 'state', 'id','name'], axis=1, inplace = True)\n",
    "customers.head()"
   ]
  },
  {
   "cell_type": "markdown",
   "metadata": {},
   "source": [
    "### Now I merge the customer dataset with checkout dataset, and drop the patron_id, because we already have the customer_id"
   ]
  },
  {
   "cell_type": "code",
   "execution_count": 17,
   "metadata": {},
   "outputs": [
    {
     "data": {
      "text/html": [
       "<div>\n",
       "<style scoped>\n",
       "    .dataframe tbody tr th:only-of-type {\n",
       "        vertical-align: middle;\n",
       "    }\n",
       "\n",
       "    .dataframe tbody tr th {\n",
       "        vertical-align: top;\n",
       "    }\n",
       "\n",
       "    .dataframe thead th {\n",
       "        text-align: right;\n",
       "    }\n",
       "</style>\n",
       "<table border=\"1\" class=\"dataframe\">\n",
       "  <thead>\n",
       "    <tr style=\"text-align: right;\">\n",
       "      <th></th>\n",
       "      <th>id</th>\n",
       "      <th>library_id</th>\n",
       "      <th>date_checkout</th>\n",
       "      <th>date_returned</th>\n",
       "      <th>numdays</th>\n",
       "      <th>late</th>\n",
       "      <th>street_address</th>\n",
       "      <th>city</th>\n",
       "      <th>zipcode</th>\n",
       "      <th>birth_date</th>\n",
       "      <th>gender</th>\n",
       "      <th>education</th>\n",
       "      <th>occupation</th>\n",
       "      <th>cust_id</th>\n",
       "    </tr>\n",
       "  </thead>\n",
       "  <tbody>\n",
       "    <tr>\n",
       "      <th>0</th>\n",
       "      <td>HUX-y4oXl04C</td>\n",
       "      <td>223-222@5xc-jxr-tgk</td>\n",
       "      <td>2018-05-29</td>\n",
       "      <td>2018-06-12</td>\n",
       "      <td>14.0</td>\n",
       "      <td>0</td>\n",
       "      <td>4942 SE 28th Ave</td>\n",
       "      <td>portland</td>\n",
       "      <td>97202.0</td>\n",
       "      <td>1965-01-24</td>\n",
       "      <td>female</td>\n",
       "      <td>graduate DEGREE</td>\n",
       "      <td>Tech</td>\n",
       "      <td>8d3f63e1deed89d7ba1bf6a4eb101373</td>\n",
       "    </tr>\n",
       "    <tr>\n",
       "      <th>1</th>\n",
       "      <td>TQpFnkku2poC</td>\n",
       "      <td>228-222@5xc-jtz-hwk</td>\n",
       "      <td>2018-11-23</td>\n",
       "      <td>2019-01-24</td>\n",
       "      <td>62.0</td>\n",
       "      <td>1</td>\n",
       "      <td>2821 NE Klickitat St</td>\n",
       "      <td>portland</td>\n",
       "      <td>97212.0</td>\n",
       "      <td>1963-11-04</td>\n",
       "      <td>male</td>\n",
       "      <td>Graduate Degree</td>\n",
       "      <td>Education &amp; Health</td>\n",
       "      <td>4ae202f8de762591734705e0079d76df</td>\n",
       "    </tr>\n",
       "    <tr>\n",
       "      <th>2</th>\n",
       "      <td>OQ6sDwAAQBAJ</td>\n",
       "      <td>23v-222@5xc-jv7-v4v</td>\n",
       "      <td>2018-01-15</td>\n",
       "      <td>2018-04-25</td>\n",
       "      <td>100.0</td>\n",
       "      <td>1</td>\n",
       "      <td>1720 N Shaver St</td>\n",
       "      <td>portland</td>\n",
       "      <td>97227.0</td>\n",
       "      <td>2119-02-10</td>\n",
       "      <td>male</td>\n",
       "      <td>Graduate DEGREE</td>\n",
       "      <td>Sales</td>\n",
       "      <td>f9372de3c8ea501601aa3fb59ec0f524</td>\n",
       "    </tr>\n",
       "    <tr>\n",
       "      <th>3</th>\n",
       "      <td>CW-7tHAaVR0C</td>\n",
       "      <td>22c-222@5xc-jwj-pvz</td>\n",
       "      <td>2018-01-10</td>\n",
       "      <td>2018-02-04</td>\n",
       "      <td>25.0</td>\n",
       "      <td>0</td>\n",
       "      <td>6614 N Wilbur Ave</td>\n",
       "      <td>portland</td>\n",
       "      <td>97217.0</td>\n",
       "      <td>1984-07-27</td>\n",
       "      <td>male</td>\n",
       "      <td>Graduate Degree</td>\n",
       "      <td>Education &amp; Health</td>\n",
       "      <td>dd9f34e9d65126a2b02003d8ac60aaa4</td>\n",
       "    </tr>\n",
       "    <tr>\n",
       "      <th>4</th>\n",
       "      <td>t1e3BWziAc8C</td>\n",
       "      <td>222-222@5xc-jv5-nt9</td>\n",
       "      <td>2018-06-23</td>\n",
       "      <td>2018-07-14</td>\n",
       "      <td>21.0</td>\n",
       "      <td>0</td>\n",
       "      <td>2617 NE 33rd Ave</td>\n",
       "      <td>portland</td>\n",
       "      <td>97212.0</td>\n",
       "      <td>1976-09-24</td>\n",
       "      <td>male</td>\n",
       "      <td>High School</td>\n",
       "      <td>Business &amp; FINANCE</td>\n",
       "      <td>3b85b2c7b424618f533329018e9a11d5</td>\n",
       "    </tr>\n",
       "  </tbody>\n",
       "</table>\n",
       "</div>"
      ],
      "text/plain": [
       "             id           library_id date_checkout date_returned  numdays  \\\n",
       "0  HUX-y4oXl04C  223-222@5xc-jxr-tgk    2018-05-29    2018-06-12     14.0   \n",
       "1  TQpFnkku2poC  228-222@5xc-jtz-hwk    2018-11-23    2019-01-24     62.0   \n",
       "2  OQ6sDwAAQBAJ  23v-222@5xc-jv7-v4v    2018-01-15    2018-04-25    100.0   \n",
       "3  CW-7tHAaVR0C  22c-222@5xc-jwj-pvz    2018-01-10    2018-02-04     25.0   \n",
       "4  t1e3BWziAc8C  222-222@5xc-jv5-nt9    2018-06-23    2018-07-14     21.0   \n",
       "\n",
       "   late        street_address      city  zipcode  birth_date  gender  \\\n",
       "0     0      4942 SE 28th Ave  portland  97202.0  1965-01-24  female   \n",
       "1     1  2821 NE Klickitat St  portland  97212.0  1963-11-04    male   \n",
       "2     1      1720 N Shaver St  portland  97227.0  2119-02-10    male   \n",
       "3     0     6614 N Wilbur Ave  portland  97217.0  1984-07-27    male   \n",
       "4     0      2617 NE 33rd Ave  portland  97212.0  1976-09-24    male   \n",
       "\n",
       "         education          occupation                           cust_id  \n",
       "0  graduate DEGREE                Tech  8d3f63e1deed89d7ba1bf6a4eb101373  \n",
       "1  Graduate Degree  Education & Health  4ae202f8de762591734705e0079d76df  \n",
       "2  Graduate DEGREE               Sales  f9372de3c8ea501601aa3fb59ec0f524  \n",
       "3  Graduate Degree  Education & Health  dd9f34e9d65126a2b02003d8ac60aaa4  \n",
       "4      High School  Business & FINANCE  3b85b2c7b424618f533329018e9a11d5  "
      ]
     },
     "execution_count": 17,
     "metadata": {},
     "output_type": "execute_result"
    }
   ],
   "source": [
    "cust_check = pd.merge(left=checkouts, right=customers, left_on='patron_id', right_on='cust_id')\n",
    "cust_check.drop(['patron_id'], axis=1, inplace= True)\n",
    "cust_check.head()"
   ]
  },
  {
   "cell_type": "markdown",
   "metadata": {},
   "source": [
    "# third step: reading and cleaning the libraries dataset:"
   ]
  },
  {
   "cell_type": "code",
   "execution_count": 18,
   "metadata": {},
   "outputs": [
    {
     "data": {
      "text/html": [
       "<div>\n",
       "<style scoped>\n",
       "    .dataframe tbody tr th:only-of-type {\n",
       "        vertical-align: middle;\n",
       "    }\n",
       "\n",
       "    .dataframe tbody tr th {\n",
       "        vertical-align: top;\n",
       "    }\n",
       "\n",
       "    .dataframe thead th {\n",
       "        text-align: right;\n",
       "    }\n",
       "</style>\n",
       "<table border=\"1\" class=\"dataframe\">\n",
       "  <thead>\n",
       "    <tr style=\"text-align: right;\">\n",
       "      <th></th>\n",
       "      <th>id</th>\n",
       "      <th>name</th>\n",
       "      <th>street_address</th>\n",
       "      <th>city</th>\n",
       "      <th>region</th>\n",
       "      <th>postal_code</th>\n",
       "    </tr>\n",
       "  </thead>\n",
       "  <tbody>\n",
       "    <tr>\n",
       "      <th>0</th>\n",
       "      <td>226-222@5xc-kc4-fpv</td>\n",
       "      <td>Multnomah   County   Library Capitol Hill</td>\n",
       "      <td>10723 SW capitol Hwy</td>\n",
       "      <td>Portland</td>\n",
       "      <td>OR</td>\n",
       "      <td>97219</td>\n",
       "    </tr>\n",
       "    <tr>\n",
       "      <th>1</th>\n",
       "      <td>23v-222@5xc-jv7-v4v</td>\n",
       "      <td>Multnomah County Library Northwest</td>\n",
       "      <td>2300 NW Thurman  St</td>\n",
       "      <td>NaN</td>\n",
       "      <td>or</td>\n",
       "      <td>NaN</td>\n",
       "    </tr>\n",
       "    <tr>\n",
       "      <th>2</th>\n",
       "      <td>222-222@5xc-jvf-skf</td>\n",
       "      <td>Multnomah County Library St Johns</td>\n",
       "      <td>7510 N Charleston Ave</td>\n",
       "      <td>portland</td>\n",
       "      <td>or</td>\n",
       "      <td>97203</td>\n",
       "    </tr>\n",
       "    <tr>\n",
       "      <th>3</th>\n",
       "      <td>227-222@5xc-jww-btv</td>\n",
       "      <td>Multnomah   County Library Hillsdale</td>\n",
       "      <td>1525 SW Sunset blvd</td>\n",
       "      <td>Portland</td>\n",
       "      <td>or</td>\n",
       "      <td>-97239</td>\n",
       "    </tr>\n",
       "    <tr>\n",
       "      <th>4</th>\n",
       "      <td>22d-222@5xc-kcy-8sq</td>\n",
       "      <td>Multnomah County  Library   Sellwood  Moreland</td>\n",
       "      <td>7860 SE 13th AVE</td>\n",
       "      <td>Portland</td>\n",
       "      <td>OR</td>\n",
       "      <td>97202</td>\n",
       "    </tr>\n",
       "    <tr>\n",
       "      <th>5</th>\n",
       "      <td>223-222@5xc-jxr-tgk</td>\n",
       "      <td>MULTNOMAH County Library Woodstock</td>\n",
       "      <td>6008 se 49TH AVE</td>\n",
       "      <td>Portland</td>\n",
       "      <td>OR</td>\n",
       "      <td>-97206</td>\n",
       "    </tr>\n",
       "    <tr>\n",
       "      <th>6</th>\n",
       "      <td>zzw-224@5xc-jwv-2rk</td>\n",
       "      <td>Multnomah  County Library Central</td>\n",
       "      <td>801  SW 10th  Ave</td>\n",
       "      <td>Portland</td>\n",
       "      <td>NaN</td>\n",
       "      <td>97205</td>\n",
       "    </tr>\n",
       "    <tr>\n",
       "      <th>7</th>\n",
       "      <td>zzw-223@5xc-jv7-ct9</td>\n",
       "      <td>Friends OF the multnomah COUNTY Library</td>\n",
       "      <td>522  SW 5th  Ave</td>\n",
       "      <td>NaN</td>\n",
       "      <td>OR</td>\n",
       "      <td>97204</td>\n",
       "    </tr>\n",
       "    <tr>\n",
       "      <th>8</th>\n",
       "      <td>226-222@5xc-jxj-7yv</td>\n",
       "      <td>Multnomah County Library Belmont</td>\n",
       "      <td>1038 SE CESAR E CHAVEZ blvd</td>\n",
       "      <td>Portland</td>\n",
       "      <td>OR</td>\n",
       "      <td>97214</td>\n",
       "    </tr>\n",
       "    <tr>\n",
       "      <th>9</th>\n",
       "      <td>zzw-222@5xc-knn-c5z</td>\n",
       "      <td>Multnomah County Library Holgate</td>\n",
       "      <td>7905  SE Holgate Blvd</td>\n",
       "      <td>Portland</td>\n",
       "      <td>OR</td>\n",
       "      <td>NaN</td>\n",
       "    </tr>\n",
       "    <tr>\n",
       "      <th>10</th>\n",
       "      <td>222-222@5xc-kkw-bzf</td>\n",
       "      <td>MULTNOMAH County Library MIDLAND</td>\n",
       "      <td>805 SE 122nd Ave</td>\n",
       "      <td>PORTLAND</td>\n",
       "      <td>or</td>\n",
       "      <td>#97233</td>\n",
       "    </tr>\n",
       "    <tr>\n",
       "      <th>11</th>\n",
       "      <td>228-222@5xc-jtz-hwk</td>\n",
       "      <td>Multnomah  County Library</td>\n",
       "      <td>205 NE   Russell  St</td>\n",
       "      <td>NaN</td>\n",
       "      <td>NaN</td>\n",
       "      <td>97212-</td>\n",
       "    </tr>\n",
       "    <tr>\n",
       "      <th>12</th>\n",
       "      <td>225-222@5xc-jtz-hkf</td>\n",
       "      <td>MULTNOMAH County Library</td>\n",
       "      <td>216 ne Knott st</td>\n",
       "      <td>NaN</td>\n",
       "      <td>OR</td>\n",
       "      <td>NaN</td>\n",
       "    </tr>\n",
       "    <tr>\n",
       "      <th>13</th>\n",
       "      <td>222-222@5xc-jv5-nt9</td>\n",
       "      <td>Multnomah  County  Library  North Portland</td>\n",
       "      <td>512    N Killingsworth St</td>\n",
       "      <td>Portland</td>\n",
       "      <td>OR</td>\n",
       "      <td>#97217</td>\n",
       "    </tr>\n",
       "    <tr>\n",
       "      <th>14</th>\n",
       "      <td>zzw-222@5xc-jv4-789</td>\n",
       "      <td>Multnomah  County Library Albina</td>\n",
       "      <td>3605 NE 15th Ave</td>\n",
       "      <td>Portland</td>\n",
       "      <td>OR</td>\n",
       "      <td>97212</td>\n",
       "    </tr>\n",
       "    <tr>\n",
       "      <th>15</th>\n",
       "      <td>222-222@5xc-jxp-rp9</td>\n",
       "      <td>Multnomah  County  Library Hollywood Library</td>\n",
       "      <td>4040 NE   Tillamook   St</td>\n",
       "      <td>Portland</td>\n",
       "      <td>OR</td>\n",
       "      <td>97212_</td>\n",
       "    </tr>\n",
       "    <tr>\n",
       "      <th>16</th>\n",
       "      <td>22c-222@5xc-jwj-pvz</td>\n",
       "      <td>MULTNOMAH County Library KENTON</td>\n",
       "      <td>8226 N DENVER Ave</td>\n",
       "      <td>portland</td>\n",
       "      <td>OR</td>\n",
       "      <td>#97217</td>\n",
       "    </tr>\n",
       "    <tr>\n",
       "      <th>17</th>\n",
       "      <td>224-222@5xc-jw2-t9z</td>\n",
       "      <td>Multnomah COUNTY library Gregory Heights</td>\n",
       "      <td>7921 NE sandy BLVD</td>\n",
       "      <td>Portland</td>\n",
       "      <td>OR</td>\n",
       "      <td>_97213</td>\n",
       "    </tr>\n",
       "  </tbody>\n",
       "</table>\n",
       "</div>"
      ],
      "text/plain": [
       "                     id                                             name  \\\n",
       "0   226-222@5xc-kc4-fpv        Multnomah   County   Library Capitol Hill   \n",
       "1   23v-222@5xc-jv7-v4v               Multnomah County Library Northwest   \n",
       "2   222-222@5xc-jvf-skf                Multnomah County Library St Johns   \n",
       "3   227-222@5xc-jww-btv            Multnomah   County Library Hillsdale    \n",
       "4   22d-222@5xc-kcy-8sq   Multnomah County  Library   Sellwood  Moreland   \n",
       "5   223-222@5xc-jxr-tgk               MULTNOMAH County Library Woodstock   \n",
       "6   zzw-224@5xc-jwv-2rk                Multnomah  County Library Central   \n",
       "7   zzw-223@5xc-jv7-ct9          Friends OF the multnomah COUNTY Library   \n",
       "8   226-222@5xc-jxj-7yv                 Multnomah County Library Belmont   \n",
       "9   zzw-222@5xc-knn-c5z                 Multnomah County Library Holgate   \n",
       "10  222-222@5xc-kkw-bzf                 MULTNOMAH County Library MIDLAND   \n",
       "11  228-222@5xc-jtz-hwk                        Multnomah  County Library   \n",
       "12  225-222@5xc-jtz-hkf                         MULTNOMAH County Library   \n",
       "13  222-222@5xc-jv5-nt9       Multnomah  County  Library  North Portland   \n",
       "14  zzw-222@5xc-jv4-789                 Multnomah  County Library Albina   \n",
       "15  222-222@5xc-jxp-rp9     Multnomah  County  Library Hollywood Library   \n",
       "16  22c-222@5xc-jwj-pvz                  MULTNOMAH County Library KENTON   \n",
       "17  224-222@5xc-jw2-t9z         Multnomah COUNTY library Gregory Heights   \n",
       "\n",
       "                 street_address       city region postal_code  \n",
       "0          10723 SW capitol Hwy  Portland     OR        97219  \n",
       "1           2300 NW Thurman  St        NaN     or         NaN  \n",
       "2         7510 N Charleston Ave   portland     or       97203  \n",
       "3           1525 SW Sunset blvd  Portland      or      -97239  \n",
       "4              7860 SE 13th AVE   Portland     OR       97202  \n",
       "5              6008 se 49TH AVE  Portland      OR      -97206  \n",
       "6           801  SW 10th  Ave     Portland    NaN      97205   \n",
       "7              522  SW 5th  Ave        NaN     OR       97204  \n",
       "8   1038 SE CESAR E CHAVEZ blvd   Portland     OR       97214  \n",
       "9         7905  SE Holgate Blvd   Portland     OR         NaN  \n",
       "10             805 SE 122nd Ave   PORTLAND     or      #97233  \n",
       "11        205 NE   Russell  St         NaN    NaN      97212-  \n",
       "12              216 ne Knott st        NaN     OR         NaN  \n",
       "13   512    N Killingsworth St   Portland     OR       #97217  \n",
       "14             3605 NE 15th Ave   Portland     OR      97212   \n",
       "15     4040 NE   Tillamook   St  Portland      OR      97212_  \n",
       "16            8226 N DENVER Ave   portland     OR      #97217  \n",
       "17           7921 NE sandy BLVD   Portland     OR      _97213  "
      ]
     },
     "execution_count": 18,
     "metadata": {},
     "output_type": "execute_result"
    }
   ],
   "source": [
    "libraries = pd.read_csv('libraries.csv')\n",
    "libraries"
   ]
  },
  {
   "cell_type": "markdown",
   "metadata": {},
   "source": [
    "### cleaning the postal_code variable:"
   ]
  },
  {
   "cell_type": "code",
   "execution_count": 19,
   "metadata": {},
   "outputs": [],
   "source": [
    "libraries['postal_code'] = libraries['postal_code'].str.replace(\"#\",\"\")\\\n",
    "                                                   .str.replace('_',\"\")\\\n",
    "                                                   .str.replace('-',\"\")\\\n",
    "                                                   .str.replace(\" \",\"\")"
   ]
  },
  {
   "cell_type": "markdown",
   "metadata": {},
   "source": [
    "### filling out the missing values of postal code, I googled and found the correct postal code"
   ]
  },
  {
   "cell_type": "code",
   "execution_count": 20,
   "metadata": {},
   "outputs": [
    {
     "data": {
      "text/html": [
       "<div>\n",
       "<style scoped>\n",
       "    .dataframe tbody tr th:only-of-type {\n",
       "        vertical-align: middle;\n",
       "    }\n",
       "\n",
       "    .dataframe tbody tr th {\n",
       "        vertical-align: top;\n",
       "    }\n",
       "\n",
       "    .dataframe thead th {\n",
       "        text-align: right;\n",
       "    }\n",
       "</style>\n",
       "<table border=\"1\" class=\"dataframe\">\n",
       "  <thead>\n",
       "    <tr style=\"text-align: right;\">\n",
       "      <th></th>\n",
       "      <th>id</th>\n",
       "      <th>name</th>\n",
       "      <th>street_address</th>\n",
       "      <th>city</th>\n",
       "      <th>region</th>\n",
       "      <th>postal_code</th>\n",
       "    </tr>\n",
       "  </thead>\n",
       "  <tbody>\n",
       "    <tr>\n",
       "      <th>0</th>\n",
       "      <td>226-222@5xc-kc4-fpv</td>\n",
       "      <td>Multnomah   County   Library Capitol Hill</td>\n",
       "      <td>10723 SW capitol Hwy</td>\n",
       "      <td>Portland</td>\n",
       "      <td>OR</td>\n",
       "      <td>97219</td>\n",
       "    </tr>\n",
       "    <tr>\n",
       "      <th>1</th>\n",
       "      <td>23v-222@5xc-jv7-v4v</td>\n",
       "      <td>Multnomah County Library Northwest</td>\n",
       "      <td>2300 NW Thurman  St</td>\n",
       "      <td>NaN</td>\n",
       "      <td>or</td>\n",
       "      <td>97210</td>\n",
       "    </tr>\n",
       "    <tr>\n",
       "      <th>2</th>\n",
       "      <td>222-222@5xc-jvf-skf</td>\n",
       "      <td>Multnomah County Library St Johns</td>\n",
       "      <td>7510 N Charleston Ave</td>\n",
       "      <td>portland</td>\n",
       "      <td>or</td>\n",
       "      <td>97203</td>\n",
       "    </tr>\n",
       "    <tr>\n",
       "      <th>3</th>\n",
       "      <td>227-222@5xc-jww-btv</td>\n",
       "      <td>Multnomah   County Library Hillsdale</td>\n",
       "      <td>1525 SW Sunset blvd</td>\n",
       "      <td>Portland</td>\n",
       "      <td>or</td>\n",
       "      <td>97239</td>\n",
       "    </tr>\n",
       "    <tr>\n",
       "      <th>4</th>\n",
       "      <td>22d-222@5xc-kcy-8sq</td>\n",
       "      <td>Multnomah County  Library   Sellwood  Moreland</td>\n",
       "      <td>7860 SE 13th AVE</td>\n",
       "      <td>Portland</td>\n",
       "      <td>OR</td>\n",
       "      <td>97202</td>\n",
       "    </tr>\n",
       "    <tr>\n",
       "      <th>5</th>\n",
       "      <td>223-222@5xc-jxr-tgk</td>\n",
       "      <td>MULTNOMAH County Library Woodstock</td>\n",
       "      <td>6008 se 49TH AVE</td>\n",
       "      <td>Portland</td>\n",
       "      <td>OR</td>\n",
       "      <td>97206</td>\n",
       "    </tr>\n",
       "    <tr>\n",
       "      <th>6</th>\n",
       "      <td>zzw-224@5xc-jwv-2rk</td>\n",
       "      <td>Multnomah  County Library Central</td>\n",
       "      <td>801  SW 10th  Ave</td>\n",
       "      <td>Portland</td>\n",
       "      <td>NaN</td>\n",
       "      <td>97205</td>\n",
       "    </tr>\n",
       "    <tr>\n",
       "      <th>7</th>\n",
       "      <td>zzw-223@5xc-jv7-ct9</td>\n",
       "      <td>Friends OF the multnomah COUNTY Library</td>\n",
       "      <td>522  SW 5th  Ave</td>\n",
       "      <td>NaN</td>\n",
       "      <td>OR</td>\n",
       "      <td>97204</td>\n",
       "    </tr>\n",
       "    <tr>\n",
       "      <th>8</th>\n",
       "      <td>226-222@5xc-jxj-7yv</td>\n",
       "      <td>Multnomah County Library Belmont</td>\n",
       "      <td>1038 SE CESAR E CHAVEZ blvd</td>\n",
       "      <td>Portland</td>\n",
       "      <td>OR</td>\n",
       "      <td>97214</td>\n",
       "    </tr>\n",
       "    <tr>\n",
       "      <th>9</th>\n",
       "      <td>zzw-222@5xc-knn-c5z</td>\n",
       "      <td>Multnomah County Library Holgate</td>\n",
       "      <td>7905  SE Holgate Blvd</td>\n",
       "      <td>Portland</td>\n",
       "      <td>OR</td>\n",
       "      <td>97206</td>\n",
       "    </tr>\n",
       "    <tr>\n",
       "      <th>10</th>\n",
       "      <td>222-222@5xc-kkw-bzf</td>\n",
       "      <td>MULTNOMAH County Library MIDLAND</td>\n",
       "      <td>805 SE 122nd Ave</td>\n",
       "      <td>PORTLAND</td>\n",
       "      <td>or</td>\n",
       "      <td>97233</td>\n",
       "    </tr>\n",
       "    <tr>\n",
       "      <th>11</th>\n",
       "      <td>228-222@5xc-jtz-hwk</td>\n",
       "      <td>Multnomah  County Library</td>\n",
       "      <td>205 NE   Russell  St</td>\n",
       "      <td>NaN</td>\n",
       "      <td>NaN</td>\n",
       "      <td>97212</td>\n",
       "    </tr>\n",
       "    <tr>\n",
       "      <th>12</th>\n",
       "      <td>225-222@5xc-jtz-hkf</td>\n",
       "      <td>MULTNOMAH County Library</td>\n",
       "      <td>216 ne Knott st</td>\n",
       "      <td>NaN</td>\n",
       "      <td>OR</td>\n",
       "      <td>97212</td>\n",
       "    </tr>\n",
       "    <tr>\n",
       "      <th>13</th>\n",
       "      <td>222-222@5xc-jv5-nt9</td>\n",
       "      <td>Multnomah  County  Library  North Portland</td>\n",
       "      <td>512    N Killingsworth St</td>\n",
       "      <td>Portland</td>\n",
       "      <td>OR</td>\n",
       "      <td>97217</td>\n",
       "    </tr>\n",
       "    <tr>\n",
       "      <th>14</th>\n",
       "      <td>zzw-222@5xc-jv4-789</td>\n",
       "      <td>Multnomah  County Library Albina</td>\n",
       "      <td>3605 NE 15th Ave</td>\n",
       "      <td>Portland</td>\n",
       "      <td>OR</td>\n",
       "      <td>97212</td>\n",
       "    </tr>\n",
       "    <tr>\n",
       "      <th>15</th>\n",
       "      <td>222-222@5xc-jxp-rp9</td>\n",
       "      <td>Multnomah  County  Library Hollywood Library</td>\n",
       "      <td>4040 NE   Tillamook   St</td>\n",
       "      <td>Portland</td>\n",
       "      <td>OR</td>\n",
       "      <td>97212</td>\n",
       "    </tr>\n",
       "    <tr>\n",
       "      <th>16</th>\n",
       "      <td>22c-222@5xc-jwj-pvz</td>\n",
       "      <td>MULTNOMAH County Library KENTON</td>\n",
       "      <td>8226 N DENVER Ave</td>\n",
       "      <td>portland</td>\n",
       "      <td>OR</td>\n",
       "      <td>97217</td>\n",
       "    </tr>\n",
       "    <tr>\n",
       "      <th>17</th>\n",
       "      <td>224-222@5xc-jw2-t9z</td>\n",
       "      <td>Multnomah COUNTY library Gregory Heights</td>\n",
       "      <td>7921 NE sandy BLVD</td>\n",
       "      <td>Portland</td>\n",
       "      <td>OR</td>\n",
       "      <td>97213</td>\n",
       "    </tr>\n",
       "  </tbody>\n",
       "</table>\n",
       "</div>"
      ],
      "text/plain": [
       "                     id                                             name  \\\n",
       "0   226-222@5xc-kc4-fpv        Multnomah   County   Library Capitol Hill   \n",
       "1   23v-222@5xc-jv7-v4v               Multnomah County Library Northwest   \n",
       "2   222-222@5xc-jvf-skf                Multnomah County Library St Johns   \n",
       "3   227-222@5xc-jww-btv            Multnomah   County Library Hillsdale    \n",
       "4   22d-222@5xc-kcy-8sq   Multnomah County  Library   Sellwood  Moreland   \n",
       "5   223-222@5xc-jxr-tgk               MULTNOMAH County Library Woodstock   \n",
       "6   zzw-224@5xc-jwv-2rk                Multnomah  County Library Central   \n",
       "7   zzw-223@5xc-jv7-ct9          Friends OF the multnomah COUNTY Library   \n",
       "8   226-222@5xc-jxj-7yv                 Multnomah County Library Belmont   \n",
       "9   zzw-222@5xc-knn-c5z                 Multnomah County Library Holgate   \n",
       "10  222-222@5xc-kkw-bzf                 MULTNOMAH County Library MIDLAND   \n",
       "11  228-222@5xc-jtz-hwk                        Multnomah  County Library   \n",
       "12  225-222@5xc-jtz-hkf                         MULTNOMAH County Library   \n",
       "13  222-222@5xc-jv5-nt9       Multnomah  County  Library  North Portland   \n",
       "14  zzw-222@5xc-jv4-789                 Multnomah  County Library Albina   \n",
       "15  222-222@5xc-jxp-rp9     Multnomah  County  Library Hollywood Library   \n",
       "16  22c-222@5xc-jwj-pvz                  MULTNOMAH County Library KENTON   \n",
       "17  224-222@5xc-jw2-t9z         Multnomah COUNTY library Gregory Heights   \n",
       "\n",
       "                 street_address       city region postal_code  \n",
       "0          10723 SW capitol Hwy  Portland     OR        97219  \n",
       "1           2300 NW Thurman  St        NaN     or       97210  \n",
       "2         7510 N Charleston Ave   portland     or       97203  \n",
       "3           1525 SW Sunset blvd  Portland      or       97239  \n",
       "4              7860 SE 13th AVE   Portland     OR       97202  \n",
       "5              6008 se 49TH AVE  Portland      OR       97206  \n",
       "6           801  SW 10th  Ave     Portland    NaN       97205  \n",
       "7              522  SW 5th  Ave        NaN     OR       97204  \n",
       "8   1038 SE CESAR E CHAVEZ blvd   Portland     OR       97214  \n",
       "9         7905  SE Holgate Blvd   Portland     OR       97206  \n",
       "10             805 SE 122nd Ave   PORTLAND     or       97233  \n",
       "11        205 NE   Russell  St         NaN    NaN       97212  \n",
       "12              216 ne Knott st        NaN     OR       97212  \n",
       "13   512    N Killingsworth St   Portland     OR        97217  \n",
       "14             3605 NE 15th Ave   Portland     OR       97212  \n",
       "15     4040 NE   Tillamook   St  Portland      OR       97212  \n",
       "16            8226 N DENVER Ave   portland     OR       97217  \n",
       "17           7921 NE sandy BLVD   Portland     OR       97213  "
      ]
     },
     "execution_count": 20,
     "metadata": {},
     "output_type": "execute_result"
    }
   ],
   "source": [
    "libraries.loc[1,'postal_code']= str(97210)\n",
    "libraries.loc[9,'postal_code'] = str(97206)\n",
    "libraries.loc[12, 'postal_code'] = str(97212)\n",
    "libraries"
   ]
  },
  {
   "cell_type": "markdown",
   "metadata": {},
   "source": [
    "### The city, and region seems to be the same for all the libraries, I also will not need the name of each library, the lib_id will do that for me, so I will drop them. I change the id to lib_id:"
   ]
  },
  {
   "cell_type": "code",
   "execution_count": 21,
   "metadata": {},
   "outputs": [
    {
     "data": {
      "text/html": [
       "<div>\n",
       "<style scoped>\n",
       "    .dataframe tbody tr th:only-of-type {\n",
       "        vertical-align: middle;\n",
       "    }\n",
       "\n",
       "    .dataframe tbody tr th {\n",
       "        vertical-align: top;\n",
       "    }\n",
       "\n",
       "    .dataframe thead th {\n",
       "        text-align: right;\n",
       "    }\n",
       "</style>\n",
       "<table border=\"1\" class=\"dataframe\">\n",
       "  <thead>\n",
       "    <tr style=\"text-align: right;\">\n",
       "      <th></th>\n",
       "      <th>lib_id</th>\n",
       "      <th>lib_street_address</th>\n",
       "      <th>postal_code</th>\n",
       "    </tr>\n",
       "  </thead>\n",
       "  <tbody>\n",
       "    <tr>\n",
       "      <th>0</th>\n",
       "      <td>226-222@5xc-kc4-fpv</td>\n",
       "      <td>10723 SW capitol Hwy</td>\n",
       "      <td>97219</td>\n",
       "    </tr>\n",
       "    <tr>\n",
       "      <th>1</th>\n",
       "      <td>23v-222@5xc-jv7-v4v</td>\n",
       "      <td>2300 NW Thurman  St</td>\n",
       "      <td>97210</td>\n",
       "    </tr>\n",
       "    <tr>\n",
       "      <th>2</th>\n",
       "      <td>222-222@5xc-jvf-skf</td>\n",
       "      <td>7510 N Charleston Ave</td>\n",
       "      <td>97203</td>\n",
       "    </tr>\n",
       "    <tr>\n",
       "      <th>3</th>\n",
       "      <td>227-222@5xc-jww-btv</td>\n",
       "      <td>1525 SW Sunset blvd</td>\n",
       "      <td>97239</td>\n",
       "    </tr>\n",
       "    <tr>\n",
       "      <th>4</th>\n",
       "      <td>22d-222@5xc-kcy-8sq</td>\n",
       "      <td>7860 SE 13th AVE</td>\n",
       "      <td>97202</td>\n",
       "    </tr>\n",
       "    <tr>\n",
       "      <th>5</th>\n",
       "      <td>223-222@5xc-jxr-tgk</td>\n",
       "      <td>6008 se 49TH AVE</td>\n",
       "      <td>97206</td>\n",
       "    </tr>\n",
       "    <tr>\n",
       "      <th>6</th>\n",
       "      <td>zzw-224@5xc-jwv-2rk</td>\n",
       "      <td>801  SW 10th  Ave</td>\n",
       "      <td>97205</td>\n",
       "    </tr>\n",
       "    <tr>\n",
       "      <th>7</th>\n",
       "      <td>zzw-223@5xc-jv7-ct9</td>\n",
       "      <td>522  SW 5th  Ave</td>\n",
       "      <td>97204</td>\n",
       "    </tr>\n",
       "    <tr>\n",
       "      <th>8</th>\n",
       "      <td>226-222@5xc-jxj-7yv</td>\n",
       "      <td>1038 SE CESAR E CHAVEZ blvd</td>\n",
       "      <td>97214</td>\n",
       "    </tr>\n",
       "    <tr>\n",
       "      <th>9</th>\n",
       "      <td>zzw-222@5xc-knn-c5z</td>\n",
       "      <td>7905  SE Holgate Blvd</td>\n",
       "      <td>97206</td>\n",
       "    </tr>\n",
       "    <tr>\n",
       "      <th>10</th>\n",
       "      <td>222-222@5xc-kkw-bzf</td>\n",
       "      <td>805 SE 122nd Ave</td>\n",
       "      <td>97233</td>\n",
       "    </tr>\n",
       "    <tr>\n",
       "      <th>11</th>\n",
       "      <td>228-222@5xc-jtz-hwk</td>\n",
       "      <td>205 NE   Russell  St</td>\n",
       "      <td>97212</td>\n",
       "    </tr>\n",
       "    <tr>\n",
       "      <th>12</th>\n",
       "      <td>225-222@5xc-jtz-hkf</td>\n",
       "      <td>216 ne Knott st</td>\n",
       "      <td>97212</td>\n",
       "    </tr>\n",
       "    <tr>\n",
       "      <th>13</th>\n",
       "      <td>222-222@5xc-jv5-nt9</td>\n",
       "      <td>512    N Killingsworth St</td>\n",
       "      <td>97217</td>\n",
       "    </tr>\n",
       "    <tr>\n",
       "      <th>14</th>\n",
       "      <td>zzw-222@5xc-jv4-789</td>\n",
       "      <td>3605 NE 15th Ave</td>\n",
       "      <td>97212</td>\n",
       "    </tr>\n",
       "    <tr>\n",
       "      <th>15</th>\n",
       "      <td>222-222@5xc-jxp-rp9</td>\n",
       "      <td>4040 NE   Tillamook   St</td>\n",
       "      <td>97212</td>\n",
       "    </tr>\n",
       "    <tr>\n",
       "      <th>16</th>\n",
       "      <td>22c-222@5xc-jwj-pvz</td>\n",
       "      <td>8226 N DENVER Ave</td>\n",
       "      <td>97217</td>\n",
       "    </tr>\n",
       "    <tr>\n",
       "      <th>17</th>\n",
       "      <td>224-222@5xc-jw2-t9z</td>\n",
       "      <td>7921 NE sandy BLVD</td>\n",
       "      <td>97213</td>\n",
       "    </tr>\n",
       "  </tbody>\n",
       "</table>\n",
       "</div>"
      ],
      "text/plain": [
       "                 lib_id           lib_street_address postal_code\n",
       "0   226-222@5xc-kc4-fpv         10723 SW capitol Hwy       97219\n",
       "1   23v-222@5xc-jv7-v4v          2300 NW Thurman  St       97210\n",
       "2   222-222@5xc-jvf-skf        7510 N Charleston Ave       97203\n",
       "3   227-222@5xc-jww-btv          1525 SW Sunset blvd       97239\n",
       "4   22d-222@5xc-kcy-8sq             7860 SE 13th AVE       97202\n",
       "5   223-222@5xc-jxr-tgk             6008 se 49TH AVE       97206\n",
       "6   zzw-224@5xc-jwv-2rk          801  SW 10th  Ave         97205\n",
       "7   zzw-223@5xc-jv7-ct9             522  SW 5th  Ave       97204\n",
       "8   226-222@5xc-jxj-7yv  1038 SE CESAR E CHAVEZ blvd       97214\n",
       "9   zzw-222@5xc-knn-c5z        7905  SE Holgate Blvd       97206\n",
       "10  222-222@5xc-kkw-bzf             805 SE 122nd Ave       97233\n",
       "11  228-222@5xc-jtz-hwk        205 NE   Russell  St        97212\n",
       "12  225-222@5xc-jtz-hkf              216 ne Knott st       97212\n",
       "13  222-222@5xc-jv5-nt9   512    N Killingsworth St        97217\n",
       "14  zzw-222@5xc-jv4-789             3605 NE 15th Ave       97212\n",
       "15  222-222@5xc-jxp-rp9     4040 NE   Tillamook   St       97212\n",
       "16  22c-222@5xc-jwj-pvz            8226 N DENVER Ave       97217\n",
       "17  224-222@5xc-jw2-t9z           7921 NE sandy BLVD       97213"
      ]
     },
     "execution_count": 21,
     "metadata": {},
     "output_type": "execute_result"
    }
   ],
   "source": [
    "libraries.rename(columns={'id': 'lib_id', 'street_address': 'lib_street_address'}, inplace= True)\n",
    "libraries.drop([ 'city', 'region', 'name'], axis=1, inplace = True)\n",
    "libraries"
   ]
  },
  {
   "cell_type": "code",
   "execution_count": 22,
   "metadata": {},
   "outputs": [
    {
     "data": {
      "text/plain": [
       "lib_id                0\n",
       "lib_street_address    0\n",
       "postal_code           0\n",
       "dtype: int64"
      ]
     },
     "execution_count": 22,
     "metadata": {},
     "output_type": "execute_result"
    }
   ],
   "source": [
    "libraries.isna().sum()"
   ]
  },
  {
   "cell_type": "markdown",
   "metadata": {},
   "source": [
    "### Now that the libraries dataset is clean, we can merge it with the cust_check dataset."
   ]
  },
  {
   "cell_type": "code",
   "execution_count": 23,
   "metadata": {},
   "outputs": [
    {
     "data": {
      "text/html": [
       "<div>\n",
       "<style scoped>\n",
       "    .dataframe tbody tr th:only-of-type {\n",
       "        vertical-align: middle;\n",
       "    }\n",
       "\n",
       "    .dataframe tbody tr th {\n",
       "        vertical-align: top;\n",
       "    }\n",
       "\n",
       "    .dataframe thead th {\n",
       "        text-align: right;\n",
       "    }\n",
       "</style>\n",
       "<table border=\"1\" class=\"dataframe\">\n",
       "  <thead>\n",
       "    <tr style=\"text-align: right;\">\n",
       "      <th></th>\n",
       "      <th>id</th>\n",
       "      <th>library_id</th>\n",
       "      <th>date_checkout</th>\n",
       "      <th>date_returned</th>\n",
       "      <th>numdays</th>\n",
       "      <th>late</th>\n",
       "      <th>street_address</th>\n",
       "      <th>city</th>\n",
       "      <th>zipcode</th>\n",
       "      <th>birth_date</th>\n",
       "      <th>gender</th>\n",
       "      <th>education</th>\n",
       "      <th>occupation</th>\n",
       "      <th>cust_id</th>\n",
       "      <th>lib_id</th>\n",
       "      <th>lib_street_address</th>\n",
       "      <th>postal_code</th>\n",
       "    </tr>\n",
       "  </thead>\n",
       "  <tbody>\n",
       "    <tr>\n",
       "      <th>0</th>\n",
       "      <td>HUX-y4oXl04C</td>\n",
       "      <td>223-222@5xc-jxr-tgk</td>\n",
       "      <td>2018-05-29</td>\n",
       "      <td>2018-06-12</td>\n",
       "      <td>14.0</td>\n",
       "      <td>0</td>\n",
       "      <td>4942 SE 28th Ave</td>\n",
       "      <td>portland</td>\n",
       "      <td>97202.0</td>\n",
       "      <td>1965-01-24</td>\n",
       "      <td>female</td>\n",
       "      <td>graduate DEGREE</td>\n",
       "      <td>Tech</td>\n",
       "      <td>8d3f63e1deed89d7ba1bf6a4eb101373</td>\n",
       "      <td>223-222@5xc-jxr-tgk</td>\n",
       "      <td>6008 se 49TH AVE</td>\n",
       "      <td>97206</td>\n",
       "    </tr>\n",
       "    <tr>\n",
       "      <th>1</th>\n",
       "      <td>MOewp6bCFfgC</td>\n",
       "      <td>223-222@5xc-jxr-tgk</td>\n",
       "      <td>2018-04-30</td>\n",
       "      <td>2018-08-30</td>\n",
       "      <td>122.0</td>\n",
       "      <td>1</td>\n",
       "      <td>636 SE 154th Ave</td>\n",
       "      <td>portland</td>\n",
       "      <td>97233.0</td>\n",
       "      <td>1803-04-20</td>\n",
       "      <td>male</td>\n",
       "      <td>College</td>\n",
       "      <td>Sales</td>\n",
       "      <td>7fd53f66a6d4cd12875487af4008bb08</td>\n",
       "      <td>223-222@5xc-jxr-tgk</td>\n",
       "      <td>6008 se 49TH AVE</td>\n",
       "      <td>97206</td>\n",
       "    </tr>\n",
       "    <tr>\n",
       "      <th>2</th>\n",
       "      <td>iAzrAAAAIAAJ</td>\n",
       "      <td>223-222@5xc-jxr-tgk</td>\n",
       "      <td>2018-07-07</td>\n",
       "      <td>2018-07-12</td>\n",
       "      <td>5.0</td>\n",
       "      <td>0</td>\n",
       "      <td>7039 SE 35th Ave</td>\n",
       "      <td>portland</td>\n",
       "      <td>97202.0</td>\n",
       "      <td>2004-03-21</td>\n",
       "      <td>male</td>\n",
       "      <td>High School</td>\n",
       "      <td>Tech</td>\n",
       "      <td>ceb72a116d42d8d441e234f80ecf8bb9</td>\n",
       "      <td>223-222@5xc-jxr-tgk</td>\n",
       "      <td>6008 se 49TH AVE</td>\n",
       "      <td>97206</td>\n",
       "    </tr>\n",
       "    <tr>\n",
       "      <th>3</th>\n",
       "      <td>ygoFAAAAQAAJ</td>\n",
       "      <td>223-222@5xc-jxr-tgk</td>\n",
       "      <td>2018-02-19</td>\n",
       "      <td>2018-03-06</td>\n",
       "      <td>15.0</td>\n",
       "      <td>0</td>\n",
       "      <td>1125 SE 60th Ave</td>\n",
       "      <td>portland</td>\n",
       "      <td>97215.0</td>\n",
       "      <td>1806-02-04</td>\n",
       "      <td>male</td>\n",
       "      <td>High School</td>\n",
       "      <td>Admin &amp; Support</td>\n",
       "      <td>7a1f47edd69d69da4c5f95a6a95f75ee</td>\n",
       "      <td>223-222@5xc-jxr-tgk</td>\n",
       "      <td>6008 se 49TH AVE</td>\n",
       "      <td>97206</td>\n",
       "    </tr>\n",
       "    <tr>\n",
       "      <th>4</th>\n",
       "      <td>eBcFQ3DUcQEC</td>\n",
       "      <td>223-222@5xc-jxr-tgk</td>\n",
       "      <td>2018-06-29</td>\n",
       "      <td>2018-07-09</td>\n",
       "      <td>10.0</td>\n",
       "      <td>0</td>\n",
       "      <td>3755 SE Woodstock Blvd</td>\n",
       "      <td>portland</td>\n",
       "      <td>97202.0</td>\n",
       "      <td>1951-12-21</td>\n",
       "      <td>male</td>\n",
       "      <td>High School</td>\n",
       "      <td>Education &amp; Health</td>\n",
       "      <td>55ed00061e3e9092b8d390ff157b1166</td>\n",
       "      <td>223-222@5xc-jxr-tgk</td>\n",
       "      <td>6008 se 49TH AVE</td>\n",
       "      <td>97206</td>\n",
       "    </tr>\n",
       "  </tbody>\n",
       "</table>\n",
       "</div>"
      ],
      "text/plain": [
       "             id           library_id date_checkout date_returned  numdays  \\\n",
       "0  HUX-y4oXl04C  223-222@5xc-jxr-tgk    2018-05-29    2018-06-12     14.0   \n",
       "1  MOewp6bCFfgC  223-222@5xc-jxr-tgk    2018-04-30    2018-08-30    122.0   \n",
       "2  iAzrAAAAIAAJ  223-222@5xc-jxr-tgk    2018-07-07    2018-07-12      5.0   \n",
       "3  ygoFAAAAQAAJ  223-222@5xc-jxr-tgk    2018-02-19    2018-03-06     15.0   \n",
       "4  eBcFQ3DUcQEC  223-222@5xc-jxr-tgk    2018-06-29    2018-07-09     10.0   \n",
       "\n",
       "   late          street_address      city  zipcode  birth_date  gender  \\\n",
       "0     0        4942 SE 28th Ave  portland  97202.0  1965-01-24  female   \n",
       "1     1        636 SE 154th Ave  portland  97233.0  1803-04-20    male   \n",
       "2     0        7039 SE 35th Ave  portland  97202.0  2004-03-21    male   \n",
       "3     0        1125 SE 60th Ave  portland  97215.0  1806-02-04    male   \n",
       "4     0  3755 SE Woodstock Blvd  portland  97202.0  1951-12-21    male   \n",
       "\n",
       "         education          occupation                           cust_id  \\\n",
       "0  graduate DEGREE                Tech  8d3f63e1deed89d7ba1bf6a4eb101373   \n",
       "1          College               Sales  7fd53f66a6d4cd12875487af4008bb08   \n",
       "2      High School                Tech  ceb72a116d42d8d441e234f80ecf8bb9   \n",
       "3      High School     Admin & Support  7a1f47edd69d69da4c5f95a6a95f75ee   \n",
       "4      High School  Education & Health  55ed00061e3e9092b8d390ff157b1166   \n",
       "\n",
       "                lib_id lib_street_address postal_code  \n",
       "0  223-222@5xc-jxr-tgk   6008 se 49TH AVE       97206  \n",
       "1  223-222@5xc-jxr-tgk   6008 se 49TH AVE       97206  \n",
       "2  223-222@5xc-jxr-tgk   6008 se 49TH AVE       97206  \n",
       "3  223-222@5xc-jxr-tgk   6008 se 49TH AVE       97206  \n",
       "4  223-222@5xc-jxr-tgk   6008 se 49TH AVE       97206  "
      ]
     },
     "execution_count": 23,
     "metadata": {},
     "output_type": "execute_result"
    }
   ],
   "source": [
    "cust_check_lib = pd.merge(left=cust_check, right=libraries, left_on='library_id', right_on='lib_id')\n",
    "cust_check_lib.head()"
   ]
  },
  {
   "cell_type": "markdown",
   "metadata": {},
   "source": [
    "# Now let's read the books dataset and do the cleaning on that:"
   ]
  },
  {
   "cell_type": "code",
   "execution_count": 24,
   "metadata": {},
   "outputs": [
    {
     "data": {
      "text/html": [
       "<div>\n",
       "<style scoped>\n",
       "    .dataframe tbody tr th:only-of-type {\n",
       "        vertical-align: middle;\n",
       "    }\n",
       "\n",
       "    .dataframe tbody tr th {\n",
       "        vertical-align: top;\n",
       "    }\n",
       "\n",
       "    .dataframe thead th {\n",
       "        text-align: right;\n",
       "    }\n",
       "</style>\n",
       "<table border=\"1\" class=\"dataframe\">\n",
       "  <thead>\n",
       "    <tr style=\"text-align: right;\">\n",
       "      <th></th>\n",
       "      <th>id</th>\n",
       "      <th>title</th>\n",
       "      <th>authors</th>\n",
       "      <th>publisher</th>\n",
       "      <th>publishedDate</th>\n",
       "      <th>categories</th>\n",
       "      <th>price</th>\n",
       "      <th>pages</th>\n",
       "    </tr>\n",
       "  </thead>\n",
       "  <tbody>\n",
       "    <tr>\n",
       "      <th>0</th>\n",
       "      <td>hVFwAAAAQBAJ</td>\n",
       "      <td>Ogilvy on Advertising</td>\n",
       "      <td>['David Ogilvy']</td>\n",
       "      <td>Vintage</td>\n",
       "      <td>2013-09-11</td>\n",
       "      <td>['Social Science']</td>\n",
       "      <td>72.99</td>\n",
       "      <td>320</td>\n",
       "    </tr>\n",
       "    <tr>\n",
       "      <th>1</th>\n",
       "      <td>bRY9AAAAYAAJ</td>\n",
       "      <td>Foreign Publications for Advertising American ...</td>\n",
       "      <td>['United States. Bureau of Foreign and Domesti...</td>\n",
       "      <td>NaN</td>\n",
       "      <td>1913</td>\n",
       "      <td>['Advertising']</td>\n",
       "      <td>469.99</td>\n",
       "      <td>654</td>\n",
       "    </tr>\n",
       "    <tr>\n",
       "      <th>2</th>\n",
       "      <td>ZapAAAAAIAAJ</td>\n",
       "      <td>Advertising and the Public Interest</td>\n",
       "      <td>['John A. Howard', 'James Hulbert']</td>\n",
       "      <td>NaN</td>\n",
       "      <td>1973</td>\n",
       "      <td>['Advertising']</td>\n",
       "      <td>372.0</td>\n",
       "      <td>784</td>\n",
       "    </tr>\n",
       "    <tr>\n",
       "      <th>3</th>\n",
       "      <td>A-HthMfF5moC</td>\n",
       "      <td>Profitable Advertising</td>\n",
       "      <td>NaN</td>\n",
       "      <td>NaN</td>\n",
       "      <td>1894</td>\n",
       "      <td>['Advertising']</td>\n",
       "      <td>240.99USD</td>\n",
       "      <td>559</td>\n",
       "    </tr>\n",
       "    <tr>\n",
       "      <th>4</th>\n",
       "      <td>4Z9JAAAAMAAJ</td>\n",
       "      <td>Report of the Federal Trade Commission on Dist...</td>\n",
       "      <td>['United States. Federal Trade Commission']</td>\n",
       "      <td>NaN</td>\n",
       "      <td>1944</td>\n",
       "      <td>['Government publications']</td>\n",
       "      <td>539.0</td>\n",
       "      <td>757</td>\n",
       "    </tr>\n",
       "  </tbody>\n",
       "</table>\n",
       "</div>"
      ],
      "text/plain": [
       "             id                                              title  \\\n",
       "0  hVFwAAAAQBAJ                              Ogilvy on Advertising   \n",
       "1  bRY9AAAAYAAJ  Foreign Publications for Advertising American ...   \n",
       "2  ZapAAAAAIAAJ                Advertising and the Public Interest   \n",
       "3  A-HthMfF5moC                             Profitable Advertising   \n",
       "4  4Z9JAAAAMAAJ  Report of the Federal Trade Commission on Dist...   \n",
       "\n",
       "                                             authors publisher publishedDate  \\\n",
       "0                                   ['David Ogilvy']   Vintage    2013-09-11   \n",
       "1  ['United States. Bureau of Foreign and Domesti...       NaN          1913   \n",
       "2                ['John A. Howard', 'James Hulbert']       NaN          1973   \n",
       "3                                                NaN       NaN          1894   \n",
       "4        ['United States. Federal Trade Commission']       NaN          1944   \n",
       "\n",
       "                    categories      price pages  \n",
       "0           ['Social Science']      72.99   320  \n",
       "1              ['Advertising']     469.99   654  \n",
       "2              ['Advertising']      372.0   784  \n",
       "3              ['Advertising']  240.99USD   559  \n",
       "4  ['Government publications']      539.0   757  "
      ]
     },
     "execution_count": 24,
     "metadata": {},
     "output_type": "execute_result"
    }
   ],
   "source": [
    "books = pd.read_csv('books.csv')\n",
    "books.head()"
   ]
  },
  {
   "cell_type": "markdown",
   "metadata": {},
   "source": [
    "### let's change the publishedDate to datetime variable:"
   ]
  },
  {
   "cell_type": "code",
   "execution_count": 25,
   "metadata": {},
   "outputs": [],
   "source": [
    "books['publishedDate'] = pd.to_datetime(books['publishedDate'], errors='coerce', format='%Y-%m-%d')"
   ]
  },
  {
   "cell_type": "code",
   "execution_count": 26,
   "metadata": {},
   "outputs": [
    {
     "data": {
      "text/plain": [
       "id                 0\n",
       "title              0\n",
       "authors           67\n",
       "publisher        146\n",
       "publishedDate      2\n",
       "categories        39\n",
       "price              2\n",
       "pages              0\n",
       "dtype: int64"
      ]
     },
     "execution_count": 26,
     "metadata": {},
     "output_type": "execute_result"
    }
   ],
   "source": [
    "books.isna().sum()"
   ]
  },
  {
   "cell_type": "code",
   "execution_count": 27,
   "metadata": {},
   "outputs": [],
   "source": [
    "books['publishedDate'].fillna(pd.Timestamp(\"20210101\"), inplace= True)"
   ]
  },
  {
   "cell_type": "markdown",
   "metadata": {},
   "source": [
    "### Calculating the age of the book:"
   ]
  },
  {
   "cell_type": "code",
   "execution_count": 28,
   "metadata": {},
   "outputs": [],
   "source": [
    "books['year_published'] = books['publishedDate'].dt.year"
   ]
  },
  {
   "cell_type": "code",
   "execution_count": 29,
   "metadata": {},
   "outputs": [],
   "source": [
    "books['book_age'] = books['year_published'].apply(lambda x: 2021 - x)"
   ]
  },
  {
   "cell_type": "code",
   "execution_count": 30,
   "metadata": {},
   "outputs": [
    {
     "data": {
      "text/html": [
       "<div>\n",
       "<style scoped>\n",
       "    .dataframe tbody tr th:only-of-type {\n",
       "        vertical-align: middle;\n",
       "    }\n",
       "\n",
       "    .dataframe tbody tr th {\n",
       "        vertical-align: top;\n",
       "    }\n",
       "\n",
       "    .dataframe thead th {\n",
       "        text-align: right;\n",
       "    }\n",
       "</style>\n",
       "<table border=\"1\" class=\"dataframe\">\n",
       "  <thead>\n",
       "    <tr style=\"text-align: right;\">\n",
       "      <th></th>\n",
       "      <th>id</th>\n",
       "      <th>title</th>\n",
       "      <th>authors</th>\n",
       "      <th>publisher</th>\n",
       "      <th>publishedDate</th>\n",
       "      <th>categories</th>\n",
       "      <th>price</th>\n",
       "      <th>pages</th>\n",
       "      <th>year_published</th>\n",
       "      <th>book_age</th>\n",
       "    </tr>\n",
       "  </thead>\n",
       "  <tbody>\n",
       "    <tr>\n",
       "      <th>0</th>\n",
       "      <td>hVFwAAAAQBAJ</td>\n",
       "      <td>Ogilvy on Advertising</td>\n",
       "      <td>['David Ogilvy']</td>\n",
       "      <td>Vintage</td>\n",
       "      <td>2013-09-11</td>\n",
       "      <td>['Social Science']</td>\n",
       "      <td>72.99</td>\n",
       "      <td>320</td>\n",
       "      <td>2013</td>\n",
       "      <td>8</td>\n",
       "    </tr>\n",
       "    <tr>\n",
       "      <th>1</th>\n",
       "      <td>bRY9AAAAYAAJ</td>\n",
       "      <td>Foreign Publications for Advertising American ...</td>\n",
       "      <td>['United States. Bureau of Foreign and Domesti...</td>\n",
       "      <td>NaN</td>\n",
       "      <td>1913-01-01</td>\n",
       "      <td>['Advertising']</td>\n",
       "      <td>469.99</td>\n",
       "      <td>654</td>\n",
       "      <td>1913</td>\n",
       "      <td>108</td>\n",
       "    </tr>\n",
       "    <tr>\n",
       "      <th>2</th>\n",
       "      <td>ZapAAAAAIAAJ</td>\n",
       "      <td>Advertising and the Public Interest</td>\n",
       "      <td>['John A. Howard', 'James Hulbert']</td>\n",
       "      <td>NaN</td>\n",
       "      <td>1973-01-01</td>\n",
       "      <td>['Advertising']</td>\n",
       "      <td>372.0</td>\n",
       "      <td>784</td>\n",
       "      <td>1973</td>\n",
       "      <td>48</td>\n",
       "    </tr>\n",
       "    <tr>\n",
       "      <th>3</th>\n",
       "      <td>A-HthMfF5moC</td>\n",
       "      <td>Profitable Advertising</td>\n",
       "      <td>NaN</td>\n",
       "      <td>NaN</td>\n",
       "      <td>1894-01-01</td>\n",
       "      <td>['Advertising']</td>\n",
       "      <td>240.99USD</td>\n",
       "      <td>559</td>\n",
       "      <td>1894</td>\n",
       "      <td>127</td>\n",
       "    </tr>\n",
       "    <tr>\n",
       "      <th>4</th>\n",
       "      <td>4Z9JAAAAMAAJ</td>\n",
       "      <td>Report of the Federal Trade Commission on Dist...</td>\n",
       "      <td>['United States. Federal Trade Commission']</td>\n",
       "      <td>NaN</td>\n",
       "      <td>1944-01-01</td>\n",
       "      <td>['Government publications']</td>\n",
       "      <td>539.0</td>\n",
       "      <td>757</td>\n",
       "      <td>1944</td>\n",
       "      <td>77</td>\n",
       "    </tr>\n",
       "  </tbody>\n",
       "</table>\n",
       "</div>"
      ],
      "text/plain": [
       "             id                                              title  \\\n",
       "0  hVFwAAAAQBAJ                              Ogilvy on Advertising   \n",
       "1  bRY9AAAAYAAJ  Foreign Publications for Advertising American ...   \n",
       "2  ZapAAAAAIAAJ                Advertising and the Public Interest   \n",
       "3  A-HthMfF5moC                             Profitable Advertising   \n",
       "4  4Z9JAAAAMAAJ  Report of the Federal Trade Commission on Dist...   \n",
       "\n",
       "                                             authors publisher publishedDate  \\\n",
       "0                                   ['David Ogilvy']   Vintage    2013-09-11   \n",
       "1  ['United States. Bureau of Foreign and Domesti...       NaN    1913-01-01   \n",
       "2                ['John A. Howard', 'James Hulbert']       NaN    1973-01-01   \n",
       "3                                                NaN       NaN    1894-01-01   \n",
       "4        ['United States. Federal Trade Commission']       NaN    1944-01-01   \n",
       "\n",
       "                    categories      price pages  year_published  book_age  \n",
       "0           ['Social Science']      72.99   320            2013         8  \n",
       "1              ['Advertising']     469.99   654            1913       108  \n",
       "2              ['Advertising']      372.0   784            1973        48  \n",
       "3              ['Advertising']  240.99USD   559            1894       127  \n",
       "4  ['Government publications']      539.0   757            1944        77  "
      ]
     },
     "execution_count": 30,
     "metadata": {},
     "output_type": "execute_result"
    }
   ],
   "source": [
    "books.head()"
   ]
  },
  {
   "cell_type": "markdown",
   "metadata": {},
   "source": [
    "### we are not going to need year_published and publishedDate, so I drop them here:"
   ]
  },
  {
   "cell_type": "code",
   "execution_count": 31,
   "metadata": {},
   "outputs": [],
   "source": [
    "books = books.drop(['year_published', 'publishedDate'], axis=1)"
   ]
  },
  {
   "cell_type": "markdown",
   "metadata": {},
   "source": [
    "### cleaning the pages and price variables:"
   ]
  },
  {
   "cell_type": "code",
   "execution_count": 32,
   "metadata": {},
   "outputs": [
    {
     "name": "stderr",
     "output_type": "stream",
     "text": [
      "<ipython-input-32-214119f5c61b>:1: FutureWarning: The default value of regex will change from True to False in a future version. In addition, single character regular expressions will*not* be treated as literal strings when regex=True.\n",
      "  books['pages'] = books['pages'].str.replace(\"#\",\"\").str.replace(\"^\",\"\").str.replace(\"|\",\"\").str.replace(\"*\",\"\").astype(str).astype(int)\n"
     ]
    }
   ],
   "source": [
    "books['pages'] = books['pages'].str.replace(\"#\",\"\").str.replace(\"^\",\"\").str.replace(\"|\",\"\").str.replace(\"*\",\"\").astype(str).astype(int)"
   ]
  },
  {
   "cell_type": "code",
   "execution_count": 33,
   "metadata": {},
   "outputs": [
    {
     "name": "stderr",
     "output_type": "stream",
     "text": [
      "<ipython-input-33-7bab91bedd01>:1: FutureWarning: The default value of regex will change from True to False in a future version. In addition, single character regular expressions will*not* be treated as literal strings when regex=True.\n",
      "  books['price'] = books['price'].str.replace(\"|\",\"\").str.replace(\"*\",\"\").str.replace(\"$\",\"\").str.replace(\"USD\",\"\").astype(float)\n"
     ]
    }
   ],
   "source": [
    "books['price'] = books['price'].str.replace(\"|\",\"\").str.replace(\"*\",\"\").str.replace(\"$\",\"\").str.replace(\"USD\",\"\").astype(float)"
   ]
  },
  {
   "cell_type": "markdown",
   "metadata": {},
   "source": [
    "### now let's merge books with the rest of the data:\n",
    "#### Joined dataframe will have all 4 datasets in it:"
   ]
  },
  {
   "cell_type": "code",
   "execution_count": 34,
   "metadata": {},
   "outputs": [
    {
     "data": {
      "text/html": [
       "<div>\n",
       "<style scoped>\n",
       "    .dataframe tbody tr th:only-of-type {\n",
       "        vertical-align: middle;\n",
       "    }\n",
       "\n",
       "    .dataframe tbody tr th {\n",
       "        vertical-align: top;\n",
       "    }\n",
       "\n",
       "    .dataframe thead th {\n",
       "        text-align: right;\n",
       "    }\n",
       "</style>\n",
       "<table border=\"1\" class=\"dataframe\">\n",
       "  <thead>\n",
       "    <tr style=\"text-align: right;\">\n",
       "      <th></th>\n",
       "      <th>id</th>\n",
       "      <th>library_id</th>\n",
       "      <th>date_checkout</th>\n",
       "      <th>date_returned</th>\n",
       "      <th>numdays</th>\n",
       "      <th>late</th>\n",
       "      <th>street_address</th>\n",
       "      <th>city</th>\n",
       "      <th>zipcode</th>\n",
       "      <th>birth_date</th>\n",
       "      <th>...</th>\n",
       "      <th>lib_id</th>\n",
       "      <th>lib_street_address</th>\n",
       "      <th>postal_code</th>\n",
       "      <th>title</th>\n",
       "      <th>authors</th>\n",
       "      <th>publisher</th>\n",
       "      <th>categories</th>\n",
       "      <th>price</th>\n",
       "      <th>pages</th>\n",
       "      <th>book_age</th>\n",
       "    </tr>\n",
       "  </thead>\n",
       "  <tbody>\n",
       "    <tr>\n",
       "      <th>0</th>\n",
       "      <td>HUX-y4oXl04C</td>\n",
       "      <td>223-222@5xc-jxr-tgk</td>\n",
       "      <td>2018-05-29</td>\n",
       "      <td>2018-06-12</td>\n",
       "      <td>14.0</td>\n",
       "      <td>0</td>\n",
       "      <td>4942 SE 28th Ave</td>\n",
       "      <td>portland</td>\n",
       "      <td>97202.0</td>\n",
       "      <td>1965-01-24</td>\n",
       "      <td>...</td>\n",
       "      <td>223-222@5xc-jxr-tgk</td>\n",
       "      <td>6008 se 49TH AVE</td>\n",
       "      <td>97206</td>\n",
       "      <td>Indian Financial System 5E</td>\n",
       "      <td>['Khan']</td>\n",
       "      <td>Tata McGraw-Hill Education</td>\n",
       "      <td>NaN</td>\n",
       "      <td>416.99</td>\n",
       "      <td>752</td>\n",
       "      <td>15</td>\n",
       "    </tr>\n",
       "    <tr>\n",
       "      <th>1</th>\n",
       "      <td>HUX-y4oXl04C</td>\n",
       "      <td>23v-222@5xc-jv7-v4v</td>\n",
       "      <td>2018-08-06</td>\n",
       "      <td>2018-10-02</td>\n",
       "      <td>57.0</td>\n",
       "      <td>1</td>\n",
       "      <td>5054 SW 26th Pl</td>\n",
       "      <td>portland</td>\n",
       "      <td>97239.0</td>\n",
       "      <td>1981-11-10</td>\n",
       "      <td>...</td>\n",
       "      <td>23v-222@5xc-jv7-v4v</td>\n",
       "      <td>2300 NW Thurman  St</td>\n",
       "      <td>97210</td>\n",
       "      <td>Indian Financial System 5E</td>\n",
       "      <td>['Khan']</td>\n",
       "      <td>Tata McGraw-Hill Education</td>\n",
       "      <td>NaN</td>\n",
       "      <td>416.99</td>\n",
       "      <td>752</td>\n",
       "      <td>15</td>\n",
       "    </tr>\n",
       "    <tr>\n",
       "      <th>2</th>\n",
       "      <td>HUX-y4oXl04C</td>\n",
       "      <td>222-222@5xc-jv5-nt9</td>\n",
       "      <td>2018-02-16</td>\n",
       "      <td>2018-03-03</td>\n",
       "      <td>15.0</td>\n",
       "      <td>0</td>\n",
       "      <td>4241 NE Holman St</td>\n",
       "      <td>portland</td>\n",
       "      <td>97218.0</td>\n",
       "      <td>1977-06-09</td>\n",
       "      <td>...</td>\n",
       "      <td>222-222@5xc-jv5-nt9</td>\n",
       "      <td>512    N Killingsworth St</td>\n",
       "      <td>97217</td>\n",
       "      <td>Indian Financial System 5E</td>\n",
       "      <td>['Khan']</td>\n",
       "      <td>Tata McGraw-Hill Education</td>\n",
       "      <td>NaN</td>\n",
       "      <td>416.99</td>\n",
       "      <td>752</td>\n",
       "      <td>15</td>\n",
       "    </tr>\n",
       "    <tr>\n",
       "      <th>3</th>\n",
       "      <td>HUX-y4oXl04C</td>\n",
       "      <td>zzw-222@5xc-knn-c5z</td>\n",
       "      <td>2018-11-06</td>\n",
       "      <td>2018-12-03</td>\n",
       "      <td>27.0</td>\n",
       "      <td>0</td>\n",
       "      <td>7450 SE Overland St</td>\n",
       "      <td>portland</td>\n",
       "      <td>97222.0</td>\n",
       "      <td>1964-10-15</td>\n",
       "      <td>...</td>\n",
       "      <td>zzw-222@5xc-knn-c5z</td>\n",
       "      <td>7905  SE Holgate Blvd</td>\n",
       "      <td>97206</td>\n",
       "      <td>Indian Financial System 5E</td>\n",
       "      <td>['Khan']</td>\n",
       "      <td>Tata McGraw-Hill Education</td>\n",
       "      <td>NaN</td>\n",
       "      <td>416.99</td>\n",
       "      <td>752</td>\n",
       "      <td>15</td>\n",
       "    </tr>\n",
       "    <tr>\n",
       "      <th>4</th>\n",
       "      <td>HUX-y4oXl04C</td>\n",
       "      <td>226-222@5xc-jxj-7yv</td>\n",
       "      <td>2018-08-19</td>\n",
       "      <td>2018-08-24</td>\n",
       "      <td>5.0</td>\n",
       "      <td>0</td>\n",
       "      <td>4106 NE 69th Ave</td>\n",
       "      <td>portland</td>\n",
       "      <td>97218.0</td>\n",
       "      <td>1990-10-06</td>\n",
       "      <td>...</td>\n",
       "      <td>226-222@5xc-jxj-7yv</td>\n",
       "      <td>1038 SE CESAR E CHAVEZ blvd</td>\n",
       "      <td>97214</td>\n",
       "      <td>Indian Financial System 5E</td>\n",
       "      <td>['Khan']</td>\n",
       "      <td>Tata McGraw-Hill Education</td>\n",
       "      <td>NaN</td>\n",
       "      <td>416.99</td>\n",
       "      <td>752</td>\n",
       "      <td>15</td>\n",
       "    </tr>\n",
       "  </tbody>\n",
       "</table>\n",
       "<p>5 rows × 24 columns</p>\n",
       "</div>"
      ],
      "text/plain": [
       "             id           library_id date_checkout date_returned  numdays  \\\n",
       "0  HUX-y4oXl04C  223-222@5xc-jxr-tgk    2018-05-29    2018-06-12     14.0   \n",
       "1  HUX-y4oXl04C  23v-222@5xc-jv7-v4v    2018-08-06    2018-10-02     57.0   \n",
       "2  HUX-y4oXl04C  222-222@5xc-jv5-nt9    2018-02-16    2018-03-03     15.0   \n",
       "3  HUX-y4oXl04C  zzw-222@5xc-knn-c5z    2018-11-06    2018-12-03     27.0   \n",
       "4  HUX-y4oXl04C  226-222@5xc-jxj-7yv    2018-08-19    2018-08-24      5.0   \n",
       "\n",
       "   late       street_address      city   zipcode  birth_date  ...  \\\n",
       "0     0     4942 SE 28th Ave  portland   97202.0  1965-01-24  ...   \n",
       "1     1      5054 SW 26th Pl  portland  97239.0   1981-11-10  ...   \n",
       "2     0    4241 NE Holman St  portland  97218.0   1977-06-09  ...   \n",
       "3     0  7450 SE Overland St  portland   97222.0  1964-10-15  ...   \n",
       "4     0     4106 NE 69th Ave  portland   97218.0  1990-10-06  ...   \n",
       "\n",
       "                lib_id           lib_street_address postal_code  \\\n",
       "0  223-222@5xc-jxr-tgk             6008 se 49TH AVE       97206   \n",
       "1  23v-222@5xc-jv7-v4v          2300 NW Thurman  St       97210   \n",
       "2  222-222@5xc-jv5-nt9   512    N Killingsworth St        97217   \n",
       "3  zzw-222@5xc-knn-c5z        7905  SE Holgate Blvd       97206   \n",
       "4  226-222@5xc-jxj-7yv  1038 SE CESAR E CHAVEZ blvd       97214   \n",
       "\n",
       "                        title   authors                   publisher  \\\n",
       "0  Indian Financial System 5E  ['Khan']  Tata McGraw-Hill Education   \n",
       "1  Indian Financial System 5E  ['Khan']  Tata McGraw-Hill Education   \n",
       "2  Indian Financial System 5E  ['Khan']  Tata McGraw-Hill Education   \n",
       "3  Indian Financial System 5E  ['Khan']  Tata McGraw-Hill Education   \n",
       "4  Indian Financial System 5E  ['Khan']  Tata McGraw-Hill Education   \n",
       "\n",
       "  categories   price pages book_age  \n",
       "0        NaN  416.99   752       15  \n",
       "1        NaN  416.99   752       15  \n",
       "2        NaN  416.99   752       15  \n",
       "3        NaN  416.99   752       15  \n",
       "4        NaN  416.99   752       15  \n",
       "\n",
       "[5 rows x 24 columns]"
      ]
     },
     "execution_count": 34,
     "metadata": {},
     "output_type": "execute_result"
    }
   ],
   "source": [
    "joined = pd.merge(left=cust_check_lib, right=books, left_on='id', right_on='id')\n",
    "joined.head()"
   ]
  },
  {
   "cell_type": "markdown",
   "metadata": {},
   "source": [
    "### Now I calculate each customer's age:"
   ]
  },
  {
   "cell_type": "code",
   "execution_count": 35,
   "metadata": {},
   "outputs": [],
   "source": [
    "joined['age'] =  pd.to_datetime(joined['birth_date'], errors='coerce', format='%Y-%m-%d').dt.year "
   ]
  },
  {
   "cell_type": "code",
   "execution_count": 36,
   "metadata": {},
   "outputs": [],
   "source": [
    "joined['cust_age'] = joined['age'].apply(lambda x: 2021 - x)"
   ]
  },
  {
   "cell_type": "markdown",
   "metadata": {},
   "source": [
    "### And then remove the customers who have age less than 5 and more than 100, cause that might be a corrupted data:"
   ]
  },
  {
   "cell_type": "code",
   "execution_count": 37,
   "metadata": {},
   "outputs": [],
   "source": [
    "joined = joined[(joined['cust_age']<100) & (joined['cust_age']>5)]"
   ]
  },
  {
   "cell_type": "markdown",
   "metadata": {},
   "source": [
    "### I will also sort the joined dataset by date_checkout variable, because we cannot use train_test_split here, cause it is a timeseries and we need to predict for the future:"
   ]
  },
  {
   "cell_type": "code",
   "execution_count": 38,
   "metadata": {},
   "outputs": [],
   "source": [
    "joined.sort_values('date_checkout', ignore_index = True, inplace = True)"
   ]
  },
  {
   "cell_type": "markdown",
   "metadata": {},
   "source": [
    "### Let's also see which libraries have the most late returns:"
   ]
  },
  {
   "cell_type": "code",
   "execution_count": 39,
   "metadata": {},
   "outputs": [
    {
     "data": {
      "text/plain": [
       "library_id\n",
       "222-222@5xc-jv5-nt9    7\n",
       "222-222@5xc-jvf-skf    3\n",
       "222-222@5xc-jxp-rp9    9\n",
       "222-222@5xc-kkw-bzf    6\n",
       "223-222@5xc-jxr-tgk    7\n",
       "224-222@5xc-jw2-t9z    3\n",
       "225-222@5xc-jtz-hkf    8\n",
       "226-222@5xc-jxj-7yv    5\n",
       "226-222@5xc-kc4-fpv    4\n",
       "227-222@5xc-jww-btv    6\n",
       "228-222@5xc-jtz-hwk    9\n",
       "22c-222@5xc-jwj-pvz    6\n",
       "22d-222@5xc-kcy-8sq    8\n",
       "23v-222@5xc-jv7-v4v    6\n",
       "zzw-222@5xc-jv4-789    8\n",
       "zzw-222@5xc-knn-c5z    8\n",
       "zzw-223@5xc-jv7-ct9    7\n",
       "zzw-224@5xc-jwv-2rk    7\n",
       "Name: late, dtype: int32"
      ]
     },
     "execution_count": 39,
     "metadata": {},
     "output_type": "execute_result"
    }
   ],
   "source": [
    "x = joined.groupby('library_id')['late'].sum()\n",
    "x"
   ]
  },
  {
   "cell_type": "code",
   "execution_count": 40,
   "metadata": {},
   "outputs": [
    {
     "data": {
      "text/plain": [
       "<AxesSubplot:xlabel='library_id'>"
      ]
     },
     "execution_count": 40,
     "metadata": {},
     "output_type": "execute_result"
    },
    {
     "data": {
      "image/png": "[encoded data removed]",
      "text/plain": [
       "<Figure size 432x288 with 1 Axes>"
      ]
     },
     "metadata": {
      "needs_background": "light"
     },
     "output_type": "display_data"
    }
   ],
   "source": [
    "x.plot(kind= 'bar')"
   ]
  },
  {
   "cell_type": "markdown",
   "metadata": {},
   "source": [
    "### Cleaning the gender variable:"
   ]
  },
  {
   "cell_type": "code",
   "execution_count": 41,
   "metadata": {},
   "outputs": [
    {
     "data": {
      "text/plain": [
       "array(['female', 'male', 'female ', nan, 'male ', ' male', 'FEMALE',\n",
       "       'MALE', ' female'], dtype=object)"
      ]
     },
     "execution_count": 41,
     "metadata": {},
     "output_type": "execute_result"
    }
   ],
   "source": [
    "joined['gender'].unique()"
   ]
  },
  {
   "cell_type": "code",
   "execution_count": 42,
   "metadata": {},
   "outputs": [],
   "source": [
    "joined['gender']= joined['gender'].str.lower().replace(\" \",\"\").str.strip()"
   ]
  },
  {
   "cell_type": "code",
   "execution_count": 43,
   "metadata": {},
   "outputs": [
    {
     "data": {
      "text/plain": [
       "array(['female', 'male', nan], dtype=object)"
      ]
     },
     "execution_count": 43,
     "metadata": {},
     "output_type": "execute_result"
    }
   ],
   "source": [
    "joined['gender'].unique()"
   ]
  },
  {
   "cell_type": "markdown",
   "metadata": {},
   "source": [
    "### Now let's see if gender is playing a role in the late returns or not, using a bar plot again:"
   ]
  },
  {
   "cell_type": "code",
   "execution_count": 44,
   "metadata": {},
   "outputs": [
    {
     "name": "stdout",
     "output_type": "stream",
     "text": [
      "gender               female  male\n",
      "library_id                       \n",
      "222-222@5xc-jv5-nt9       3     4\n",
      "222-222@5xc-jvf-skf       2     1\n",
      "222-222@5xc-jxp-rp9       7     2\n",
      "222-222@5xc-kkw-bzf       3     3\n",
      "223-222@5xc-jxr-tgk       3     4\n",
      "224-222@5xc-jw2-t9z       1     2\n",
      "225-222@5xc-jtz-hkf       5     3\n",
      "226-222@5xc-jxj-7yv       2     3\n",
      "226-222@5xc-kc4-fpv       2     2\n",
      "227-222@5xc-jww-btv       3     3\n",
      "228-222@5xc-jtz-hwk       5     4\n",
      "22c-222@5xc-jwj-pvz       1     5\n",
      "22d-222@5xc-kcy-8sq       2     6\n",
      "23v-222@5xc-jv7-v4v       3     3\n",
      "zzw-222@5xc-jv4-789       3     5\n",
      "zzw-222@5xc-knn-c5z       5     2\n",
      "zzw-223@5xc-jv7-ct9       4     3\n",
      "zzw-224@5xc-jwv-2rk       0     7\n"
     ]
    }
   ],
   "source": [
    "counts = joined.groupby(['library_id', 'gender']).late.sum().unstack()\n",
    "print(counts)"
   ]
  },
  {
   "cell_type": "code",
   "execution_count": 45,
   "metadata": {},
   "outputs": [
    {
     "data": {
      "text/plain": [
       "<AxesSubplot:xlabel='library_id'>"
      ]
     },
     "execution_count": 45,
     "metadata": {},
     "output_type": "execute_result"
    },
    {
     "data": {
      "image/png": "[encoded data removed]",
      "text/plain": [
       "<Figure size 432x288 with 1 Axes>"
      ]
     },
     "metadata": {
      "needs_background": "light"
     },
     "output_type": "display_data"
    }
   ],
   "source": [
    "counts.plot(kind='bar', stacked=True)"
   ]
  },
  {
   "cell_type": "markdown",
   "metadata": {},
   "source": [
    "### Let's see If the target data is balanced or not:"
   ]
  },
  {
   "cell_type": "code",
   "execution_count": 46,
   "metadata": {},
   "outputs": [
    {
     "data": {
      "text/plain": [
       "117"
      ]
     },
     "execution_count": 46,
     "metadata": {},
     "output_type": "execute_result"
    }
   ],
   "source": [
    "len(joined[joined['late']==1])"
   ]
  },
  {
   "cell_type": "code",
   "execution_count": 47,
   "metadata": {},
   "outputs": [
    {
     "data": {
      "text/plain": [
       "1094"
      ]
     },
     "execution_count": 47,
     "metadata": {},
     "output_type": "execute_result"
    }
   ],
   "source": [
    "len(joined[joined['late']==0])"
   ]
  },
  {
   "cell_type": "code",
   "execution_count": 48,
   "metadata": {},
   "outputs": [
    {
     "name": "stderr",
     "output_type": "stream",
     "text": [
      "C:\\Users\\mahsa\\Anaconda3\\lib\\site-packages\\seaborn\\_decorators.py:36: FutureWarning: Pass the following variable as a keyword arg: x. From version 0.12, the only valid positional argument will be `data`, and passing other arguments without an explicit keyword will result in an error or misinterpretation.\n",
      "  warnings.warn(\n"
     ]
    },
    {
     "data": {
      "image/png": "[encoded data removed]",
      "text/plain": [
       "<Figure size 432x288 with 1 Axes>"
      ]
     },
     "metadata": {},
     "output_type": "display_data"
    }
   ],
   "source": [
    "# visualize the target variable\n",
    "import seaborn as sns\n",
    "sns.set()\n",
    "\n",
    "from matplotlib import pyplot as plt\n",
    "g = sns.countplot(joined['late'])\n",
    "g.set_xticklabels(['Not late','late'])\n",
    "plt.show()"
   ]
  },
  {
   "cell_type": "markdown",
   "metadata": {},
   "source": [
    "### According to the plot above, we can see that the target data is not balanced, so I need to over sample the data. I could also use class_weight as the model's parameter to fix the imbalanced target data. But now let's try oversampling:"
   ]
  },
  {
   "cell_type": "code",
   "execution_count": 49,
   "metadata": {},
   "outputs": [],
   "source": [
    "class_0 = joined[joined['late'] == 0]\n",
    "class_1 = joined[joined['late'] == 1]\n",
    "\n",
    "class_count_0, class_count_1 = joined['late'].value_counts()"
   ]
  },
  {
   "cell_type": "code",
   "execution_count": 50,
   "metadata": {},
   "outputs": [
    {
     "data": {
      "text/plain": [
       "<AxesSubplot:title={'center':'count (target)'}>"
      ]
     },
     "execution_count": 50,
     "metadata": {},
     "output_type": "execute_result"
    },
    {
     "data": {
      "image/png": "[encoded data removed]",
      "text/plain": [
       "<Figure size 432x288 with 1 Axes>"
      ]
     },
     "metadata": {},
     "output_type": "display_data"
    }
   ],
   "source": [
    "class_1_over = class_1.sample(class_count_0, replace=True)\n",
    "test_over = pd.concat([class_1_over, class_0], axis=0)\n",
    "test_over['late'].value_counts().plot(kind='bar', title='count (target)')"
   ]
  },
  {
   "cell_type": "markdown",
   "metadata": {},
   "source": [
    "### The test_over dataset has a balanced target data."
   ]
  },
  {
   "cell_type": "markdown",
   "metadata": {},
   "source": [
    "### Now let's extract the day of the week that each customer checked_out the book:"
   ]
  },
  {
   "cell_type": "code",
   "execution_count": 51,
   "metadata": {},
   "outputs": [],
   "source": [
    "test_over['weekday'] = test_over['date_checkout'].dt.dayofweek"
   ]
  },
  {
   "cell_type": "markdown",
   "metadata": {},
   "source": [
    "### Also let's extract the month each customer checked out a book:"
   ]
  },
  {
   "cell_type": "code",
   "execution_count": 52,
   "metadata": {},
   "outputs": [],
   "source": [
    "test_over.reset_index(drop = True, inplace = True)\n",
    "test_over.sort_values('date_checkout', ignore_index = True, inplace = True)\n",
    "test_over['month_checkout'] = test_over['date_checkout'].dt.month"
   ]
  },
  {
   "cell_type": "markdown",
   "metadata": {},
   "source": [
    "### fixing the categories variable:"
   ]
  },
  {
   "cell_type": "code",
   "execution_count": 53,
   "metadata": {},
   "outputs": [
    {
     "data": {
      "text/plain": [
       "0       ['Fire engines']\n",
       "1       ['Fire engines']\n",
       "2       ['Fire engines']\n",
       "3                    NaN\n",
       "4       ['Fire engines']\n",
       "              ...       \n",
       "2183         ['Science']\n",
       "2184         ['Science']\n",
       "2185         ['Science']\n",
       "2186         ['Science']\n",
       "2187         ['Medical']\n",
       "Name: categories, Length: 2188, dtype: object"
      ]
     },
     "execution_count": 53,
     "metadata": {},
     "output_type": "execute_result"
    }
   ],
   "source": [
    "test_over['categories']"
   ]
  },
  {
   "cell_type": "code",
   "execution_count": 54,
   "metadata": {},
   "outputs": [
    {
     "name": "stderr",
     "output_type": "stream",
     "text": [
      "<ipython-input-54-f30fb9c8b001>:3: SettingWithCopyWarning: \n",
      "A value is trying to be set on a copy of a slice from a DataFrame\n",
      "\n",
      "See the caveats in the documentation: https://pandas.pydata.org/pandas-docs/stable/user_guide/indexing.html#returning-a-view-versus-a-copy\n",
      "  test_over['categories'][i] = test_over['categories'][i][2:-2]\n"
     ]
    },
    {
     "data": {
      "text/plain": [
       "0       Fire engines\n",
       "1       Fire engines\n",
       "2       Fire engines\n",
       "3                NaN\n",
       "4       Fire engines\n",
       "            ...     \n",
       "2183         Science\n",
       "2184         Science\n",
       "2185         Science\n",
       "2186         Science\n",
       "2187         Medical\n",
       "Name: categories, Length: 2188, dtype: object"
      ]
     },
     "execution_count": 54,
     "metadata": {},
     "output_type": "execute_result"
    }
   ],
   "source": [
    "for i in range(len(test_over['categories'])):\n",
    "    if test_over['categories'][i] is not np.nan:\n",
    "        test_over['categories'][i] = test_over['categories'][i][2:-2]\n",
    "    \n",
    "test_over['categories']"
   ]
  },
  {
   "cell_type": "markdown",
   "metadata": {},
   "source": [
    "### filling out the missing values:"
   ]
  },
  {
   "cell_type": "code",
   "execution_count": 55,
   "metadata": {},
   "outputs": [],
   "source": [
    "test_over['price'].fillna(0, inplace= True)"
   ]
  },
  {
   "cell_type": "code",
   "execution_count": 56,
   "metadata": {},
   "outputs": [],
   "source": [
    "test_over.fillna('nan', inplace= True)"
   ]
  },
  {
   "cell_type": "code",
   "execution_count": 57,
   "metadata": {},
   "outputs": [
    {
     "data": {
      "text/plain": [
       "id                    0\n",
       "library_id            0\n",
       "date_checkout         0\n",
       "date_returned         0\n",
       "numdays               0\n",
       "late                  0\n",
       "street_address        0\n",
       "city                  0\n",
       "zipcode               0\n",
       "birth_date            0\n",
       "gender                0\n",
       "education             0\n",
       "occupation            0\n",
       "cust_id               0\n",
       "lib_id                0\n",
       "lib_street_address    0\n",
       "postal_code           0\n",
       "title                 0\n",
       "authors               0\n",
       "publisher             0\n",
       "categories            0\n",
       "price                 0\n",
       "pages                 0\n",
       "book_age              0\n",
       "age                   0\n",
       "cust_age              0\n",
       "weekday               0\n",
       "month_checkout        0\n",
       "dtype: int64"
      ]
     },
     "execution_count": 57,
     "metadata": {},
     "output_type": "execute_result"
    }
   ],
   "source": [
    "test_over.isna().sum()"
   ]
  },
  {
   "cell_type": "markdown",
   "metadata": {},
   "source": [
    "## changing the id to book_id for more clarification in the dataset:"
   ]
  },
  {
   "cell_type": "code",
   "execution_count": 58,
   "metadata": {},
   "outputs": [
    {
     "data": {
      "text/plain": [
       "Index(['book_id', 'library_id', 'date_checkout', 'date_returned', 'numdays',\n",
       "       'late', 'street_address', 'city', 'zipcode', 'birth_date', 'gender',\n",
       "       'education', 'occupation', 'cust_id', 'lib_id', 'lib_street_address',\n",
       "       'postal_code', 'title', 'authors', 'publisher', 'categories', 'price',\n",
       "       'pages', 'book_age', 'age', 'cust_age', 'weekday', 'month_checkout'],\n",
       "      dtype='object')"
      ]
     },
     "execution_count": 58,
     "metadata": {},
     "output_type": "execute_result"
    }
   ],
   "source": [
    "test_over.rename(columns={'id': 'book_id'}, inplace= True)\n",
    "test_over.columns"
   ]
  },
  {
   "cell_type": "markdown",
   "metadata": {},
   "source": [
    "### Creating the X and y for our model:"
   ]
  },
  {
   "cell_type": "code",
   "execution_count": 59,
   "metadata": {},
   "outputs": [],
   "source": [
    "features_to_use = ['library_id', 'book_id', 'city',\n",
    "                   'zipcode', 'gender', 'education', 'occupation',\n",
    "                   'month_checkout', 'cust_age',\n",
    "                   'categories','pages', 'weekday', 'price', 'postal_code', 'authors', 'publisher', 'book_age']\n",
    "\n",
    "X = test_over[features_to_use]\n",
    "y = test_over['late']"
   ]
  },
  {
   "cell_type": "markdown",
   "metadata": {},
   "source": [
    "### Because most of the features I am using are categorical feature, I am using oneHotEncoder to encode the categorical variables.\n",
    "### it will encode the columns_to_encode variables and the keyword \"passThrough\" will pass the rest of the features_to_use as they are:"
   ]
  },
  {
   "cell_type": "code",
   "execution_count": 60,
   "metadata": {},
   "outputs": [],
   "source": [
    "from sklearn.compose import ColumnTransformer\n",
    "from sklearn.preprocessing import OneHotEncoder\n",
    "\n",
    "transformer_name = 'ohe_on_all_categorical_features'\n",
    "transformer = OneHotEncoder(sparse=False, handle_unknown='ignore')\n",
    "columns_to_encode = ['library_id','zipcode', 'gender', 'education', 'occupation', 'month_checkout', 'categories',\n",
    "                    'weekday','book_id', 'postal_code', 'authors', 'publisher', 'city']\n",
    "\n",
    "\n",
    "ohe_final = ColumnTransformer([\n",
    "    (transformer_name, transformer, columns_to_encode)], \n",
    "    remainder='passthrough')\n",
    "\n",
    "ohe_final.fit(X);"
   ]
  },
  {
   "cell_type": "code",
   "execution_count": 61,
   "metadata": {},
   "outputs": [
    {
     "name": "stdout",
     "output_type": "stream",
     "text": [
      "Shape of transformed data matrix:  (2188, 870)\n"
     ]
    }
   ],
   "source": [
    "X_transformed = ohe_final.transform(X)\n",
    "print('Shape of transformed data matrix: ', X_transformed.shape)"
   ]
  },
  {
   "cell_type": "markdown",
   "metadata": {},
   "source": [
    "### Because we have date in the dataset, we cannot use train_test_split to create X_train, y_train, X_test, and y_test. We need to use time series Split for this:"
   ]
  },
  {
   "cell_type": "code",
   "execution_count": 62,
   "metadata": {},
   "outputs": [],
   "source": [
    "from sklearn.model_selection import TimeSeriesSplit\n",
    "from sklearn.ensemble import RandomForestClassifier\n",
    "\n",
    "tscv = TimeSeriesSplit(n_splits=3)\n",
    "#print(tscv.split(X))  \n",
    "for train_index, test_index in tscv.split(X):\n",
    "    #print(\"TRAIN:\", train_index, \"TEST:\", test_index)\n",
    "    X_train, X_test = X.iloc[train_index], X.iloc[test_index]\n",
    "    y_train, y_test = y.iloc[train_index], y.iloc[test_index]"
   ]
  },
  {
   "cell_type": "markdown",
   "metadata": {},
   "source": [
    "### First I try logistic regression:"
   ]
  },
  {
   "cell_type": "code",
   "execution_count": 63,
   "metadata": {},
   "outputs": [],
   "source": [
    "from sklearn.pipeline import Pipeline\n",
    "from sklearn.preprocessing import StandardScaler\n",
    "from sklearn.linear_model import LogisticRegression\n",
    "\n",
    "\n",
    "lr = LogisticRegression(max_iter=10000, random_state=1024)\n",
    "\n",
    "lr_pipe = Pipeline([('ohe', ohe_final),\n",
    "                   ('scaler', StandardScaler()),\n",
    "                    ('lr', lr)])\n",
    "\n",
    "lr_pipe.fit(X_train, y_train);"
   ]
  },
  {
   "cell_type": "code",
   "execution_count": 64,
   "metadata": {},
   "outputs": [
    {
     "data": {
      "text/plain": [
       "array([1, 1, 0, 1, 1, 1, 0, 0, 0, 0, 0, 0, 0, 0, 0, 0, 0, 0, 0, 0, 0, 0,\n",
       "       0, 0, 0, 0, 0, 0, 0, 0, 0, 0, 0, 0, 0, 0, 0, 0, 0, 0, 0, 0, 0, 0,\n",
       "       0, 1, 0, 0, 0, 0, 0, 0, 0, 1, 0, 0, 0, 0, 0, 0, 0, 1, 1, 1, 1, 1,\n",
       "       0, 1, 1, 1, 0, 1, 0, 0, 0, 0, 0, 0, 0, 0, 0, 0, 0, 0, 0, 0, 0, 0,\n",
       "       0, 0, 0, 0, 0, 0, 0, 0, 0, 0, 0, 0, 0, 0, 0, 0, 0, 0, 0, 0, 0, 0,\n",
       "       0, 0, 0, 0, 0, 0, 0, 0, 0, 0, 0, 1, 1, 0, 1, 1, 1, 1, 1, 0, 1, 1,\n",
       "       1, 1, 1, 1, 1, 0, 0, 1, 1, 1, 0, 0, 0, 0, 0, 0, 0, 0, 0, 1, 1, 1,\n",
       "       0, 0, 0, 0, 0, 1, 0, 0, 0, 0, 1, 1, 1, 1, 1, 1, 1, 1, 1, 1, 1, 0,\n",
       "       0, 0, 0, 0, 0, 0, 1, 0, 1, 1, 1, 1, 1, 1, 1, 1, 1, 1, 1, 1, 1, 1,\n",
       "       1, 1, 1, 1, 1, 1, 0, 0, 0, 0, 0, 0, 0, 0, 0, 0, 0, 0, 0, 0, 0, 1,\n",
       "       0, 0, 0, 0, 1, 0, 0, 0, 0, 0, 0, 0, 0, 0, 1, 1, 1, 1, 1, 0, 0, 0,\n",
       "       1, 1, 0, 0, 0, 1, 1, 0, 0, 0, 0, 0, 0, 0, 0, 0, 0, 0, 0, 0, 0, 0,\n",
       "       0, 0, 1, 0, 1, 1, 1, 1, 0, 0, 1, 1, 1, 1, 1, 1, 0, 1, 1, 0, 0, 0,\n",
       "       0, 0, 1, 1, 1, 1, 1, 0, 1, 1, 1, 1, 0, 1, 0, 0, 0, 0, 0, 0, 0, 0,\n",
       "       0, 0, 0, 0, 0, 0, 0, 0, 0, 0, 0, 0, 0, 0, 0, 0, 0, 0, 0, 1, 0, 0,\n",
       "       0, 0, 0, 0, 1, 0, 0, 0, 0, 1, 0, 0, 0, 0, 0, 0, 0, 0, 0, 0, 0, 0,\n",
       "       0, 0, 1, 0, 1, 1, 1, 1, 0, 1, 0, 1, 1, 1, 0, 1, 0, 0, 1, 0, 0, 0,\n",
       "       0, 0, 0, 0, 0, 0, 0, 0, 0, 0, 0, 0, 0, 0, 0, 0, 0, 0, 0, 0, 0, 0,\n",
       "       0, 0, 0, 0, 0, 0, 0, 0, 0, 0, 0, 1, 1, 1, 1, 0, 1, 1, 0, 0, 0, 1,\n",
       "       0, 0, 0, 0, 0, 0, 1, 0, 1, 0, 0, 0, 0, 0, 0, 0, 0, 0, 0, 0, 0, 0,\n",
       "       0, 0, 1, 0, 0, 0, 0, 0, 0, 1, 0, 1, 0, 1, 1, 1, 1, 1, 1, 1, 1, 1,\n",
       "       1, 1, 1, 1, 1, 1, 0, 0, 1, 0, 0, 0, 1, 1, 1, 1, 1, 1, 1, 1, 1, 1,\n",
       "       0, 0, 0, 0, 0, 0, 0, 0, 0, 0, 0, 0, 0, 0, 0, 0, 0, 0, 0, 0, 0, 0,\n",
       "       0, 0, 0, 0, 0, 0, 0, 0, 0, 0, 0, 0, 0, 0, 0, 0, 0, 0, 1, 1, 1, 1,\n",
       "       1, 1, 1, 1, 1, 1, 1, 0, 0, 0, 0, 0, 1, 1, 1, 1, 1, 1, 0])"
      ]
     },
     "execution_count": 64,
     "metadata": {},
     "output_type": "execute_result"
    }
   ],
   "source": [
    "y_pred = lr_pipe.predict(X_test)\n",
    "y_pred"
   ]
  },
  {
   "cell_type": "code",
   "execution_count": 65,
   "metadata": {},
   "outputs": [
    {
     "data": {
      "text/plain": [
       "array([1, 1, 0, 1, 1, 1, 0, 0, 0, 0, 0, 0, 0, 0, 0, 0, 0, 1, 1, 1, 1, 0,\n",
       "       0, 0, 1, 1, 0, 1, 1, 1, 1, 1, 1, 1, 0, 0, 0, 0, 0, 0, 0, 0, 0, 0,\n",
       "       0, 0, 0, 0, 1, 1, 1, 1, 1, 0, 1, 0, 1, 1, 1, 1, 1, 1, 1, 1, 1, 1,\n",
       "       0, 1, 0, 1, 0, 0, 0, 0, 0, 0, 0, 0, 1, 0, 1, 1, 0, 1, 1, 0, 1, 0,\n",
       "       0, 0, 0, 0, 0, 0, 0, 0, 0, 1, 1, 1, 0, 1, 0, 1, 1, 1, 0, 0, 0, 0,\n",
       "       0, 0, 0, 0, 0, 0, 0, 0, 0, 0, 0, 1, 1, 0, 1, 1, 1, 1, 1, 0, 1, 1,\n",
       "       1, 1, 1, 1, 1, 0, 0, 1, 1, 1, 0, 0, 0, 0, 0, 0, 0, 0, 0, 0, 0, 0,\n",
       "       0, 0, 0, 0, 0, 0, 0, 0, 0, 0, 1, 1, 1, 1, 1, 1, 1, 1, 1, 1, 1, 0,\n",
       "       0, 0, 0, 0, 0, 0, 0, 0, 0, 1, 1, 1, 0, 1, 1, 1, 1, 1, 1, 1, 1, 1,\n",
       "       1, 1, 1, 1, 1, 1, 0, 0, 0, 0, 0, 0, 0, 0, 0, 0, 0, 0, 0, 0, 0, 0,\n",
       "       0, 0, 0, 0, 0, 0, 1, 1, 0, 1, 1, 1, 1, 1, 1, 1, 1, 1, 1, 0, 0, 0,\n",
       "       1, 1, 0, 0, 0, 0, 0, 1, 1, 1, 1, 0, 1, 1, 1, 1, 1, 1, 1, 1, 1, 1,\n",
       "       0, 1, 0, 0, 1, 1, 1, 1, 0, 0, 1, 0, 1, 1, 1, 1, 0, 1, 1, 0, 0, 0,\n",
       "       0, 0, 1, 1, 1, 1, 1, 0, 1, 0, 1, 1, 0, 1, 0, 0, 0, 0, 0, 0, 1, 1,\n",
       "       1, 1, 1, 0, 1, 0, 1, 0, 1, 1, 1, 1, 1, 1, 0, 0, 1, 0, 0, 0, 1, 1,\n",
       "       1, 0, 1, 1, 0, 0, 0, 0, 0, 0, 0, 0, 0, 1, 0, 1, 1, 1, 1, 1, 1, 1,\n",
       "       1, 0, 1, 0, 1, 1, 1, 1, 0, 1, 0, 1, 1, 1, 0, 1, 0, 0, 0, 0, 0, 1,\n",
       "       0, 1, 0, 1, 0, 1, 0, 1, 1, 0, 0, 1, 0, 1, 1, 1, 0, 0, 0, 0, 1, 1,\n",
       "       0, 1, 1, 1, 1, 1, 1, 1, 0, 0, 0, 1, 1, 1, 1, 0, 1, 1, 0, 0, 0, 0,\n",
       "       0, 0, 1, 1, 1, 1, 0, 1, 0, 1, 1, 1, 1, 1, 1, 1, 1, 1, 1, 0, 0, 0,\n",
       "       0, 0, 0, 0, 0, 0, 0, 0, 0, 1, 0, 1, 0, 1, 1, 1, 1, 1, 1, 1, 1, 1,\n",
       "       1, 1, 1, 1, 1, 1, 0, 0, 0, 0, 0, 0, 1, 1, 1, 0, 1, 1, 1, 1, 1, 1,\n",
       "       0, 1, 1, 1, 1, 1, 1, 1, 1, 1, 1, 1, 1, 1, 1, 0, 0, 1, 1, 1, 1, 1,\n",
       "       1, 0, 1, 1, 1, 0, 1, 1, 1, 1, 0, 1, 0, 0, 0, 0, 0, 0, 1, 1, 1, 1,\n",
       "       1, 1, 1, 1, 1, 1, 1, 0, 0, 0, 0, 0, 1, 1, 1, 1, 1, 1, 0])"
      ]
     },
     "execution_count": 65,
     "metadata": {},
     "output_type": "execute_result"
    }
   ],
   "source": [
    "np.array(y_test)"
   ]
  },
  {
   "cell_type": "markdown",
   "metadata": {},
   "source": [
    "### Let's look at the confusion matrix:"
   ]
  },
  {
   "cell_type": "code",
   "execution_count": 66,
   "metadata": {},
   "outputs": [
    {
     "data": {
      "text/html": [
       "<div>\n",
       "<style scoped>\n",
       "    .dataframe tbody tr th:only-of-type {\n",
       "        vertical-align: middle;\n",
       "    }\n",
       "\n",
       "    .dataframe tbody tr th {\n",
       "        vertical-align: top;\n",
       "    }\n",
       "\n",
       "    .dataframe thead th {\n",
       "        text-align: right;\n",
       "    }\n",
       "</style>\n",
       "<table border=\"1\" class=\"dataframe\">\n",
       "  <thead>\n",
       "    <tr style=\"text-align: right;\">\n",
       "      <th></th>\n",
       "      <th>class 0 pred</th>\n",
       "      <th>class 1 pred</th>\n",
       "    </tr>\n",
       "  </thead>\n",
       "  <tbody>\n",
       "    <tr>\n",
       "      <th>class 0 actual</th>\n",
       "      <td>226</td>\n",
       "      <td>28</td>\n",
       "    </tr>\n",
       "    <tr>\n",
       "      <th>class 1 actual</th>\n",
       "      <td>149</td>\n",
       "      <td>144</td>\n",
       "    </tr>\n",
       "  </tbody>\n",
       "</table>\n",
       "</div>"
      ],
      "text/plain": [
       "                class 0 pred  class 1 pred\n",
       "class 0 actual           226            28\n",
       "class 1 actual           149           144"
      ]
     },
     "execution_count": 66,
     "metadata": {},
     "output_type": "execute_result"
    }
   ],
   "source": [
    "from sklearn.metrics import confusion_matrix\n",
    "\n",
    "pd.DataFrame(confusion_matrix(y_test, y_pred),\n",
    "             index = ['class 0 actual', 'class 1 actual'],\n",
    "             columns = ['class 0 pred', 'class 1 pred'])"
   ]
  },
  {
   "cell_type": "markdown",
   "metadata": {},
   "source": [
    "### As we can see here, it is not doing a good job on predicting class 1. Let's look at the precision, recall, accuracy and the area under the ROC curve:"
   ]
  },
  {
   "cell_type": "code",
   "execution_count": 67,
   "metadata": {},
   "outputs": [],
   "source": [
    "from sklearn import metrics\n",
    "\n",
    "def model_evaluation(model, X, y_true):\n",
    "    y_pred = model.predict(X)\n",
    "    scores = {}\n",
    "    scores['accuracy'] = round(metrics.accuracy_score(y_true, y_pred), 4)\n",
    "    scores['precision'] = round(metrics.precision_score(y_true, y_pred), 4)\n",
    "    scores['recall'] = round(metrics.recall_score(y_true, y_pred), 4)\n",
    "    probs = model.predict_proba(X).T[1]\n",
    "    precisions, recalls, thresholds = metrics.precision_recall_curve(y_true, probs)\n",
    "    scores['area under precision-recall curve'] = round(metrics.auc(recalls, precisions), 4)\n",
    "    return scores\n",
    "\n",
    "def print_model_evaluation(model_name, scores):\n",
    "    print('{} evaluation \\n'.format(model_name))\n",
    "    for metric, score in scores.items():\n",
    "        print('Test {}: {}'.format(metric, score))"
   ]
  },
  {
   "cell_type": "code",
   "execution_count": 68,
   "metadata": {},
   "outputs": [
    {
     "name": "stdout",
     "output_type": "stream",
     "text": [
      "Logistic regression evaluation \n",
      "\n",
      "Test accuracy: 0.6764\n",
      "Test precision: 0.8372\n",
      "Test recall: 0.4915\n",
      "Test area under precision-recall curve: 0.8283\n"
     ]
    }
   ],
   "source": [
    "lr_pipe_score = model_evaluation(lr_pipe, X_test, y_test)\n",
    "print_model_evaluation('Logistic regression', lr_pipe_score)"
   ]
  },
  {
   "cell_type": "markdown",
   "metadata": {},
   "source": [
    "### Recall and accuracy is not good so far. Let's now try RandomForestClassifier model and see what results we get from that:"
   ]
  },
  {
   "cell_type": "code",
   "execution_count": 69,
   "metadata": {},
   "outputs": [
    {
     "name": "stdout",
     "output_type": "stream",
     "text": [
      "Random forest evaluation \n",
      "\n",
      "Test accuracy: 0.6307\n",
      "Test precision: 0.8321\n",
      "Test recall: 0.3891\n",
      "Test area under precision-recall curve: 0.8311\n"
     ]
    }
   ],
   "source": [
    "from sklearn.ensemble import RandomForestClassifier\n",
    "from sklearn.model_selection import GridSearchCV\n",
    "\n",
    "rf_pipe = Pipeline([('ohe', ohe_final),\n",
    "                    ('rf', RandomForestClassifier(n_estimators=512, random_state=1024\n",
    "                                                 , max_depth=4))])\n",
    "\n",
    "# rf_gs = GridSearchCV(rf_pipe, \n",
    "#                      cv=5, \n",
    "#                      param_grid={'rf__max_depth': range(3, 10)}\n",
    "#                     )\n",
    "\n",
    "\n",
    "rf_pipe.fit(X_train, y_train)\n",
    "\n",
    "\n",
    "rf_pipe_scores = model_evaluation(rf_pipe, X_test, y_test)\n",
    "print_model_evaluation('Random forest', rf_pipe_scores)"
   ]
  },
  {
   "cell_type": "markdown",
   "metadata": {},
   "source": [
    "### Still recall is not good here, however we can see a much better accuracy and precision . Let's try GradientBoostingClassifier:"
   ]
  },
  {
   "cell_type": "code",
   "execution_count": 70,
   "metadata": {},
   "outputs": [
    {
     "name": "stdout",
     "output_type": "stream",
     "text": [
      "Gradient Boosting evaluation \n",
      "\n",
      "Test accuracy: 0.7166\n",
      "Test precision: 0.7634\n",
      "Test recall: 0.6826\n",
      "Test area under precision-recall curve: 0.8139\n"
     ]
    }
   ],
   "source": [
    "from sklearn.ensemble import GradientBoostingClassifier\n",
    "\n",
    "gb = GradientBoostingClassifier(n_estimators=150, learning_rate=0.01, max_depth=4, random_state=128)\n",
    "gb_pipe = Pipeline([('ohe', ohe_final),\n",
    "                    ('gb', gb)])\n",
    "\n",
    "\n",
    "gb_pipe.fit(X_train, y_train)\n",
    "\n",
    "gb_pipe_scores = model_evaluation(gb_pipe, X_test, y_test)\n",
    "print_model_evaluation('Gradient Boosting', gb_pipe_scores)"
   ]
  },
  {
   "cell_type": "markdown",
   "metadata": {},
   "source": [
    "### finding out the important features of the GradientBoostingClassifier:\n",
    "##### I got the code from https://katstam.com/regression-feature_importance/"
   ]
  },
  {
   "cell_type": "code",
   "execution_count": 71,
   "metadata": {},
   "outputs": [],
   "source": [
    "onehot_columns = list(gb_pipe.named_steps['ohe']\\\n",
    "                       .named_transformers_[transformer_name]\\\n",
    "                       .get_feature_names(input_features=columns_to_encode))"
   ]
  },
  {
   "cell_type": "code",
   "execution_count": 72,
   "metadata": {},
   "outputs": [
    {
     "data": {
      "text/plain": [
       "['cust_age',\n",
       " 'pages',\n",
       " 'price',\n",
       " 'book_age',\n",
       " 'library_id_222-222@5xc-jv5-nt9',\n",
       " 'library_id_222-222@5xc-jvf-skf',\n",
       " 'library_id_222-222@5xc-jxp-rp9',\n",
       " 'library_id_222-222@5xc-kkw-bzf',\n",
       " 'library_id_223-222@5xc-jxr-tgk',\n",
       " 'library_id_224-222@5xc-jw2-t9z',\n",
       " 'library_id_225-222@5xc-jtz-hkf',\n",
       " 'library_id_226-222@5xc-jxj-7yv',\n",
       " 'library_id_226-222@5xc-kc4-fpv',\n",
       " 'library_id_227-222@5xc-jww-btv',\n",
       " 'library_id_228-222@5xc-jtz-hwk',\n",
       " 'library_id_22c-222@5xc-jwj-pvz',\n",
       " 'library_id_22d-222@5xc-kcy-8sq',\n",
       " 'library_id_23v-222@5xc-jv7-v4v',\n",
       " 'library_id_zzw-222@5xc-jv4-789',\n",
       " 'library_id_zzw-222@5xc-knn-c5z',\n",
       " 'library_id_zzw-223@5xc-jv7-ct9',\n",
       " 'library_id_zzw-224@5xc-jwv-2rk',\n",
       " 'zipcode_ 97086.0',\n",
       " 'zipcode_ 97202.0',\n",
       " 'zipcode_ 97203.0',\n",
       " 'zipcode_ 97206.0',\n",
       " 'zipcode_ 97210.0',\n",
       " 'zipcode_ 97212.0',\n",
       " 'zipcode_ 97214.0',\n",
       " 'zipcode_ 97218.0',\n",
       " 'zipcode_#97034.0',\n",
       " 'zipcode_#97201.0',\n",
       " 'zipcode_#97202.0',\n",
       " 'zipcode_#97211.0',\n",
       " 'zipcode_#97212.0',\n",
       " 'zipcode_#97213.0',\n",
       " 'zipcode_#97217.0',\n",
       " 'zipcode_#97219.0',\n",
       " 'zipcode_#97221.0',\n",
       " 'zipcode_#97222.0',\n",
       " 'zipcode_-97214.0',\n",
       " 'zipcode_-97217.0',\n",
       " 'zipcode_-97219.0',\n",
       " 'zipcode_-97221.0',\n",
       " 'zipcode_-97232.0',\n",
       " 'zipcode_-97239.0',\n",
       " 'zipcode_-97266.0',\n",
       " 'zipcode_97005.0',\n",
       " 'zipcode_97006.0',\n",
       " 'zipcode_97007.0',\n",
       " 'zipcode_97008.0',\n",
       " 'zipcode_97008.0_',\n",
       " 'zipcode_97034.0',\n",
       " 'zipcode_97035.0',\n",
       " 'zipcode_97035.0#',\n",
       " 'zipcode_97045.0',\n",
       " 'zipcode_97062.0',\n",
       " 'zipcode_97068.0',\n",
       " 'zipcode_97080.0',\n",
       " 'zipcode_97086.0',\n",
       " 'zipcode_97086.0 ',\n",
       " 'zipcode_97089.0',\n",
       " 'zipcode_97201.0',\n",
       " 'zipcode_97201.0 ',\n",
       " 'zipcode_97201.0-',\n",
       " 'zipcode_97202.0',\n",
       " 'zipcode_97202.0 ',\n",
       " 'zipcode_97202.0#',\n",
       " 'zipcode_97202.0-',\n",
       " 'zipcode_97202.0_',\n",
       " 'zipcode_97203.0',\n",
       " 'zipcode_97203.0 ',\n",
       " 'zipcode_97203.0_',\n",
       " 'zipcode_97204.0',\n",
       " 'zipcode_97205.0',\n",
       " 'zipcode_97205.0 ',\n",
       " 'zipcode_97206.0',\n",
       " 'zipcode_97206.0#',\n",
       " 'zipcode_97206.0-',\n",
       " 'zipcode_97209.0',\n",
       " 'zipcode_97210.0',\n",
       " 'zipcode_97211.0',\n",
       " 'zipcode_97211.0-',\n",
       " 'zipcode_97211.0_',\n",
       " 'zipcode_97212.0',\n",
       " 'zipcode_97212.0 ',\n",
       " 'zipcode_97212.0-',\n",
       " 'zipcode_97213.0',\n",
       " 'zipcode_97213.0 ',\n",
       " 'zipcode_97213.0-',\n",
       " 'zipcode_97214.0',\n",
       " 'zipcode_97214.0 ',\n",
       " 'zipcode_97214.0#',\n",
       " 'zipcode_97214.0_',\n",
       " 'zipcode_97215.0',\n",
       " 'zipcode_97216.0',\n",
       " 'zipcode_97217.0',\n",
       " 'zipcode_97217.0#',\n",
       " 'zipcode_97217.0_',\n",
       " 'zipcode_97218.0',\n",
       " 'zipcode_97218.0 ',\n",
       " 'zipcode_97219.0',\n",
       " 'zipcode_97219.0#',\n",
       " 'zipcode_97219.0-',\n",
       " 'zipcode_97219.0_',\n",
       " 'zipcode_97220.0',\n",
       " 'zipcode_97220.0 ',\n",
       " 'zipcode_97220.0-',\n",
       " 'zipcode_97220.0_',\n",
       " 'zipcode_97221.0',\n",
       " 'zipcode_97222.0',\n",
       " 'zipcode_97222.0#',\n",
       " 'zipcode_97223.0',\n",
       " 'zipcode_97223.0#',\n",
       " 'zipcode_97224.0',\n",
       " 'zipcode_97225.0',\n",
       " 'zipcode_97225.0_',\n",
       " 'zipcode_97227.0',\n",
       " 'zipcode_97227.0#',\n",
       " 'zipcode_97229.0',\n",
       " 'zipcode_97230.0',\n",
       " 'zipcode_97230.0 ',\n",
       " 'zipcode_97231.0',\n",
       " 'zipcode_97231.0#',\n",
       " 'zipcode_97232.0',\n",
       " 'zipcode_97233.0',\n",
       " 'zipcode_97236.0',\n",
       " 'zipcode_97239.0',\n",
       " 'zipcode_97239.0 ',\n",
       " 'zipcode_97266.0',\n",
       " 'zipcode_97267.0',\n",
       " 'zipcode_98660.0',\n",
       " 'zipcode_98661.0',\n",
       " 'zipcode_98662.0',\n",
       " 'zipcode_98663.0',\n",
       " 'zipcode_98664.0',\n",
       " 'zipcode_98665.0',\n",
       " 'zipcode_98683.0',\n",
       " 'zipcode_98685.0',\n",
       " 'zipcode__97206.0',\n",
       " 'zipcode__97211.0',\n",
       " 'zipcode__97216.0',\n",
       " 'zipcode__97217.0',\n",
       " 'zipcode__97222.0',\n",
       " 'zipcode__97239.0',\n",
       " 'zipcode__97266.0',\n",
       " 'gender_female',\n",
       " 'gender_male',\n",
       " 'gender_nan',\n",
       " 'education_ College',\n",
       " 'education_ Graduate  Degree',\n",
       " 'education_ High  School',\n",
       " 'education_ Others',\n",
       " 'education_COLLEGE',\n",
       " 'education_College',\n",
       " 'education_College ',\n",
       " 'education_GRADUATE Degree',\n",
       " 'education_GRADUATE degree',\n",
       " 'education_Graduate   Degree',\n",
       " 'education_Graduate  Degree',\n",
       " 'education_Graduate  Degree ',\n",
       " 'education_Graduate DEGREE',\n",
       " 'education_Graduate Degree',\n",
       " 'education_Graduate Degree ',\n",
       " 'education_HIGH SCHOOL',\n",
       " 'education_HIGH School',\n",
       " 'education_HIGH school',\n",
       " 'education_High   School',\n",
       " 'education_High  School',\n",
       " 'education_High  School ',\n",
       " 'education_High SCHOOL',\n",
       " 'education_High School',\n",
       " 'education_High school',\n",
       " 'education_OTHERS',\n",
       " 'education_Others',\n",
       " 'education_Others ',\n",
       " 'education_college',\n",
       " 'education_graduate DEGREE',\n",
       " 'education_high SCHOOL',\n",
       " 'education_high School',\n",
       " 'education_nan',\n",
       " 'education_others',\n",
       " 'occupation_ Admin & Support',\n",
       " 'occupation_ Blue Collar',\n",
       " 'occupation_ Blue Collar ',\n",
       " 'occupation_ Business & Finance',\n",
       " 'occupation_ Education & Health',\n",
       " 'occupation_ Others',\n",
       " 'occupation_ Sales',\n",
       " 'occupation_ Tech',\n",
       " 'occupation_ADMIN & Support',\n",
       " 'occupation_Admin  &  Support',\n",
       " 'occupation_Admin  & Support',\n",
       " 'occupation_Admin &  Support',\n",
       " 'occupation_Admin & Support',\n",
       " 'occupation_BLUE Collar',\n",
       " 'occupation_BUSINESS & Finance',\n",
       " 'occupation_Blue   Collar',\n",
       " 'occupation_Blue  Collar',\n",
       " 'occupation_Blue COLLAR',\n",
       " 'occupation_Blue Collar',\n",
       " 'occupation_Blue collar',\n",
       " 'occupation_Business  &  Finance ',\n",
       " 'occupation_Business  & Finance',\n",
       " 'occupation_Business  & Finance  ',\n",
       " 'occupation_Business &   Finance',\n",
       " 'occupation_Business & FINANCE',\n",
       " 'occupation_Business & Finance',\n",
       " 'occupation_EDUCATION & HEALTH',\n",
       " 'occupation_Education   &  Health',\n",
       " 'occupation_Education  &   Health',\n",
       " 'occupation_Education  &  Health',\n",
       " 'occupation_Education  &  Health ',\n",
       " 'occupation_Education  & Health',\n",
       " 'occupation_Education  & Health ',\n",
       " 'occupation_Education &  Health',\n",
       " 'occupation_Education & HEALTH',\n",
       " 'occupation_Education & Health',\n",
       " 'occupation_OTHERS',\n",
       " 'occupation_Others',\n",
       " 'occupation_Others ',\n",
       " 'occupation_SALES',\n",
       " 'occupation_Sales',\n",
       " 'occupation_Sales ',\n",
       " 'occupation_TECH',\n",
       " 'occupation_Tech',\n",
       " 'occupation_Tech ',\n",
       " 'occupation_admin & Support',\n",
       " 'occupation_blue COLLAR',\n",
       " 'occupation_business & FINANCE',\n",
       " 'occupation_education & HEALTH',\n",
       " 'occupation_education & Health',\n",
       " 'occupation_nan',\n",
       " 'occupation_others',\n",
       " 'occupation_sales',\n",
       " 'occupation_tech',\n",
       " 'month_checkout_1',\n",
       " 'month_checkout_2',\n",
       " 'month_checkout_3',\n",
       " 'month_checkout_4',\n",
       " 'month_checkout_5',\n",
       " 'month_checkout_6',\n",
       " 'month_checkout_7',\n",
       " 'month_checkout_8',\n",
       " 'month_checkout_9',\n",
       " 'month_checkout_10',\n",
       " 'categories_Accounting',\n",
       " 'categories_Administrative agencies',\n",
       " 'categories_Advertising',\n",
       " 'categories_Agricultural education',\n",
       " 'categories_Agriculture',\n",
       " 'categories_Aircraft engine industry',\n",
       " 'categories_Aircraft industry',\n",
       " 'categories_Airplanes',\n",
       " 'categories_Art',\n",
       " 'categories_Astronautics in earth sciences',\n",
       " 'categories_Bacteriology',\n",
       " 'categories_Banks and banking',\n",
       " 'categories_Barrier islands',\n",
       " 'categories_Biology',\n",
       " 'categories_Business & Economics',\n",
       " 'categories_Business enterprises',\n",
       " 'categories_Capital market',\n",
       " 'categories_Central Provinces (India)',\n",
       " 'categories_Classification',\n",
       " 'categories_Computers',\n",
       " 'categories_Conservation of natural resources',\n",
       " 'categories_Corliss steam-engine',\n",
       " 'categories_Corporations',\n",
       " 'categories_Desarrollo economico',\n",
       " 'categories_Diesel engines',\n",
       " 'categories_Electric railroads',\n",
       " 'categories_Electronic books',\n",
       " 'categories_Emigration and immigration',\n",
       " 'categories_Engineering',\n",
       " 'categories_Environmental law',\n",
       " 'categories_Fiction',\n",
       " 'categories_Finance',\n",
       " 'categories_Finance, Public',\n",
       " 'categories_Financial institutions',\n",
       " 'categories_Financial services industry',\n",
       " 'categories_Fire engines',\n",
       " 'categories_Gases',\n",
       " 'categories_Geology',\n",
       " 'categories_Government publications',\n",
       " 'categories_Historical Card',\n",
       " 'categories_History',\n",
       " 'categories_Hydrology',\n",
       " 'categories_Industrial arts',\n",
       " 'categories_Industries',\n",
       " 'categories_Information storage and retrieval systems',\n",
       " 'categories_Internal combustion engines',\n",
       " 'categories_Internal medicine',\n",
       " 'categories_Juvenile Fiction',\n",
       " 'categories_Juvenile Nonfiction',\n",
       " 'categories_Kentucky',\n",
       " 'categories_Language Arts & Disciplines',\n",
       " 'categories_Libraries',\n",
       " 'categories_Marine diesel motors',\n",
       " 'categories_Marine resources',\n",
       " 'categories_Mathematics',\n",
       " 'categories_Mechanical engineering',\n",
       " 'categories_Mechanics',\n",
       " \"categories_Mechanics' institutes\",\n",
       " 'categories_Mechanics, Analytic',\n",
       " 'categories_Mechanics, Applied',\n",
       " 'categories_Medical',\n",
       " 'categories_Medicine',\n",
       " 'categories_Medicine, Naval',\n",
       " 'categories_Medicine, Preventive',\n",
       " 'categories_Mines and mineral resources',\n",
       " 'categories_Montana',\n",
       " 'categories_Natsworthy, Tom (Fictitious character)',\n",
       " 'categories_Natural resources',\n",
       " 'categories_Nature',\n",
       " 'categories_Philosophy',\n",
       " 'categories_Physicians',\n",
       " 'categories_Political Science',\n",
       " 'categories_Psychology',\n",
       " 'categories_Sand',\n",
       " 'categories_Science',\n",
       " 'categories_Social Science',\n",
       " 'categories_Sports & Recreation',\n",
       " 'categories_Steam-engines',\n",
       " 'categories_Stream measurements',\n",
       " 'categories_Technology',\n",
       " 'categories_Technology & Engineering',\n",
       " 'categories_Transportation',\n",
       " 'categories_United States',\n",
       " 'categories_Utah',\n",
       " 'categories_Water resources development',\n",
       " 'categories_Water-supply',\n",
       " 'categories_nan',\n",
       " 'weekday_0',\n",
       " 'weekday_1',\n",
       " 'weekday_2',\n",
       " 'weekday_3',\n",
       " 'weekday_4',\n",
       " 'weekday_5',\n",
       " 'weekday_6',\n",
       " 'book_id_-xFj0vTLbRIC',\n",
       " 'book_id_0mt9NdDSmYYC',\n",
       " 'book_id_1Gc_SPKCZY8C',\n",
       " 'book_id_1IhDAQAAIAAJ',\n",
       " 'book_id_1Mc0AQAAMAAJ',\n",
       " 'book_id_1_1OtAEACAAJ',\n",
       " 'book_id_1fQuLiaGY4YC',\n",
       " 'book_id_1hZrAAAAMAAJ',\n",
       " 'book_id_1wOe6bVPZFIC',\n",
       " 'book_id_2g0FAAAAQAAJ',\n",
       " 'book_id_2hoDAAAAQAAJ',\n",
       " 'book_id_2k0jAAAAMAAJ',\n",
       " 'book_id_2mtCAAAAYAAJ',\n",
       " 'book_id_2uuX1zhTFakC',\n",
       " 'book_id_3QLDDgAAQBAJ',\n",
       " 'book_id_3pK1bx6NZDMC',\n",
       " 'book_id_42I5AQAAMAAJ',\n",
       " 'book_id_4Z9JAAAAMAAJ',\n",
       " 'book_id_4zqgXdITQuAC',\n",
       " 'book_id_53j1DwAAQBAJ',\n",
       " 'book_id_59sDAAAAMBAJ',\n",
       " 'book_id_5JJMAQAAMAAJ',\n",
       " 'book_id_5Wx6-uv-DSkC',\n",
       " 'book_id_5f1FAQAAMAAJ',\n",
       " 'book_id_72iwAAAAIAAJ',\n",
       " 'book_id_73_nAR1_4OAC',\n",
       " 'book_id_79QDAAAAMBAJ',\n",
       " 'book_id_7T9-BAAAQBAJ',\n",
       " 'book_id_8MzgAQAACAAJ',\n",
       " 'book_id_8OUDAAAAMBAJ',\n",
       " 'book_id_8XFFO-MK13QC',\n",
       " 'book_id_8dcDAAAAMBAJ',\n",
       " 'book_id_8xpKAAAAMAAJ',\n",
       " 'book_id_9SYBZggtr_IC',\n",
       " 'book_id_9dkDAAAAMBAJ',\n",
       " 'book_id_9pZWAAAAcAAJ',\n",
       " 'book_id_9q1LAQAAIAAJ',\n",
       " 'book_id_A-HthMfF5moC',\n",
       " 'book_id_B7JZ3D7WU80C',\n",
       " 'book_id_BHBVUs2fZC0C',\n",
       " 'book_id_BTCUDwAAQBAJ',\n",
       " 'book_id_BZVBDwAAQBAJ',\n",
       " 'book_id_BdxRAQAAMAAJ',\n",
       " 'book_id_BhQSAQAAMAAJ',\n",
       " 'book_id_C4lNAAAAYAAJ',\n",
       " 'book_id_CMlXAAAAMAAJ',\n",
       " 'book_id_CW-7tHAaVR0C',\n",
       " 'book_id_Ci1HAQAAMAAJ',\n",
       " 'book_id_Cr74DwAAQBAJ',\n",
       " 'book_id_D0JSAQAAMAAJ',\n",
       " 'book_id_DFtEAgAAQBAJ',\n",
       " 'book_id_DMFS2GsTdO4C',\n",
       " 'book_id_DT2UBgAAQBAJ',\n",
       " 'book_id_DUoJAAAAIAAJ',\n",
       " 'book_id_DhbHyWW4BZcC',\n",
       " 'book_id_DlN0CAAAQBAJ',\n",
       " 'book_id_E741AQAAMAAJ',\n",
       " 'book_id_EbxXAAAAMAAJ',\n",
       " 'book_id_F2EfyMAw51wC',\n",
       " 'book_id_F44fAQAAMAAJ',\n",
       " 'book_id_FRgQAAAAIAAJ',\n",
       " 'book_id_FTMAAAAAQAAJ',\n",
       " 'book_id_FpwRAAAAYAAJ',\n",
       " 'book_id_G4fBLKAh-IUC',\n",
       " 'book_id_G4fves4jOuMC',\n",
       " 'book_id_H31XAAAAMAAJ',\n",
       " 'book_id_HUX-y4oXl04C',\n",
       " 'book_id_HWQSAAAAYAAJ',\n",
       " 'book_id_HY5qgKfwmsEC',\n",
       " 'book_id_I50-AQAAMAAJ',\n",
       " 'book_id_IAHVobTrv7cC',\n",
       " 'book_id_IRagAAAAMAAJ',\n",
       " 'book_id_IhgDAAAAYAAJ',\n",
       " 'book_id_IwsVEAAAQBAJ',\n",
       " 'book_id_K5SYITH0vRIC',\n",
       " 'book_id_K9kDAAAAMBAJ',\n",
       " 'book_id_L59IEDpeVDEC',\n",
       " 'book_id_LJnRT5e9_TIC',\n",
       " 'book_id_Llg9AQAAMAAJ',\n",
       " 'book_id_MOewp6bCFfgC',\n",
       " 'book_id_MVcXAQAAMAAJ',\n",
       " 'book_id_N9V34rWEOGcC',\n",
       " 'book_id_NbcpG4_092AC',\n",
       " 'book_id_NtxlrgEACAAJ',\n",
       " 'book_id_NwJbse1KaDMC',\n",
       " 'book_id_OK_0vJSsRKkC',\n",
       " 'book_id_OQ6sDwAAQBAJ',\n",
       " 'book_id_Ox4DAAAAQAAJ',\n",
       " 'book_id_Oxw2AQAAMAAJ',\n",
       " 'book_id_P1AoDwAAQBAJ',\n",
       " 'book_id_P2FYAAAAMAAJ',\n",
       " 'book_id_PAo1AAAAMAAJ',\n",
       " 'book_id_PNjmAAAAMAAJ',\n",
       " 'book_id_PSmsBwAAQBAJ',\n",
       " 'book_id_PjQDAAAAQAAJ',\n",
       " 'book_id_PkegAAAAMAAJ',\n",
       " 'book_id_PvxOPgAACAAJ',\n",
       " 'book_id_Q14YAAAAYAAJ',\n",
       " 'book_id_QT21QytTCiUC',\n",
       " 'book_id_QlVB6ARdT7kC',\n",
       " 'book_id_RtFBAQAAMAAJ',\n",
       " 'book_id_SFlXRT466dsC',\n",
       " 'book_id_SSJMAAAAMAAJ',\n",
       " 'book_id_ScdF1-vHvHwC',\n",
       " 'book_id_SovM2UsP7nAC',\n",
       " 'book_id_T7tYAAAAYAAJ',\n",
       " 'book_id_TAQaaPpkmokC',\n",
       " 'book_id_TH8SSrWcVQ4C',\n",
       " 'book_id_TQpFnkku2poC',\n",
       " 'book_id_TUAyAQAAMAAJ',\n",
       " 'book_id_ThY8ZkU58rwC',\n",
       " 'book_id_TowQ7pwSvgUC',\n",
       " 'book_id_Un4rNUxkfOoC',\n",
       " 'book_id_V74zAQAAMAAJ',\n",
       " 'book_id_VL0QGySiaDMC',\n",
       " 'book_id_VRlFAQAAMAAJ',\n",
       " 'book_id_VSGQiN1YBqwC',\n",
       " 'book_id_VWG8AQAAQBAJ',\n",
       " 'book_id_VYgqsn81c0sC',\n",
       " 'book_id_VibSCgAAQBAJ',\n",
       " 'book_id_VzhUAAAAYAAJ',\n",
       " 'book_id_W4pIAQAAIAAJ',\n",
       " 'book_id_W58mAQAAIAAJ',\n",
       " 'book_id_WBZ4DAAAQBAJ',\n",
       " 'book_id_WXssAAAAYAAJ',\n",
       " 'book_id_XA5LAAAAMAAJ',\n",
       " 'book_id_XNwDAAAAMBAJ',\n",
       " 'book_id_XX_lWIioipsC',\n",
       " 'book_id_Xy5RAAAAYAAJ',\n",
       " 'book_id_Y1rFswEACAAJ',\n",
       " 'book_id_YkxMPOkSQ_0C',\n",
       " 'book_id_YoLor8-zRDEC',\n",
       " 'book_id_ZAtjZwZN5pcC',\n",
       " 'book_id_ZIRMAAAAMAAJ',\n",
       " 'book_id_ZapAAAAAIAAJ',\n",
       " 'book_id_ZjZOAAAAMAAJ',\n",
       " 'book_id__C3JCwAAQBAJ',\n",
       " 'book_id__JTWMD_Cm-QC',\n",
       " 'book_id__L9IAAAAYAAJ',\n",
       " 'book_id___RYAAAAYAAJ',\n",
       " 'book_id__fjaJ6XXAAQC',\n",
       " 'book_id__nE3AQAAMAAJ',\n",
       " 'book_id_a-4qAQAAMAAJ',\n",
       " 'book_id_a-QDAAAAMBAJ',\n",
       " 'book_id_adsDAAAAMBAJ',\n",
       " 'book_id_ala3BgAAQBAJ',\n",
       " 'book_id_atxXg5k9wrMC',\n",
       " 'book_id_b4wIAAAAQAAJ',\n",
       " 'book_id_bRY9AAAAYAAJ',\n",
       " 'book_id_bbbFl0dt6WIC',\n",
       " 'book_id_bz87AQAAMAAJ',\n",
       " 'book_id_cg00-dlKDhUC',\n",
       " 'book_id_ck-32n6REQgC',\n",
       " 'book_id_crikJiTbRAAC',\n",
       " 'book_id_dOmrLm5Jq4AC',\n",
       " 'book_id_dXbSBQAAQBAJ',\n",
       " 'book_id_eBcFQ3DUcQEC',\n",
       " 'book_id_eLgobuBJQXYC',\n",
       " 'book_id_eddEAQAAMAAJ',\n",
       " 'book_id_egEeAQAAIAAJ',\n",
       " 'book_id_f3SnKTZT_WMC',\n",
       " 'book_id_frzDCQAAQBAJ',\n",
       " 'book_id_g9rXVe6jmiQC',\n",
       " 'book_id_gM80AQAAMAAJ',\n",
       " 'book_id_gTygAAAAMAAJ',\n",
       " 'book_id_ggIKAAAAIAAJ',\n",
       " 'book_id_gpBKAQAAMAAJ',\n",
       " 'book_id_h9QcAQAAMAAJ',\n",
       " 'book_id_hCVACwAAQBAJ',\n",
       " 'book_id_hVFwAAAAQBAJ',\n",
       " 'book_id_hd-_y8FG8c4C',\n",
       " 'book_id_hicJUlOuqGUC',\n",
       " 'book_id_hqafM0xZjqIC',\n",
       " 'book_id_iAzrAAAAIAAJ',\n",
       " 'book_id_iGoXAQAAMAAJ',\n",
       " 'book_id_iQ22DwAAQBAJ',\n",
       " 'book_id_ih402g7bNXYC',\n",
       " 'book_id_it1BggypJ2oC',\n",
       " 'book_id_jPs8AAAAYAAJ',\n",
       " 'book_id_k1id3CBVsQ4C',\n",
       " 'book_id_kTfWdFgNUT0C',\n",
       " 'book_id_kdDDAgAAQBAJ',\n",
       " 'book_id_km9L2JfyOKAC',\n",
       " 'book_id_krW85fjSjR8C',\n",
       " 'book_id_lMkmAQAAMAAJ',\n",
       " 'book_id_li4WAAAAYAAJ',\n",
       " 'book_id_ljwyAQAAMAAJ',\n",
       " 'book_id_lkObok4vI7sC',\n",
       " 'book_id_mQTxAAAAMAAJ',\n",
       " 'book_id_mR9eAgAAQBAJ',\n",
       " 'book_id_mammQZOMCzcC',\n",
       " 'book_id_moG9m2rGrTUC',\n",
       " 'book_id_n88DAAAAMBAJ',\n",
       " 'book_id_nQikAgAAQBAJ',\n",
       " 'book_id_nndUAAAAMAAJ',\n",
       " 'book_id_nxbe7rKy5kkC',\n",
       " 'book_id_oFWsXm1zZCcC',\n",
       " 'book_id_oObQOTJbpuoC',\n",
       " 'book_id_o_ALItXuXycC',\n",
       " 'book_id_p2C0y3hbe5EC',\n",
       " 'book_id_pEWgAAAAMAAJ',\n",
       " 'book_id_pIIkAQAAMAAJ',\n",
       " 'book_id_qPTH2LBNcJEC',\n",
       " 'book_id_qgI5AAAAMAAJ',\n",
       " 'book_id_qrhVAAAAcAAJ',\n",
       " 'book_id_rEIrDwAAQBAJ',\n",
       " 'book_id_rNbuDwAAQBAJ',\n",
       " 'book_id_rZcXAQAAMAAJ',\n",
       " 'book_id_rb8fRXEk0z8C',\n",
       " 'book_id_rcRfT5Doh1kC',\n",
       " 'book_id_rcrCAgAAQBAJ',\n",
       " 'book_id_rs8OHkkVTyIC',\n",
       " 'book_id_s746AQAAIAAJ',\n",
       " 'book_id_sBmIDwAAQBAJ',\n",
       " 'book_id_sWWsivhrXn4C',\n",
       " 'book_id_sm2CDwAAQBAJ',\n",
       " 'book_id_sxF-zkQY-NsC',\n",
       " 'book_id_t1e3BWziAc8C',\n",
       " 'book_id_tAyspwAACAAJ',\n",
       " 'book_id_tCFxM82-w10C',\n",
       " 'book_id_teQaAQAAMAAJ',\n",
       " 'book_id_tjYSQXeKUA4C',\n",
       " 'book_id_trqPlpLpjyAC',\n",
       " 'book_id_tvo3LZ-Qms0C',\n",
       " 'book_id_uFy7zQEACAAJ',\n",
       " 'book_id_uW1BAQAAMAAJ',\n",
       " 'book_id_uelfAwAAQBAJ',\n",
       " 'book_id_vYOofF63aBoC',\n",
       " 'book_id_vZE-DwAAQBAJ',\n",
       " 'book_id_wckyAQAAMAAJ',\n",
       " 'book_id_xSYmAQAAIAAJ',\n",
       " 'book_id_xtY2AAAAMAAJ',\n",
       " 'book_id_yai7kyQfq1gC',\n",
       " 'book_id_ygoFAAAAQAAJ',\n",
       " 'book_id_z9-lHMQjvD0C',\n",
       " 'book_id_zTRBTjCv110C',\n",
       " 'postal_code_97202',\n",
       " 'postal_code_97203',\n",
       " 'postal_code_97204',\n",
       " 'postal_code_97205',\n",
       " 'postal_code_97206',\n",
       " 'postal_code_97210',\n",
       " 'postal_code_97212',\n",
       " 'postal_code_97213',\n",
       " 'postal_code_97214',\n",
       " 'postal_code_97217',\n",
       " 'postal_code_97219',\n",
       " 'postal_code_97233',\n",
       " 'postal_code_97239',\n",
       " \"authors_['Ahmed F. El-Sayed']\",\n",
       " \"authors_['Alfred Peter Poorman']\",\n",
       " \"authors_['Alyson J. McGregor', 'Esther K. Choo', 'Bruce M. Becker']\",\n",
       " \"authors_['American School of Correspondence at Armour Institute of Technology, Chicago', 'Walter Bradlee Snow', 'Walter Swift Leland']\",\n",
       " \"authors_['Andrew Hastie']\",\n",
       " \"authors_['Andy Clark', 'Professor of Philosophy and Director of Philosophy Neuroscience Psychology Program Andy Clark']\",\n",
       " \"authors_['Anja Janoschka']\",\n",
       " \"authors_['Annelie Wendeberg']\",\n",
       " \"authors_['Arthur Albert Stevens']\",\n",
       " \"authors_['Arthur Maine Piper', 'Francis A. Thomson', 'Samuel Milroy Ballard', 'Virgil Raymond Drexel Kirkham']\",\n",
       " \"authors_['Asli Demirgüç-Kunt', 'Ross Levine']\",\n",
       " \"authors_['Augustus Jay Du Bois']\",\n",
       " \"authors_['Axel Petrus Johnson']\",\n",
       " \"authors_['Banerjee B. K.']\",\n",
       " \"authors_['Barbara L. Miles']\",\n",
       " \"authors_['Barbara Mueller']\",\n",
       " \"authors_['Batra']\",\n",
       " \"authors_['Bob M. Fennis', 'Wolfgang Stroebe']\",\n",
       " \"authors_['Bolt, Beranek, and Newman, inc']\",\n",
       " \"authors_['British Medical Association', 'William Stokes']\",\n",
       " \"authors_['C. L. Tyagi', 'Arun Kumar']\",\n",
       " \"authors_['C. Paramasivan']\",\n",
       " \"authors_['C.A. Brebbia', 'A. Kungolos']\",\n",
       " \"authors_['California. Dept. of Water Resources']\",\n",
       " \"authors_['California. Resources Agency']\",\n",
       " \"authors_['Canada. Water resources division']\",\n",
       " \"authors_['Charles Eucharist de Medicis Sajous']\",\n",
       " \"authors_['Charles Haynes Haswell']\",\n",
       " \"authors_['Charles S. Gulas', 'Marc G. Weinberger']\",\n",
       " \"authors_['Cheryl Mattingly', 'Rasmus Dyring', 'Maria Louw', 'Thomas Schwarz Wentzer']\",\n",
       " \"authors_['Chin-Teh Sun', 'Z.-H. Jin']\",\n",
       " \"authors_['Christopher Schwarz']\",\n",
       " \"authors_['Dalvinder Singh']\",\n",
       " \"authors_['Dan Nagle']\",\n",
       " \"authors_['Daniel Delis Hill']\",\n",
       " \"authors_['David Alexander', 'Simon Archer']\",\n",
       " \"authors_['David Linn Edsall', 'John Howland', 'Alan Mason Chesney', 'John Harold Talbott']\",\n",
       " \"authors_['David Ogilvy']\",\n",
       " \"authors_['David S. Evans', 'Andrei Hagiu', 'Richard Schmalensee']\",\n",
       " \"authors_['De Volson Wood']\",\n",
       " \"authors_['Edward Swift Dunster', 'Frank Pierce Foster', 'James Bradbridge Hunter', 'Charles Eucharist de Medicis Sajous', 'Gregory Stragnell', 'Henry J. Klaunberg', 'Félix Martí-Ibáñez']\",\n",
       " \"authors_['Edwin Ray Hoskins']\",\n",
       " \"authors_['Ernest Adams', 'Joris Dormans']\",\n",
       " \"authors_['Eugene F. Brigham', 'Joel F. Houston']\",\n",
       " \"authors_['Eugene Schwartz']\",\n",
       " \"authors_['Flemming Hansen', 'Sverre Riis Christensen', 'Steen Lundsteen']\",\n",
       " \"authors_['François-Vincent Raspail']\",\n",
       " \"authors_['Gary Dahl']\",\n",
       " \"authors_['General Society of Mechanics and Tradesmen of the City of New York']\",\n",
       " \"authors_['George Alfred Goodenough', 'Oscar Adolph Leutwiler']\",\n",
       " \"authors_['George William Parker']\",\n",
       " \"authors_['Ghazi A. Karim']\",\n",
       " \"authors_['Gurusamy']\",\n",
       " \"authors_['H Zhao']\",\n",
       " \"authors_['Harvey Goodwin (bp. of Carlisle.)']\",\n",
       " \"authors_['Institution of Mechanical Engineers']\",\n",
       " \"authors_['Ireland commissioners of nat. educ']\",\n",
       " \"authors_['Irving Cowan Allen']\",\n",
       " \"authors_['Irving Porter Church']\",\n",
       " \"authors_['J. P. Den Hartog']\",\n",
       " \"authors_['Jacob Harris Patton']\",\n",
       " \"authors_['James McEwen']\",\n",
       " \"authors_['Japan. Ōkurashō']\",\n",
       " \"authors_['Jay W. Pennell']\",\n",
       " \"authors_['Jib Fowles']\",\n",
       " \"authors_['John A. Howard', 'James Hulbert']\",\n",
       " \"authors_['John Bourne']\",\n",
       " \"authors_['John Gregory (C.E.)']\",\n",
       " \"authors_['John Harvey Kellogg']\",\n",
       " \"authors_['John L. Lumley']\",\n",
       " \"authors_['Jonathan E. Ingersoll']\",\n",
       " \"authors_['Jose Luis Ortega']\",\n",
       " \"authors_['Joseph Phinney Lisk']\",\n",
       " \"authors_['Joseph Potak']\",\n",
       " \"authors_['K. Eric Drexler']\",\n",
       " \"authors_['Kara K. W. Chan', 'Kara Chan', 'James U. McNeal']\",\n",
       " \"authors_['Karen S. Johnson-Cartee', 'Gary Copeland']\",\n",
       " \"authors_['Kenneth Roman', 'Jane Maas', 'Martin Nisenholtz']\",\n",
       " \"authors_['Khan & Jain']\",\n",
       " \"authors_['Khan']\",\n",
       " \"authors_['Lalit Kumar', 'Onisimo Mutanga']\",\n",
       " \"authors_['Leonid P. Lebedev', 'I. I. Vorovich']\",\n",
       " \"authors_['Lev Abramovich Zalmanzon', 'Boris Aleksandrovich Cherkasov']\",\n",
       " \"authors_['M. Carole Macklin', 'Les Carlson', 'The American Academy of Advertising']\",\n",
       " \"authors_['Manendra Mohan']\",\n",
       " \"authors_['Marie-Renée Bakker', 'Alexandra Gröss', 'World Bank']\",\n",
       " \"authors_['Mark C. Fishman']\",\n",
       " \"authors_['Martyn Paine']\",\n",
       " \"authors_['Masaaki Okubo', 'Takuya Kuwahara']\",\n",
       " \"authors_['Massachusetts. Board of Registration and Discipline in Medicine']\",\n",
       " \"authors_['Max Sylvan Littlefield']\",\n",
       " \"authors_['Michael Schrage']\",\n",
       " \"authors_['Milwaukee (Wis.). Office of the City Comptroller']\",\n",
       " \"authors_['Montana. Department of Agriculture and Publicity']\",\n",
       " \"authors_['Montana. Dept. of Agriculture, Labor, and Industry']\",\n",
       " \"authors_['Murthy']\",\n",
       " \"authors_['Narayana N. Pillai, C.R. Ramakrishnan', 'C.R. Ramakrishnan']\",\n",
       " \"authors_['Nebraska. Dept. of Water Resources']\",\n",
       " \"authors_['Nicholas Goodnight', 'Kirk VanGelder']\",\n",
       " \"authors_['Nigel Calder']\",\n",
       " \"authors_['Norman V. Carroll']\",\n",
       " \"authors_['North Atlantic Regional Water Resources Study Group']\",\n",
       " \"authors_['Oma Gupta']\",\n",
       " \"authors_['Pamela Peterson Drake', 'Frank J. Fabozzi']\",\n",
       " \"authors_['Patrick R. Delaney', 'O. Ray Whittington']\",\n",
       " \"authors_['Paul Taylor']\",\n",
       " \"authors_['Periasamy']\",\n",
       " \"authors_['Pete Barry']\",\n",
       " \"authors_['Peter Smith Michie']\",\n",
       " \"authors_['Philip Reeve']\",\n",
       " \"authors_['Pierre Goovaerts', 'Department of Civil and Environmental Engineering Pierre Goovaerts']\",\n",
       " \"authors_['R. Scott Huffard Jr.']\",\n",
       " \"authors_['Rajiv Prabhakar']\",\n",
       " \"authors_['Random House']\",\n",
       " \"authors_['Rebecca Vickers']\",\n",
       " \"authors_['René Dugas']\",\n",
       " \"authors_['Robert A. Granger']\",\n",
       " \"authors_['Robert Andrews Millikan']\",\n",
       " \"authors_['Robert L. Kane']\",\n",
       " \"authors_['Roderick White']\",\n",
       " \"authors_['Roland Marchand']\",\n",
       " \"authors_['Ronald R. Sims']\",\n",
       " \"authors_['Rosser Reeves']\",\n",
       " \"authors_['S H H Kazmi', 'Satish K Batra']\",\n",
       " \"authors_['Samuel Newth']\",\n",
       " \"authors_['Senior Fellow Eswar S Prasad, Eds.', 'Eswar Prasad', 'Kenneth Rogoff', 'M. Ayhan Kose', 'Shang-Jin Wei']\",\n",
       " \"authors_['Siddhartha Mukherjee']\",\n",
       " \"authors_['Society for Experimental Biology and Medicine (New York, N.Y.)']\",\n",
       " \"authors_['South Carolina. Marine Resources Division']\",\n",
       " \"authors_['Stanisław Lem']\",\n",
       " \"authors_['Stephen R. Fox']\",\n",
       " \"authors_['Stephen Roper']\",\n",
       " \"authors_['Stuart McGuire']\",\n",
       " \"authors_['Susan J. Penner']\",\n",
       " \"authors_['T.A. Pratt']\",\n",
       " \"authors_['Tielong Shen', 'Jiangyan Zhang', 'Xiaohong Jiao', 'Mingxin Kang', 'Junichi Kako', 'Akira Ohata']\",\n",
       " \"authors_['Toshitsugu Oda', 'International Society of Internal Medicine']\",\n",
       " \"authors_['Tracy L. Tuten']\",\n",
       " \"authors_['U.S. Congress. Senate. Select Committee on National Water Resources']\",\n",
       " \"authors_['Union Pacific Railroad Company']\",\n",
       " \"authors_['United States. Bureau of Foreign and Domestic Commerce']\",\n",
       " \"authors_['United States. Congress. House. Committee on Armed Services', 'United States. Congress. House. Committee on Armed Services. Subcommittee for Special Investigations']\",\n",
       " \"authors_['United States. Congress. House. Committee on Banking, Finance, and Urban Affairs']\",\n",
       " \"authors_['United States. Congress. House. Committee on Interstate & Foreign Commerce']\",\n",
       " \"authors_['United States. Congress. House. Committee on Resources. Subcommittee on Fisheries Conservation, Wildlife, and Oceans', 'United States']\",\n",
       " \"authors_['United States. Congress. Senate. Committee on Energy and Natural Resources']\",\n",
       " \"authors_['United States. Congress. Senate. Committee on Public Works']\",\n",
       " \"authors_['United States. Dept. of the Interior']\",\n",
       " \"authors_['United States. Federal Trade Commission']\",\n",
       " \"authors_['United States. General Accounting Office']\",\n",
       " \"authors_['United States. Interstate Commerce Commission']\",\n",
       " \"authors_['United States. Joint Chiefs of Staff']\",\n",
       " \"authors_['United States. National Park Service']\",\n",
       " \"authors_['United States. National Resources Committee']\",\n",
       " \"authors_['W. H. Grieve']\",\n",
       " \"authors_['Wayland D. Hand']\",\n",
       " \"authors_['Wendy Nelson Espeland', 'Michael Sauder', 'Wendy Espeland']\",\n",
       " \"authors_['Wilhelm Heinrich Uhland']\",\n",
       " \"authors_['William Darrah KELLEY']\",\n",
       " \"authors_['William F. Meehan III', 'Kim Starkey Jonker']\",\n",
       " \"authors_['William Leiss', 'Stephen Kline', 'Sut Jhally']\",\n",
       " \"authors_['William Paine']\",\n",
       " \"authors_['William WALTON (M.A., of Trinity College, Cambridge.)']\",\n",
       " \"authors_['World Bank']\",\n",
       " \"authors_['Y. Uprety', 'Emmanuel Boon', 'R.C. Poudel']\",\n",
       " \"authors_['Yoon Park', 'Yoon S. Park', 'Musa Essayyad']\",\n",
       " \"authors_['Yoram (Jerry) Wind', 'Catharine Findiesen Hays']\",\n",
       " \"authors_['sir William James Moore']\",\n",
       " 'authors_nan',\n",
       " 'publisher_Academic Press',\n",
       " 'publisher_Adlard Coles',\n",
       " 'publisher_Anchor Books',\n",
       " 'publisher_Annelie Wendeberg',\n",
       " 'publisher_Ashgate Publishing, Ltd.',\n",
       " 'publisher_Atlantic Publishers & Dist',\n",
       " 'publisher_Berghahn Books',\n",
       " 'publisher_Butterworth-Heinemann',\n",
       " 'publisher_CCH',\n",
       " 'publisher_CRC Press',\n",
       " 'publisher_Cambridge University Press',\n",
       " 'publisher_Cengage Learning',\n",
       " 'publisher_Chinese University Press',\n",
       " 'publisher_Copenhagen Business School Press DK',\n",
       " 'publisher_Courier Corporation',\n",
       " 'publisher_DIANE Publishing',\n",
       " 'publisher_Elsevier',\n",
       " 'publisher_Excel Books India',\n",
       " 'publisher_GRIN Verlag',\n",
       " 'publisher_Greenwood Publishing Group',\n",
       " 'publisher_Gyan Publishing House',\n",
       " 'publisher_Heinemann-Raintree Library',\n",
       " 'publisher_Houghton Mifflin Harcourt',\n",
       " 'publisher_International Monetary Fund',\n",
       " 'publisher_John Benjamins Publishing',\n",
       " 'publisher_John Wiley & Sons',\n",
       " 'publisher_Jones & Bartlett Learning',\n",
       " 'publisher_Lippincott Williams & Wilkins',\n",
       " 'publisher_Lulu.com',\n",
       " 'publisher_M.E. Sharpe',\n",
       " 'publisher_MDPI',\n",
       " 'publisher_MIT Press',\n",
       " 'publisher_Macmillan',\n",
       " 'publisher_Motorbooks',\n",
       " 'publisher_New Age International',\n",
       " 'publisher_New Riders',\n",
       " 'publisher_Nirali Prakashan',\n",
       " 'publisher_Nova Publishers',\n",
       " 'publisher_Ohio State University Press',\n",
       " 'publisher_Oxford University Press on Demand',\n",
       " 'publisher_PHI Learning Pvt. Ltd.',\n",
       " 'publisher_Pearson Education India',\n",
       " 'publisher_Peter Lang',\n",
       " 'publisher_Policy Press',\n",
       " 'publisher_Psychology Press',\n",
       " 'publisher_Random House Books for Young Readers',\n",
       " 'publisher_Routledge',\n",
       " 'publisher_Rowman & Littlefield',\n",
       " 'publisher_Russell Sage Foundation',\n",
       " 'publisher_SAGE',\n",
       " 'publisher_Scholastic Inc.',\n",
       " 'publisher_Simon and Schuster',\n",
       " 'publisher_Spectra',\n",
       " 'publisher_Springer Science & Business Media',\n",
       " 'publisher_Stanford University Press',\n",
       " 'publisher_Tata McGraw-Hill Education',\n",
       " 'publisher_UNC Press Books',\n",
       " 'publisher_Univ of California Press',\n",
       " 'publisher_Universities Press',\n",
       " 'publisher_University of Illinois Press',\n",
       " 'publisher_Vintage',\n",
       " 'publisher_WIT Press',\n",
       " 'publisher_World Bank Publications',\n",
       " 'publisher_nan',\n",
       " 'city_beaverton',\n",
       " 'city_damascus',\n",
       " 'city_gresham',\n",
       " 'city_happyvalley',\n",
       " 'city_lakeoswego',\n",
       " 'city_nan',\n",
       " 'city_oregoncity',\n",
       " 'city_portland',\n",
       " 'city_tualatin',\n",
       " 'city_vancouver',\n",
       " 'city_westlinn']"
      ]
     },
     "execution_count": 72,
     "metadata": {},
     "output_type": "execute_result"
    }
   ],
   "source": [
    "numeric_features= [item for item in features_to_use if item not in columns_to_encode]\n",
    "numeric_features_list = list(numeric_features)\n",
    "numeric_features_list.extend(onehot_columns)\n",
    "numeric_features_list"
   ]
  },
  {
   "cell_type": "code",
   "execution_count": 73,
   "metadata": {},
   "outputs": [
    {
     "name": "stdout",
     "output_type": "stream",
     "text": [
      "Collecting eli5\n",
      "  Downloading eli5-0.11.0-py2.py3-none-any.whl (106 kB)\n",
      "Requirement already satisfied: numpy>=1.9.0 in c:\\users\\mahsa\\anaconda3\\lib\\site-packages (from eli5) (1.20.1)\n",
      "Collecting graphviz\n",
      "  Downloading graphviz-0.17-py3-none-any.whl (18 kB)\n",
      "Requirement already satisfied: six in c:\\users\\mahsa\\anaconda3\\lib\\site-packages (from eli5) (1.15.0)\n",
      "Requirement already satisfied: scipy in c:\\users\\mahsa\\anaconda3\\lib\\site-packages (from eli5) (1.6.2)\n",
      "Requirement already satisfied: scikit-learn>=0.20 in c:\\users\\mahsa\\anaconda3\\lib\\site-packages (from eli5) (0.24.1)\n",
      "Requirement already satisfied: jinja2 in c:\\users\\mahsa\\anaconda3\\lib\\site-packages (from eli5) (2.11.3)\n",
      "Requirement already satisfied: attrs>16.0.0 in c:\\users\\mahsa\\anaconda3\\lib\\site-packages (from eli5) (20.3.0)\n",
      "Collecting tabulate>=0.7.7\n",
      "  Downloading tabulate-0.8.9-py3-none-any.whl (25 kB)\n",
      "Requirement already satisfied: joblib>=0.11 in c:\\users\\mahsa\\anaconda3\\lib\\site-packages (from scikit-learn>=0.20->eli5) (1.0.1)\n",
      "Requirement already satisfied: threadpoolctl>=2.0.0 in c:\\users\\mahsa\\anaconda3\\lib\\site-packages (from scikit-learn>=0.20->eli5) (2.1.0)\n",
      "Requirement already satisfied: MarkupSafe>=0.23 in c:\\users\\mahsa\\anaconda3\\lib\\site-packages (from jinja2->eli5) (1.1.1)\n",
      "Installing collected packages: tabulate, graphviz, eli5\n",
      "Successfully installed eli5-0.11.0 graphviz-0.17 tabulate-0.8.9\n",
      "Note: you may need to restart the kernel to use updated packages.\n"
     ]
    }
   ],
   "source": [
    "pip install eli5"
   ]
  },
  {
   "cell_type": "code",
   "execution_count": 74,
   "metadata": {},
   "outputs": [
    {
     "data": {
      "text/html": [
       "\n",
       "    <style>\n",
       "    table.eli5-weights tr:hover {\n",
       "        filter: brightness(85%);\n",
       "    }\n",
       "</style>\n",
       "\n",
       "\n",
       "\n",
       "    \n",
       "\n",
       "    \n",
       "\n",
       "    \n",
       "\n",
       "    \n",
       "\n",
       "    \n",
       "\n",
       "    \n",
       "\n",
       "\n",
       "    \n",
       "\n",
       "    \n",
       "\n",
       "    \n",
       "\n",
       "    \n",
       "\n",
       "    \n",
       "\n",
       "    \n",
       "\n",
       "\n",
       "    \n",
       "\n",
       "    \n",
       "\n",
       "    \n",
       "\n",
       "    \n",
       "\n",
       "    \n",
       "        <table class=\"eli5-weights eli5-feature-importances\" style=\"border-collapse: collapse; border: none; margin-top: 0em; table-layout: auto;\">\n",
       "    <thead>\n",
       "    <tr style=\"border: none;\">\n",
       "        <th style=\"padding: 0 1em 0 0.5em; text-align: right; border: none;\">Weight</th>\n",
       "        <th style=\"padding: 0 0.5em 0 0.5em; text-align: left; border: none;\">Feature</th>\n",
       "    </tr>\n",
       "    </thead>\n",
       "    <tbody>\n",
       "    \n",
       "        <tr style=\"background-color: hsl(120, 100.00%, 80.00%); border: none;\">\n",
       "            <td style=\"padding: 0 1em 0 0.5em; text-align: right; border: none;\">\n",
       "                0.4768\n",
       "                \n",
       "                    &plusmn; 0.1611\n",
       "                \n",
       "            </td>\n",
       "            <td style=\"padding: 0 0.5em 0 0.5em; text-align: left; border: none;\">\n",
       "                city_tualatin\n",
       "            </td>\n",
       "        </tr>\n",
       "    \n",
       "        <tr style=\"background-color: hsl(120, 100.00%, 93.32%); border: none;\">\n",
       "            <td style=\"padding: 0 1em 0 0.5em; text-align: right; border: none;\">\n",
       "                0.0996\n",
       "                \n",
       "                    &plusmn; 0.0985\n",
       "                \n",
       "            </td>\n",
       "            <td style=\"padding: 0 0.5em 0 0.5em; text-align: left; border: none;\">\n",
       "                city_happyvalley\n",
       "            </td>\n",
       "        </tr>\n",
       "    \n",
       "        <tr style=\"background-color: hsl(120, 100.00%, 96.58%); border: none;\">\n",
       "            <td style=\"padding: 0 1em 0 0.5em; text-align: right; border: none;\">\n",
       "                0.0382\n",
       "                \n",
       "                    &plusmn; 0.1079\n",
       "                \n",
       "            </td>\n",
       "            <td style=\"padding: 0 0.5em 0 0.5em; text-align: left; border: none;\">\n",
       "                city_portland\n",
       "            </td>\n",
       "        </tr>\n",
       "    \n",
       "        <tr style=\"background-color: hsl(120, 100.00%, 97.03%); border: none;\">\n",
       "            <td style=\"padding: 0 1em 0 0.5em; text-align: right; border: none;\">\n",
       "                0.0312\n",
       "                \n",
       "                    &plusmn; 0.0833\n",
       "                \n",
       "            </td>\n",
       "            <td style=\"padding: 0 0.5em 0 0.5em; text-align: left; border: none;\">\n",
       "                city_westlinn\n",
       "            </td>\n",
       "        </tr>\n",
       "    \n",
       "        <tr style=\"background-color: hsl(120, 100.00%, 97.05%); border: none;\">\n",
       "            <td style=\"padding: 0 1em 0 0.5em; text-align: right; border: none;\">\n",
       "                0.0310\n",
       "                \n",
       "                    &plusmn; 0.0488\n",
       "                \n",
       "            </td>\n",
       "            <td style=\"padding: 0 0.5em 0 0.5em; text-align: left; border: none;\">\n",
       "                zipcode_97233.0\n",
       "            </td>\n",
       "        </tr>\n",
       "    \n",
       "        <tr style=\"background-color: hsl(120, 100.00%, 97.17%); border: none;\">\n",
       "            <td style=\"padding: 0 1em 0 0.5em; text-align: right; border: none;\">\n",
       "                0.0292\n",
       "                \n",
       "                    &plusmn; 0.0586\n",
       "                \n",
       "            </td>\n",
       "            <td style=\"padding: 0 0.5em 0 0.5em; text-align: left; border: none;\">\n",
       "                weekday_2\n",
       "            </td>\n",
       "        </tr>\n",
       "    \n",
       "        <tr style=\"background-color: hsl(120, 100.00%, 97.27%); border: none;\">\n",
       "            <td style=\"padding: 0 1em 0 0.5em; text-align: right; border: none;\">\n",
       "                0.0278\n",
       "                \n",
       "                    &plusmn; 0.0527\n",
       "                \n",
       "            </td>\n",
       "            <td style=\"padding: 0 0.5em 0 0.5em; text-align: left; border: none;\">\n",
       "                occupation_Education<span style=\"background-color: hsl(120, 80%, 70%); margin: 0 0.1em 0 0.1em\" title=\"A space symbol\">&emsp;</span>&amp;<span style=\"background-color: hsl(120, 80%, 70%); margin: 0 0.1em 0 0.1em\" title=\"2 space symbols\">&emsp;&emsp;</span>Health\n",
       "            </td>\n",
       "        </tr>\n",
       "    \n",
       "        <tr style=\"background-color: hsl(120, 100.00%, 97.60%); border: none;\">\n",
       "            <td style=\"padding: 0 1em 0 0.5em; text-align: right; border: none;\">\n",
       "                0.0231\n",
       "                \n",
       "                    &plusmn; 0.0467\n",
       "                \n",
       "            </td>\n",
       "            <td style=\"padding: 0 0.5em 0 0.5em; text-align: left; border: none;\">\n",
       "                zipcode_97236.0\n",
       "            </td>\n",
       "        </tr>\n",
       "    \n",
       "        <tr style=\"background-color: hsl(120, 100.00%, 97.61%); border: none;\">\n",
       "            <td style=\"padding: 0 1em 0 0.5em; text-align: right; border: none;\">\n",
       "                0.0229\n",
       "                \n",
       "                    &plusmn; 0.0587\n",
       "                \n",
       "            </td>\n",
       "            <td style=\"padding: 0 0.5em 0 0.5em; text-align: left; border: none;\">\n",
       "                month_checkout_3\n",
       "            </td>\n",
       "        </tr>\n",
       "    \n",
       "        <tr style=\"background-color: hsl(120, 100.00%, 98.36%); border: none;\">\n",
       "            <td style=\"padding: 0 1em 0 0.5em; text-align: right; border: none;\">\n",
       "                0.0134\n",
       "                \n",
       "                    &plusmn; 0.0415\n",
       "                \n",
       "            </td>\n",
       "            <td style=\"padding: 0 0.5em 0 0.5em; text-align: left; border: none;\">\n",
       "                book_id_OQ6sDwAAQBAJ\n",
       "            </td>\n",
       "        </tr>\n",
       "    \n",
       "        <tr style=\"background-color: hsl(120, 100.00%, 98.39%); border: none;\">\n",
       "            <td style=\"padding: 0 1em 0 0.5em; text-align: right; border: none;\">\n",
       "                0.0130\n",
       "                \n",
       "                    &plusmn; 0.0788\n",
       "                \n",
       "            </td>\n",
       "            <td style=\"padding: 0 0.5em 0 0.5em; text-align: left; border: none;\">\n",
       "                zipcode_97231.0#\n",
       "            </td>\n",
       "        </tr>\n",
       "    \n",
       "        <tr style=\"background-color: hsl(120, 100.00%, 98.65%); border: none;\">\n",
       "            <td style=\"padding: 0 1em 0 0.5em; text-align: right; border: none;\">\n",
       "                0.0102\n",
       "                \n",
       "                    &plusmn; 0.0428\n",
       "                \n",
       "            </td>\n",
       "            <td style=\"padding: 0 0.5em 0 0.5em; text-align: left; border: none;\">\n",
       "                zipcode_97222.0#\n",
       "            </td>\n",
       "        </tr>\n",
       "    \n",
       "        <tr style=\"background-color: hsl(120, 100.00%, 98.74%); border: none;\">\n",
       "            <td style=\"padding: 0 1em 0 0.5em; text-align: right; border: none;\">\n",
       "                0.0092\n",
       "                \n",
       "                    &plusmn; 0.0844\n",
       "                \n",
       "            </td>\n",
       "            <td style=\"padding: 0 0.5em 0 0.5em; text-align: left; border: none;\">\n",
       "                zipcode_97214.0#\n",
       "            </td>\n",
       "        </tr>\n",
       "    \n",
       "        <tr style=\"background-color: hsl(120, 100.00%, 98.77%); border: none;\">\n",
       "            <td style=\"padding: 0 1em 0 0.5em; text-align: right; border: none;\">\n",
       "                0.0089\n",
       "                \n",
       "                    &plusmn; 0.0820\n",
       "                \n",
       "            </td>\n",
       "            <td style=\"padding: 0 0.5em 0 0.5em; text-align: left; border: none;\">\n",
       "                zipcode_97080.0\n",
       "            </td>\n",
       "        </tr>\n",
       "    \n",
       "        <tr style=\"background-color: hsl(120, 100.00%, 98.80%); border: none;\">\n",
       "            <td style=\"padding: 0 1em 0 0.5em; text-align: right; border: none;\">\n",
       "                0.0086\n",
       "                \n",
       "                    &plusmn; 0.0305\n",
       "                \n",
       "            </td>\n",
       "            <td style=\"padding: 0 0.5em 0 0.5em; text-align: left; border: none;\">\n",
       "                categories_Accounting\n",
       "            </td>\n",
       "        </tr>\n",
       "    \n",
       "        <tr style=\"background-color: hsl(120, 100.00%, 98.81%); border: none;\">\n",
       "            <td style=\"padding: 0 1em 0 0.5em; text-align: right; border: none;\">\n",
       "                0.0085\n",
       "                \n",
       "                    &plusmn; 0.0198\n",
       "                \n",
       "            </td>\n",
       "            <td style=\"padding: 0 0.5em 0 0.5em; text-align: left; border: none;\">\n",
       "                library_id_228-222@5xc-jtz-hwk\n",
       "            </td>\n",
       "        </tr>\n",
       "    \n",
       "        <tr style=\"background-color: hsl(120, 100.00%, 98.85%); border: none;\">\n",
       "            <td style=\"padding: 0 1em 0 0.5em; text-align: right; border: none;\">\n",
       "                0.0080\n",
       "                \n",
       "                    &plusmn; 0.0308\n",
       "                \n",
       "            </td>\n",
       "            <td style=\"padding: 0 0.5em 0 0.5em; text-align: left; border: none;\">\n",
       "                book_id_8xpKAAAAMAAJ\n",
       "            </td>\n",
       "        </tr>\n",
       "    \n",
       "        <tr style=\"background-color: hsl(120, 100.00%, 98.86%); border: none;\">\n",
       "            <td style=\"padding: 0 1em 0 0.5em; text-align: right; border: none;\">\n",
       "                0.0079\n",
       "                \n",
       "                    &plusmn; 0.0417\n",
       "                \n",
       "            </td>\n",
       "            <td style=\"padding: 0 0.5em 0 0.5em; text-align: left; border: none;\">\n",
       "                book_id_oObQOTJbpuoC\n",
       "            </td>\n",
       "        </tr>\n",
       "    \n",
       "        <tr style=\"background-color: hsl(120, 100.00%, 98.86%); border: none;\">\n",
       "            <td style=\"padding: 0 1em 0 0.5em; text-align: right; border: none;\">\n",
       "                0.0079\n",
       "                \n",
       "                    &plusmn; 0.0469\n",
       "                \n",
       "            </td>\n",
       "            <td style=\"padding: 0 0.5em 0 0.5em; text-align: left; border: none;\">\n",
       "                library_id_222-222@5xc-jv5-nt9\n",
       "            </td>\n",
       "        </tr>\n",
       "    \n",
       "        <tr style=\"background-color: hsl(120, 100.00%, 98.89%); border: none;\">\n",
       "            <td style=\"padding: 0 1em 0 0.5em; text-align: right; border: none;\">\n",
       "                0.0077\n",
       "                \n",
       "                    &plusmn; 0.0358\n",
       "                \n",
       "            </td>\n",
       "            <td style=\"padding: 0 0.5em 0 0.5em; text-align: left; border: none;\">\n",
       "                authors_[&#x27;Massachusetts.<span style=\"background-color: hsl(120, 80%, 70%); margin: 0 0.1em 0 0.1em\" title=\"A space symbol\">&emsp;</span>Board<span style=\"background-color: hsl(120, 80%, 70%); margin: 0 0.1em 0 0.1em\" title=\"A space symbol\">&emsp;</span>of<span style=\"background-color: hsl(120, 80%, 70%); margin: 0 0.1em 0 0.1em\" title=\"A space symbol\">&emsp;</span>Registration<span style=\"background-color: hsl(120, 80%, 70%); margin: 0 0.1em 0 0.1em\" title=\"A space symbol\">&emsp;</span>and<span style=\"background-color: hsl(120, 80%, 70%); margin: 0 0.1em 0 0.1em\" title=\"A space symbol\">&emsp;</span>Discipline<span style=\"background-color: hsl(120, 80%, 70%); margin: 0 0.1em 0 0.1em\" title=\"A space symbol\">&emsp;</span>in<span style=\"background-color: hsl(120, 80%, 70%); margin: 0 0.1em 0 0.1em\" title=\"A space symbol\">&emsp;</span>Medicine&#x27;]\n",
       "            </td>\n",
       "        </tr>\n",
       "    \n",
       "        <tr style=\"background-color: hsl(120, 100.00%, 98.93%); border: none;\">\n",
       "            <td style=\"padding: 0 1em 0 0.5em; text-align: right; border: none;\">\n",
       "                0.0073\n",
       "                \n",
       "                    &plusmn; 0.0238\n",
       "                \n",
       "            </td>\n",
       "            <td style=\"padding: 0 0.5em 0 0.5em; text-align: left; border: none;\">\n",
       "                city_vancouver\n",
       "            </td>\n",
       "        </tr>\n",
       "    \n",
       "        <tr style=\"background-color: hsl(120, 100.00%, 98.94%); border: none;\">\n",
       "            <td style=\"padding: 0 1em 0 0.5em; text-align: right; border: none;\">\n",
       "                0.0072\n",
       "                \n",
       "                    &plusmn; 0.0353\n",
       "                \n",
       "            </td>\n",
       "            <td style=\"padding: 0 0.5em 0 0.5em; text-align: left; border: none;\">\n",
       "                price\n",
       "            </td>\n",
       "        </tr>\n",
       "    \n",
       "        <tr style=\"background-color: hsl(120, 100.00%, 98.95%); border: none;\">\n",
       "            <td style=\"padding: 0 1em 0 0.5em; text-align: right; border: none;\">\n",
       "                0.0071\n",
       "                \n",
       "                    &plusmn; 0.0414\n",
       "                \n",
       "            </td>\n",
       "            <td style=\"padding: 0 0.5em 0 0.5em; text-align: left; border: none;\">\n",
       "                authors_[&#x27;Flemming<span style=\"background-color: hsl(120, 80%, 70%); margin: 0 0.1em 0 0.1em\" title=\"A space symbol\">&emsp;</span>Hansen&#x27;,<span style=\"background-color: hsl(120, 80%, 70%); margin: 0 0.1em 0 0.1em\" title=\"A space symbol\">&emsp;</span>&#x27;Sverre<span style=\"background-color: hsl(120, 80%, 70%); margin: 0 0.1em 0 0.1em\" title=\"A space symbol\">&emsp;</span>Riis<span style=\"background-color: hsl(120, 80%, 70%); margin: 0 0.1em 0 0.1em\" title=\"A space symbol\">&emsp;</span>Christensen&#x27;,<span style=\"background-color: hsl(120, 80%, 70%); margin: 0 0.1em 0 0.1em\" title=\"A space symbol\">&emsp;</span>&#x27;Steen<span style=\"background-color: hsl(120, 80%, 70%); margin: 0 0.1em 0 0.1em\" title=\"A space symbol\">&emsp;</span>Lundsteen&#x27;]\n",
       "            </td>\n",
       "        </tr>\n",
       "    \n",
       "        <tr style=\"background-color: hsl(120, 100.00%, 99.09%); border: none;\">\n",
       "            <td style=\"padding: 0 1em 0 0.5em; text-align: right; border: none;\">\n",
       "                0.0058\n",
       "                \n",
       "                    &plusmn; 0.0341\n",
       "                \n",
       "            </td>\n",
       "            <td style=\"padding: 0 0.5em 0 0.5em; text-align: left; border: none;\">\n",
       "                categories_Science\n",
       "            </td>\n",
       "        </tr>\n",
       "    \n",
       "        <tr style=\"background-color: hsl(120, 100.00%, 99.12%); border: none;\">\n",
       "            <td style=\"padding: 0 1em 0 0.5em; text-align: right; border: none;\">\n",
       "                0.0055\n",
       "                \n",
       "                    &plusmn; 0.0343\n",
       "                \n",
       "            </td>\n",
       "            <td style=\"padding: 0 0.5em 0 0.5em; text-align: left; border: none;\">\n",
       "                authors_[&#x27;Dan<span style=\"background-color: hsl(120, 80%, 70%); margin: 0 0.1em 0 0.1em\" title=\"A space symbol\">&emsp;</span>Nagle&#x27;]\n",
       "            </td>\n",
       "        </tr>\n",
       "    \n",
       "        <tr style=\"background-color: hsl(120, 100.00%, 99.24%); border: none;\">\n",
       "            <td style=\"padding: 0 1em 0 0.5em; text-align: right; border: none;\">\n",
       "                0.0045\n",
       "                \n",
       "                    &plusmn; 0.0467\n",
       "                \n",
       "            </td>\n",
       "            <td style=\"padding: 0 0.5em 0 0.5em; text-align: left; border: none;\">\n",
       "                postal_code_97204\n",
       "            </td>\n",
       "        </tr>\n",
       "    \n",
       "        <tr style=\"background-color: hsl(120, 100.00%, 99.31%); border: none;\">\n",
       "            <td style=\"padding: 0 1em 0 0.5em; text-align: right; border: none;\">\n",
       "                0.0039\n",
       "                \n",
       "                    &plusmn; 0.0145\n",
       "                \n",
       "            </td>\n",
       "            <td style=\"padding: 0 0.5em 0 0.5em; text-align: left; border: none;\">\n",
       "                book_age\n",
       "            </td>\n",
       "        </tr>\n",
       "    \n",
       "        <tr style=\"background-color: hsl(120, 100.00%, 99.34%); border: none;\">\n",
       "            <td style=\"padding: 0 1em 0 0.5em; text-align: right; border: none;\">\n",
       "                0.0036\n",
       "                \n",
       "                    &plusmn; 0.0253\n",
       "                \n",
       "            </td>\n",
       "            <td style=\"padding: 0 0.5em 0 0.5em; text-align: left; border: none;\">\n",
       "                authors_[&#x27;Society<span style=\"background-color: hsl(120, 80%, 70%); margin: 0 0.1em 0 0.1em\" title=\"A space symbol\">&emsp;</span>for<span style=\"background-color: hsl(120, 80%, 70%); margin: 0 0.1em 0 0.1em\" title=\"A space symbol\">&emsp;</span>Experimental<span style=\"background-color: hsl(120, 80%, 70%); margin: 0 0.1em 0 0.1em\" title=\"A space symbol\">&emsp;</span>Biology<span style=\"background-color: hsl(120, 80%, 70%); margin: 0 0.1em 0 0.1em\" title=\"A space symbol\">&emsp;</span>and<span style=\"background-color: hsl(120, 80%, 70%); margin: 0 0.1em 0 0.1em\" title=\"A space symbol\">&emsp;</span>Medicine<span style=\"background-color: hsl(120, 80%, 70%); margin: 0 0.1em 0 0.1em\" title=\"A space symbol\">&emsp;</span>(New<span style=\"background-color: hsl(120, 80%, 70%); margin: 0 0.1em 0 0.1em\" title=\"A space symbol\">&emsp;</span>York,<span style=\"background-color: hsl(120, 80%, 70%); margin: 0 0.1em 0 0.1em\" title=\"A space symbol\">&emsp;</span>N.Y.)&#x27;]\n",
       "            </td>\n",
       "        </tr>\n",
       "    \n",
       "        <tr style=\"background-color: hsl(120, 100.00%, 99.36%); border: none;\">\n",
       "            <td style=\"padding: 0 1em 0 0.5em; text-align: right; border: none;\">\n",
       "                0.0035\n",
       "                \n",
       "                    &plusmn; 0.0305\n",
       "                \n",
       "            </td>\n",
       "            <td style=\"padding: 0 0.5em 0 0.5em; text-align: left; border: none;\">\n",
       "                publisher_UNC<span style=\"background-color: hsl(120, 80%, 70%); margin: 0 0.1em 0 0.1em\" title=\"A space symbol\">&emsp;</span>Press<span style=\"background-color: hsl(120, 80%, 70%); margin: 0 0.1em 0 0.1em\" title=\"A space symbol\">&emsp;</span>Books\n",
       "            </td>\n",
       "        </tr>\n",
       "    \n",
       "        <tr style=\"background-color: hsl(120, 100.00%, 99.39%); border: none;\">\n",
       "            <td style=\"padding: 0 1em 0 0.5em; text-align: right; border: none;\">\n",
       "                0.0033\n",
       "                \n",
       "                    &plusmn; 0.0354\n",
       "                \n",
       "            </td>\n",
       "            <td style=\"padding: 0 0.5em 0 0.5em; text-align: left; border: none;\">\n",
       "                book_id_7T9-BAAAQBAJ\n",
       "            </td>\n",
       "        </tr>\n",
       "    \n",
       "        <tr style=\"background-color: hsl(120, 100.00%, 99.40%); border: none;\">\n",
       "            <td style=\"padding: 0 1em 0 0.5em; text-align: right; border: none;\">\n",
       "                0.0032\n",
       "                \n",
       "                    &plusmn; 0.0460\n",
       "                \n",
       "            </td>\n",
       "            <td style=\"padding: 0 0.5em 0 0.5em; text-align: left; border: none;\">\n",
       "                zipcode_97202.0<span style=\"background-color: hsl(120, 80%, 70%); margin: 0 0 0 0.1em\" title=\"A space symbol\">&emsp;</span>\n",
       "            </td>\n",
       "        </tr>\n",
       "    \n",
       "        <tr style=\"background-color: hsl(120, 100.00%, 99.42%); border: none;\">\n",
       "            <td style=\"padding: 0 1em 0 0.5em; text-align: right; border: none;\">\n",
       "                0.0030\n",
       "                \n",
       "                    &plusmn; 0.0233\n",
       "                \n",
       "            </td>\n",
       "            <td style=\"padding: 0 0.5em 0 0.5em; text-align: left; border: none;\">\n",
       "                categories_Finance\n",
       "            </td>\n",
       "        </tr>\n",
       "    \n",
       "        <tr style=\"background-color: hsl(120, 100.00%, 99.42%); border: none;\">\n",
       "            <td style=\"padding: 0 1em 0 0.5em; text-align: right; border: none;\">\n",
       "                0.0030\n",
       "                \n",
       "                    &plusmn; 0.0261\n",
       "                \n",
       "            </td>\n",
       "            <td style=\"padding: 0 0.5em 0 0.5em; text-align: left; border: none;\">\n",
       "                book_id_ggIKAAAAIAAJ\n",
       "            </td>\n",
       "        </tr>\n",
       "    \n",
       "        <tr style=\"background-color: hsl(120, 100.00%, 99.43%); border: none;\">\n",
       "            <td style=\"padding: 0 1em 0 0.5em; text-align: right; border: none;\">\n",
       "                0.0030\n",
       "                \n",
       "                    &plusmn; 0.0539\n",
       "                \n",
       "            </td>\n",
       "            <td style=\"padding: 0 0.5em 0 0.5em; text-align: left; border: none;\">\n",
       "                zipcode_97214.0\n",
       "            </td>\n",
       "        </tr>\n",
       "    \n",
       "        <tr style=\"background-color: hsl(120, 100.00%, 99.43%); border: none;\">\n",
       "            <td style=\"padding: 0 1em 0 0.5em; text-align: right; border: none;\">\n",
       "                0.0029\n",
       "                \n",
       "                    &plusmn; 0.0315\n",
       "                \n",
       "            </td>\n",
       "            <td style=\"padding: 0 0.5em 0 0.5em; text-align: left; border: none;\">\n",
       "                zipcode_97216.0\n",
       "            </td>\n",
       "        </tr>\n",
       "    \n",
       "        <tr style=\"background-color: hsl(120, 100.00%, 99.45%); border: none;\">\n",
       "            <td style=\"padding: 0 1em 0 0.5em; text-align: right; border: none;\">\n",
       "                0.0028\n",
       "                \n",
       "                    &plusmn; 0.0155\n",
       "                \n",
       "            </td>\n",
       "            <td style=\"padding: 0 0.5em 0 0.5em; text-align: left; border: none;\">\n",
       "                postal_code_97213\n",
       "            </td>\n",
       "        </tr>\n",
       "    \n",
       "        <tr style=\"background-color: hsl(120, 100.00%, 99.45%); border: none;\">\n",
       "            <td style=\"padding: 0 1em 0 0.5em; text-align: right; border: none;\">\n",
       "                0.0028\n",
       "                \n",
       "                    &plusmn; 0.0261\n",
       "                \n",
       "            </td>\n",
       "            <td style=\"padding: 0 0.5em 0 0.5em; text-align: left; border: none;\">\n",
       "                book_id_nxbe7rKy5kkC\n",
       "            </td>\n",
       "        </tr>\n",
       "    \n",
       "        <tr style=\"background-color: hsl(120, 100.00%, 99.46%); border: none;\">\n",
       "            <td style=\"padding: 0 1em 0 0.5em; text-align: right; border: none;\">\n",
       "                0.0027\n",
       "                \n",
       "                    &plusmn; 0.0223\n",
       "                \n",
       "            </td>\n",
       "            <td style=\"padding: 0 0.5em 0 0.5em; text-align: left; border: none;\">\n",
       "                occupation_OTHERS\n",
       "            </td>\n",
       "        </tr>\n",
       "    \n",
       "        <tr style=\"background-color: hsl(120, 100.00%, 99.49%); border: none;\">\n",
       "            <td style=\"padding: 0 1em 0 0.5em; text-align: right; border: none;\">\n",
       "                0.0025\n",
       "                \n",
       "                    &plusmn; 0.0256\n",
       "                \n",
       "            </td>\n",
       "            <td style=\"padding: 0 0.5em 0 0.5em; text-align: left; border: none;\">\n",
       "                education_college\n",
       "            </td>\n",
       "        </tr>\n",
       "    \n",
       "        <tr style=\"background-color: hsl(120, 100.00%, 99.50%); border: none;\">\n",
       "            <td style=\"padding: 0 1em 0 0.5em; text-align: right; border: none;\">\n",
       "                0.0025\n",
       "                \n",
       "                    &plusmn; 0.0365\n",
       "                \n",
       "            </td>\n",
       "            <td style=\"padding: 0 0.5em 0 0.5em; text-align: left; border: none;\">\n",
       "                zipcode_97203.0_\n",
       "            </td>\n",
       "        </tr>\n",
       "    \n",
       "        <tr style=\"background-color: hsl(120, 100.00%, 99.51%); border: none;\">\n",
       "            <td style=\"padding: 0 1em 0 0.5em; text-align: right; border: none;\">\n",
       "                0.0024\n",
       "                \n",
       "                    &plusmn; 0.0155\n",
       "                \n",
       "            </td>\n",
       "            <td style=\"padding: 0 0.5em 0 0.5em; text-align: left; border: none;\">\n",
       "                zipcode_97217.0#\n",
       "            </td>\n",
       "        </tr>\n",
       "    \n",
       "        <tr style=\"background-color: hsl(120, 100.00%, 99.55%); border: none;\">\n",
       "            <td style=\"padding: 0 1em 0 0.5em; text-align: right; border: none;\">\n",
       "                0.0021\n",
       "                \n",
       "                    &plusmn; 0.0333\n",
       "                \n",
       "            </td>\n",
       "            <td style=\"padding: 0 0.5em 0 0.5em; text-align: left; border: none;\">\n",
       "                categories_Water-supply\n",
       "            </td>\n",
       "        </tr>\n",
       "    \n",
       "        <tr style=\"background-color: hsl(120, 100.00%, 99.59%); border: none;\">\n",
       "            <td style=\"padding: 0 1em 0 0.5em; text-align: right; border: none;\">\n",
       "                0.0019\n",
       "                \n",
       "                    &plusmn; 0.0217\n",
       "                \n",
       "            </td>\n",
       "            <td style=\"padding: 0 0.5em 0 0.5em; text-align: left; border: none;\">\n",
       "                book_id_BdxRAQAAMAAJ\n",
       "            </td>\n",
       "        </tr>\n",
       "    \n",
       "        <tr style=\"background-color: hsl(120, 100.00%, 99.61%); border: none;\">\n",
       "            <td style=\"padding: 0 1em 0 0.5em; text-align: right; border: none;\">\n",
       "                0.0017\n",
       "                \n",
       "                    &plusmn; 0.0137\n",
       "                \n",
       "            </td>\n",
       "            <td style=\"padding: 0 0.5em 0 0.5em; text-align: left; border: none;\">\n",
       "                zipcode_97219.0\n",
       "            </td>\n",
       "        </tr>\n",
       "    \n",
       "        <tr style=\"background-color: hsl(120, 100.00%, 99.61%); border: none;\">\n",
       "            <td style=\"padding: 0 1em 0 0.5em; text-align: right; border: none;\">\n",
       "                0.0017\n",
       "                \n",
       "                    &plusmn; 0.0067\n",
       "                \n",
       "            </td>\n",
       "            <td style=\"padding: 0 0.5em 0 0.5em; text-align: left; border: none;\">\n",
       "                education_High<span style=\"background-color: hsl(120, 80%, 70%); margin: 0 0.1em 0 0.1em\" title=\"3 space symbols\">&emsp;&emsp;&emsp;</span>School\n",
       "            </td>\n",
       "        </tr>\n",
       "    \n",
       "        <tr style=\"background-color: hsl(120, 100.00%, 99.62%); border: none;\">\n",
       "            <td style=\"padding: 0 1em 0 0.5em; text-align: right; border: none;\">\n",
       "                0.0017\n",
       "                \n",
       "                    &plusmn; 0.0309\n",
       "                \n",
       "            </td>\n",
       "            <td style=\"padding: 0 0.5em 0 0.5em; text-align: left; border: none;\">\n",
       "                occupation_SALES\n",
       "            </td>\n",
       "        </tr>\n",
       "    \n",
       "        <tr style=\"background-color: hsl(120, 100.00%, 99.62%); border: none;\">\n",
       "            <td style=\"padding: 0 1em 0 0.5em; text-align: right; border: none;\">\n",
       "                0.0016\n",
       "                \n",
       "                    &plusmn; 0.0269\n",
       "                \n",
       "            </td>\n",
       "            <td style=\"padding: 0 0.5em 0 0.5em; text-align: left; border: none;\">\n",
       "                zipcode_97227.0\n",
       "            </td>\n",
       "        </tr>\n",
       "    \n",
       "        <tr style=\"background-color: hsl(120, 100.00%, 99.64%); border: none;\">\n",
       "            <td style=\"padding: 0 1em 0 0.5em; text-align: right; border: none;\">\n",
       "                0.0015\n",
       "                \n",
       "                    &plusmn; 0.0162\n",
       "                \n",
       "            </td>\n",
       "            <td style=\"padding: 0 0.5em 0 0.5em; text-align: left; border: none;\">\n",
       "                weekday_1\n",
       "            </td>\n",
       "        </tr>\n",
       "    \n",
       "        <tr style=\"background-color: hsl(120, 100.00%, 99.66%); border: none;\">\n",
       "            <td style=\"padding: 0 1em 0 0.5em; text-align: right; border: none;\">\n",
       "                0.0014\n",
       "                \n",
       "                    &plusmn; 0.0276\n",
       "                \n",
       "            </td>\n",
       "            <td style=\"padding: 0 0.5em 0 0.5em; text-align: left; border: none;\">\n",
       "                book_id_ygoFAAAAQAAJ\n",
       "            </td>\n",
       "        </tr>\n",
       "    \n",
       "        <tr style=\"background-color: hsl(120, 100.00%, 99.66%); border: none;\">\n",
       "            <td style=\"padding: 0 1em 0 0.5em; text-align: right; border: none;\">\n",
       "                0.0014\n",
       "                \n",
       "                    &plusmn; 0.0384\n",
       "                \n",
       "            </td>\n",
       "            <td style=\"padding: 0 0.5em 0 0.5em; text-align: left; border: none;\">\n",
       "                zipcode_97206.0\n",
       "            </td>\n",
       "        </tr>\n",
       "    \n",
       "    \n",
       "        \n",
       "            <tr style=\"background-color: hsl(120, 100.00%, 99.66%); border: none;\">\n",
       "                <td colspan=\"2\" style=\"padding: 0 0.5em 0 0.5em; text-align: center; border: none; white-space: nowrap;\">\n",
       "                    <i>&hellip; 783 more &hellip;</i>\n",
       "                </td>\n",
       "            </tr>\n",
       "        \n",
       "    \n",
       "    </tbody>\n",
       "</table>\n",
       "    \n",
       "\n",
       "    \n",
       "\n",
       "\n",
       "    \n",
       "\n",
       "    \n",
       "\n",
       "    \n",
       "\n",
       "    \n",
       "\n",
       "    \n",
       "\n",
       "    \n",
       "\n",
       "\n",
       "\n"
      ],
      "text/plain": [
       "Explanation(estimator='GradientBoostingClassifier(learning_rate=0.01, max_depth=4, n_estimators=150,\\n                           random_state=128)', description='\\nRandom forest feature importances; values are numbers 0 <= x <= 1;\\nall values sum to 1.\\n', error=None, method='feature importances', is_regression=False, targets=None, feature_importances=FeatureImportances(importances=[FeatureWeight(feature='city_tualatin', weight=0.4768337748727049, std=0.08052533027698693, value=None), FeatureWeight(feature='city_happyvalley', weight=0.09957012244314328, std=0.0492353950697586, value=None), FeatureWeight(feature='city_portland', weight=0.03821795211831424, std=0.0539342099237605, value=None), FeatureWeight(feature='city_westlinn', weight=0.031195633982459284, std=0.04163349534534493, value=None), FeatureWeight(feature='zipcode_97233.0', weight=0.031042571001319182, std=0.02440744548823547, value=None), FeatureWeight(feature='weekday_2', weight=0.029193144049768652, std=0.029318745010658575, value=None), FeatureWeight(feature='occupation_Education &  Health', weight=0.027784305478547978, std=0.02634291610741406, value=None), FeatureWeight(feature='zipcode_97236.0', weight=0.02312245056900059, std=0.023332320927989786, value=None), FeatureWeight(feature='month_checkout_3', weight=0.022921761536191024, std=0.02936961535606511, value=None), FeatureWeight(feature='book_id_OQ6sDwAAQBAJ', weight=0.013365016907629406, std=0.02074418818000548, value=None), FeatureWeight(feature='zipcode_97231.0#', weight=0.012993804004717764, std=0.03938020276118217, value=None), FeatureWeight(feature='zipcode_97222.0#', weight=0.010164796813263302, std=0.021406942187482462, value=None), FeatureWeight(feature='zipcode_97214.0#', weight=0.009220497201941994, std=0.04217938993518909, value=None), FeatureWeight(feature='zipcode_97080.0', weight=0.008876461882853882, std=0.04102475803171297, value=None), FeatureWeight(feature='categories_Accounting', weight=0.008564954952936849, std=0.015253033025493478, value=None), FeatureWeight(feature='library_id_228-222@5xc-jtz-hwk', weight=0.008470161819276243, std=0.009877514254641116, value=None), FeatureWeight(feature='book_id_8xpKAAAAMAAJ', weight=0.008045937165997176, std=0.015389221813734325, value=None), FeatureWeight(feature='book_id_oObQOTJbpuoC', weight=0.007918833517876193, std=0.02084274483150255, value=None), FeatureWeight(feature='library_id_222-222@5xc-jv5-nt9', weight=0.007916232275400541, std=0.023455598554673156, value=None), FeatureWeight(feature=\"authors_['Massachusetts. Board of Registration and Discipline in Medicine']\", weight=0.007691239364269725, std=0.017890243498673672, value=None), FeatureWeight(feature='city_vancouver', weight=0.007301337967413076, std=0.011887355691698768, value=None), FeatureWeight(feature='price', weight=0.007176683431801602, std=0.01763616936190253, value=None), FeatureWeight(feature=\"authors_['Flemming Hansen', 'Sverre Riis Christensen', 'Steen Lundsteen']\", weight=0.007109115388146783, std=0.020704176026356748, value=None), FeatureWeight(feature='categories_Science', weight=0.005804597275981097, std=0.017043664050222694, value=None), FeatureWeight(feature=\"authors_['Dan Nagle']\", weight=0.005517755790425945, std=0.01714403775238701, value=None), FeatureWeight(feature='postal_code_97204', weight=0.004464393782915867, std=0.023374876850080103, value=None), FeatureWeight(feature='book_age', weight=0.0038598884812855888, std=0.007273561829863688, value=None), FeatureWeight(feature=\"authors_['Society for Experimental Biology and Medicine (New York, N.Y.)']\", weight=0.003631583153123688, std=0.012650392058523943, value=None), FeatureWeight(feature='publisher_UNC Press Books', weight=0.0034879871901972543, std=0.01523215751571689, value=None), FeatureWeight(feature='book_id_7T9-BAAAQBAJ', weight=0.0032842314948049334, std=0.01768998107505736, value=None), FeatureWeight(feature='zipcode_97202.0 ', weight=0.0031607154795746067, std=0.02300492531427484, value=None), FeatureWeight(feature='categories_Finance', weight=0.0030402617871336827, std=0.011635718344985405, value=None), FeatureWeight(feature='book_id_ggIKAAAAIAAJ', weight=0.003011057426776482, std=0.013073689330445632, value=None), FeatureWeight(feature='zipcode_97214.0', weight=0.002985701198187091, std=0.02695144708445195, value=None), FeatureWeight(feature='zipcode_97216.0', weight=0.0029344041499033222, std=0.01576546019417413, value=None), FeatureWeight(feature='postal_code_97213', weight=0.0028336209064019173, std=0.0077698513794127785, value=None), FeatureWeight(feature='book_id_nxbe7rKy5kkC', weight=0.0028196829863003756, std=0.013071727632347051, value=None), FeatureWeight(feature='occupation_OTHERS', weight=0.0027037523670136454, std=0.011129218422265864, value=None), FeatureWeight(feature='education_college', weight=0.0025022045242427474, std=0.012819372508119285, value=None), FeatureWeight(feature='zipcode_97203.0_', weight=0.0024741289182107946, std=0.018240078606622745, value=None), FeatureWeight(feature='zipcode_97217.0#', weight=0.0024108197080550493, std=0.007766922453004452, value=None), FeatureWeight(feature='categories_Water-supply', weight=0.002137010715237383, std=0.016656816827680318, value=None), FeatureWeight(feature='book_id_BdxRAQAAMAAJ', weight=0.0018518432391765338, std=0.01084786491391169, value=None), FeatureWeight(feature='zipcode_97219.0', weight=0.0017435993541599125, std=0.006828635811488782, value=None), FeatureWeight(feature='education_High   School', weight=0.0017098682144678942, std=0.00336392056405616, value=None), FeatureWeight(feature='occupation_SALES', weight=0.0016563237290325578, std=0.015464434550538916, value=None), FeatureWeight(feature='zipcode_97227.0', weight=0.0016403181557270205, std=0.013425309776228652, value=None), FeatureWeight(feature='weekday_1', weight=0.0015350333570280069, std=0.008081144626918172, value=None), FeatureWeight(feature='book_id_ygoFAAAAQAAJ', weight=0.0014281608545503846, std=0.013799734728127079, value=None), FeatureWeight(feature='zipcode_97206.0', weight=0.0013886866298550235, std=0.019178300782591726, value=None)], remaining=783), decision_tree=None, highlight_spaces=None, transition_features=None, image=None)"
      ]
     },
     "execution_count": 74,
     "metadata": {},
     "output_type": "execute_result"
    }
   ],
   "source": [
    "import eli5\n",
    "eli5.explain_weights(gb_pipe.named_steps['gb'], top=50, feature_names=numeric_features_list, \n",
    "                     feature_filter=lambda x: x != '<BIAS>')"
   ]
  },
  {
   "cell_type": "markdown",
   "metadata": {},
   "source": [
    "### looking at the table above, we can see what features are more important in our model: \n",
    "#### city and customer zipcode is much more important than other features, other features such as library's postal code, book's category, and month and week day of checkout are also somehow important in this model."
   ]
  },
  {
   "cell_type": "code",
   "execution_count": 75,
   "metadata": {},
   "outputs": [
    {
     "name": "stdout",
     "output_type": "stream",
     "text": [
      "Collecting xgboost\n",
      "  Downloading xgboost-1.4.2-py3-none-win_amd64.whl (97.8 MB)\n",
      "Requirement already satisfied: scipy in c:\\users\\mahsa\\anaconda3\\lib\\site-packages (from xgboost) (1.6.2)\n",
      "Requirement already satisfied: numpy in c:\\users\\mahsa\\anaconda3\\lib\\site-packages (from xgboost) (1.20.1)\n",
      "Installing collected packages: xgboost\n",
      "Successfully installed xgboost-1.4.2\n",
      "Note: you may need to restart the kernel to use updated packages.\n"
     ]
    }
   ],
   "source": [
    "pip install xgboost"
   ]
  },
  {
   "cell_type": "markdown",
   "metadata": {},
   "source": [
    "### GradientBoostingClassifier model is giving the best results so far. Let's also try XGBClassifier:"
   ]
  },
  {
   "cell_type": "code",
   "execution_count": 76,
   "metadata": {},
   "outputs": [
    {
     "name": "stderr",
     "output_type": "stream",
     "text": [
      "C:\\Users\\mahsa\\Anaconda3\\lib\\site-packages\\xgboost\\sklearn.py:1146: UserWarning: The use of label encoder in XGBClassifier is deprecated and will be removed in a future release. To remove this warning, do the following: 1) Pass option use_label_encoder=False when constructing XGBClassifier object; and 2) Encode your labels (y) as integers starting with 0, i.e. 0, 1, 2, ..., [num_class - 1].\n",
      "  warnings.warn(label_encoder_deprecation_msg, UserWarning)\n"
     ]
    },
    {
     "name": "stdout",
     "output_type": "stream",
     "text": [
      "[12:54:27] WARNING: C:/Users/Administrator/workspace/xgboost-win64_release_1.4.0/src/learner.cc:1095: Starting in XGBoost 1.3.0, the default evaluation metric used with the objective 'binary:logistic' was changed from 'error' to 'logloss'. Explicitly set eval_metric if you'd like to restore the old behavior.\n",
      "xgb evaluation \n",
      "\n",
      "Test accuracy: 0.7441\n",
      "Test precision: 0.8283\n",
      "Test recall: 0.6587\n",
      "Test area under precision-recall curve: 0.8545\n"
     ]
    }
   ],
   "source": [
    "from xgboost import XGBClassifier\n",
    "\n",
    "\n",
    "\n",
    "\n",
    "params={\n",
    "    'n_estimators':150,\n",
    "    'objective': 'binary:logistic',\n",
    "    'learning_rate': 0.02,\n",
    "    'gamma':0.1,\n",
    "    'subsample':0.8,\n",
    "    'colsample_bytree':0.3,\n",
    "    'min_child_weight':4,\n",
    "    'max_depth': 4,\n",
    "    'seed':1024,\n",
    "    }\n",
    "\n",
    "xgb = XGBClassifier(**params)\n",
    "\n",
    "\n",
    "xgb_pipe = Pipeline([('ohe', ohe_final),\n",
    "                    ('xgb', xgb)])\n",
    "\n",
    "\n",
    "xgb_pipe.fit(X_train, y_train)\n",
    "\n",
    "xgb_pipe_scores = model_evaluation(xgb_pipe, X_test, y_test)\n",
    "print_model_evaluation('xgb', xgb_pipe_scores)\n"
   ]
  },
  {
   "cell_type": "markdown",
   "metadata": {},
   "source": [
    "### XGBClassifier is also not doing bad, but GradientBoostingClassifier has given the best results so far. Let's plot all the ROC curves and see the difference there:"
   ]
  },
  {
   "cell_type": "code",
   "execution_count": 77,
   "metadata": {},
   "outputs": [
    {
     "data": {
      "image/png": "[encoded data removed]",
      "text/plain": [
       "<Figure size 432x288 with 1 Axes>"
      ]
     },
     "metadata": {},
     "output_type": "display_data"
    }
   ],
   "source": [
    "import matplotlib.pyplot as plt\n",
    "\n",
    "precisions_lr, recalls_lr, thresholds = metrics.precision_recall_curve(y_test,\n",
    "                                                                 lr_pipe.predict_proba(X_test).T[1])\n",
    "\n",
    "\n",
    "precisions_rf, recalls_rf, thresholds = metrics.precision_recall_curve(y_test,\n",
    "                                                                 rf_pipe.predict_proba(X_test).T[1])\n",
    "\n",
    "\n",
    "precisions_xgb, recalls_xgb, thresholds = metrics.precision_recall_curve(y_test,\n",
    "                                                                 xgb_pipe.predict_proba(X_test).T[1])\n",
    "\n",
    "\n",
    "precisions_gb, recalls_gb, thresholds = metrics.precision_recall_curve(y_test,\n",
    "                                                                 gb_pipe.predict_proba(X_test).T[1])\n",
    "\n",
    "\n",
    "\n",
    "\n",
    "plt.plot(recalls_lr, precisions_lr, c='#ba2121ff', label='logistic regression')\n",
    "plt.plot(recalls_rf, precisions_rf, c='#42a5f5ff', label='random forest')\n",
    "plt.plot(recalls_xgb, precisions_xgb, c='#008000', label='xgboost')\n",
    "plt.plot(recalls_gb, precisions_gb, c='#ff0', label='gb')\n",
    "\n",
    "plt.xlim([0., 1.01])\n",
    "plt.ylim([0., 1.01])\n",
    "plt.xlabel('Recall') \n",
    "plt.ylabel('Precision')\n",
    "plt.title('Precision vs Recall')\n",
    "plt.legend();"
   ]
  },
  {
   "cell_type": "markdown",
   "metadata": {},
   "source": [
    "### How would you present your findings to them to get buy-in? "
   ]
  },
  {
   "cell_type": "markdown",
   "metadata": {},
   "source": [
    "#### One of the critical concerns of libraries is to have requested books available to better serve customers. Otherwise, customers would be disappointed. As shown in figure xxx, all the 18 libraries have some late returns which would result in unavailability of certain books for other customers. Using advanced data analysis approaches, we built a model that predicts the likelihood of a late return of any book at checkout time. In that case, you would know which return would be late, and be well-prepared to manage the situation."
   ]
  },
  {
   "cell_type": "markdown",
   "metadata": {},
   "source": [
    "### What would you recommend the library do to mitigate the risks you find? "
   ]
  },
  {
   "cell_type": "markdown",
   "metadata": {},
   "source": [
    "#### to answer this question, let's look at some plots below:"
   ]
  },
  {
   "cell_type": "code",
   "execution_count": 78,
   "metadata": {},
   "outputs": [],
   "source": [
    "categ = joined.groupby('categories')['late'].sum().sort_values()[-10:]\n",
    "#categ"
   ]
  },
  {
   "cell_type": "code",
   "execution_count": 79,
   "metadata": {},
   "outputs": [
    {
     "data": {
      "text/plain": [
       "<AxesSubplot:xlabel='categories'>"
      ]
     },
     "execution_count": 79,
     "metadata": {},
     "output_type": "execute_result"
    },
    {
     "data": {
      "image/png": "[encoded data removed]",
      "text/plain": [
       "<Figure size 432x288 with 1 Axes>"
      ]
     },
     "metadata": {},
     "output_type": "display_data"
    }
   ],
   "source": [
    "categ.plot(kind= 'bar', stacked= True)"
   ]
  },
  {
   "cell_type": "code",
   "execution_count": 106,
   "metadata": {},
   "outputs": [
    {
     "data": {
      "text/plain": [
       "145"
      ]
     },
     "execution_count": 106,
     "metadata": {},
     "output_type": "execute_result"
    }
   ],
   "source": [
    "len(joined[joined['categories']== \"['Business & Economics']\"])"
   ]
  },
  {
   "cell_type": "code",
   "execution_count": 108,
   "metadata": {},
   "outputs": [
    {
     "data": {
      "text/plain": [
       "0.11973575557390587"
      ]
     },
     "execution_count": 108,
     "metadata": {},
     "output_type": "execute_result"
    }
   ],
   "source": [
    "145/len(joined)"
   ]
  },
  {
   "cell_type": "markdown",
   "metadata": {},
   "source": [
    "#### we can see that only %12 of the books are in Business and economics. Therefore, the plot above shows that people are more likely to return late the books in Business and Economics categories."
   ]
  },
  {
   "cell_type": "code",
   "execution_count": 80,
   "metadata": {},
   "outputs": [],
   "source": [
    "city = joined.groupby('city')['late'].sum().sort_values()[-10:]"
   ]
  },
  {
   "cell_type": "code",
   "execution_count": 81,
   "metadata": {},
   "outputs": [
    {
     "data": {
      "text/plain": [
       "<AxesSubplot:xlabel='city'>"
      ]
     },
     "execution_count": 81,
     "metadata": {},
     "output_type": "execute_result"
    },
    {
     "data": {
      "image/png": "[encoded data removed]",
      "text/plain": [
       "<Figure size 432x288 with 1 Axes>"
      ]
     },
     "metadata": {},
     "output_type": "display_data"
    }
   ],
   "source": [
    "city.plot(kind= 'bar', stacked= True)"
   ]
  },
  {
   "cell_type": "code",
   "execution_count": 91,
   "metadata": {},
   "outputs": [
    {
     "data": {
      "text/plain": [
       "1050"
      ]
     },
     "execution_count": 91,
     "metadata": {},
     "output_type": "execute_result"
    }
   ],
   "source": [
    "len(joined[joined['city']== 'portland'])"
   ]
  },
  {
   "cell_type": "code",
   "execution_count": 92,
   "metadata": {},
   "outputs": [
    {
     "data": {
      "text/plain": [
       "1211"
      ]
     },
     "execution_count": 92,
     "metadata": {},
     "output_type": "execute_result"
    }
   ],
   "source": [
    "len(joined)"
   ]
  },
  {
   "cell_type": "code",
   "execution_count": 93,
   "metadata": {},
   "outputs": [
    {
     "data": {
      "text/plain": [
       "0.8670520231213873"
      ]
     },
     "execution_count": 93,
     "metadata": {},
     "output_type": "execute_result"
    }
   ],
   "source": [
    "1050/1211"
   ]
  },
  {
   "cell_type": "markdown",
   "metadata": {},
   "source": [
    "#### above we can see that the 86 percent of the people in the dataset are from portland, that's why we can see a huge difference between portland and other cities."
   ]
  },
  {
   "cell_type": "code",
   "execution_count": 82,
   "metadata": {},
   "outputs": [],
   "source": [
    "joined['month_checkout'] = joined['date_checkout'].dt.month"
   ]
  },
  {
   "cell_type": "code",
   "execution_count": 83,
   "metadata": {},
   "outputs": [],
   "source": [
    "month_checkout = joined.groupby('month_checkout')['late'].sum()"
   ]
  },
  {
   "cell_type": "code",
   "execution_count": 84,
   "metadata": {},
   "outputs": [
    {
     "data": {
      "text/plain": [
       "<AxesSubplot:xlabel='month_checkout'>"
      ]
     },
     "execution_count": 84,
     "metadata": {},
     "output_type": "execute_result"
    },
    {
     "data": {
      "image/png": "[encoded data removed]",
      "text/plain": [
       "<Figure size 432x288 with 1 Axes>"
      ]
     },
     "metadata": {},
     "output_type": "display_data"
    }
   ],
   "source": [
    "month_checkout.plot(kind= 'bar', stacked= True)"
   ]
  },
  {
   "cell_type": "code",
   "execution_count": 85,
   "metadata": {},
   "outputs": [],
   "source": [
    "joined['weekday'] = joined['date_checkout'].dt.dayofweek\n",
    "week_day = joined.groupby('weekday')['late'].sum()"
   ]
  },
  {
   "cell_type": "code",
   "execution_count": 86,
   "metadata": {},
   "outputs": [
    {
     "data": {
      "text/plain": [
       "<AxesSubplot:xlabel='weekday'>"
      ]
     },
     "execution_count": 86,
     "metadata": {},
     "output_type": "execute_result"
    },
    {
     "data": {
      "image/png": "[encoded data removed]",
      "text/plain": [
       "<Figure size 432x288 with 1 Axes>"
      ]
     },
     "metadata": {},
     "output_type": "display_data"
    }
   ],
   "source": [
    "week_day.plot(kind= 'bar', stacked= True)"
   ]
  },
  {
   "cell_type": "code",
   "execution_count": 87,
   "metadata": {},
   "outputs": [],
   "source": [
    "occ = joined.groupby('occupation')['late'].sum().sort_values()[-10:]"
   ]
  },
  {
   "cell_type": "code",
   "execution_count": 88,
   "metadata": {},
   "outputs": [
    {
     "data": {
      "text/plain": [
       "<AxesSubplot:xlabel='occupation'>"
      ]
     },
     "execution_count": 88,
     "metadata": {},
     "output_type": "execute_result"
    },
    {
     "data": {
      "image/png": "[encoded data removed]",
      "text/plain": [
       "<Figure size 432x288 with 1 Axes>"
      ]
     },
     "metadata": {},
     "output_type": "display_data"
    }
   ],
   "source": [
    "occ.plot(kind= 'bar', stacked= True)"
   ]
  },
  {
   "cell_type": "code",
   "execution_count": 94,
   "metadata": {},
   "outputs": [
    {
     "data": {
      "text/plain": [
       "156"
      ]
     },
     "execution_count": 94,
     "metadata": {},
     "output_type": "execute_result"
    }
   ],
   "source": [
    "len(joined[joined['occupation']== 'Business & Finance'])"
   ]
  },
  {
   "cell_type": "code",
   "execution_count": 99,
   "metadata": {},
   "outputs": [
    {
     "data": {
      "text/plain": [
       "0.12881915772089184"
      ]
     },
     "execution_count": 99,
     "metadata": {},
     "output_type": "execute_result"
    }
   ],
   "source": [
    "156/1211"
   ]
  },
  {
   "cell_type": "code",
   "execution_count": 98,
   "metadata": {},
   "outputs": [
    {
     "data": {
      "text/plain": [
       "169"
      ]
     },
     "execution_count": 98,
     "metadata": {},
     "output_type": "execute_result"
    }
   ],
   "source": [
    "len(joined[joined['occupation']== 'Admin & Support'])"
   ]
  },
  {
   "cell_type": "code",
   "execution_count": 100,
   "metadata": {},
   "outputs": [
    {
     "data": {
      "text/plain": [
       "0.13955408753096615"
      ]
     },
     "execution_count": 100,
     "metadata": {},
     "output_type": "execute_result"
    }
   ],
   "source": [
    "169/1211"
   ]
  },
  {
   "cell_type": "markdown",
   "metadata": {},
   "source": [
    "#### above we can see that only %12 of the people in the dataset are in Business & Finance, and %14 of them are in Admin & support, therefore the plot above shows that people who are in business and finance and in Admin and support are really late most of the time. "
   ]
  },
  {
   "cell_type": "markdown",
   "metadata": {},
   "source": [
    "### As we saw in the plots above:\n",
    "* we can see that some categories are more likely to be returned late. Such as bussines and economics, advertising, etc. \n",
    "    * I recommend the library to have more number of these books in their inventory.\n",
    "* People located in portland are more likely to return their books late. \n",
    "    * For this, we can create a reward program, that monitors the customers who returned their books on time, and reward them(e.g., give them a free book after 10 on time returns, and having no late return in their history.)\n",
    "* We can also notice that there are more late returns in December and January, which makes sense, because people are traveling during the holidays.\n",
    "    * For this, we can increase the late fee for these two months. "
   ]
  },
  {
   "cell_type": "code",
   "execution_count": null,
   "metadata": {},
   "outputs": [],
   "source": []
  }
 ],
 "metadata": {
  "kernelspec": {
   "display_name": "Python 3",
   "language": "python",
   "name": "python3"
  },
  "language_info": {
   "codemirror_mode": {
    "name": "ipython",
    "version": 3
   },
   "file_extension": ".py",
   "mimetype": "text/x-python",
   "name": "python",
   "nbconvert_exporter": "python",
   "pygments_lexer": "ipython3",
   "version": "3.8.8"
  }
 },
 "nbformat": 4,
 "nbformat_minor": 4
}
